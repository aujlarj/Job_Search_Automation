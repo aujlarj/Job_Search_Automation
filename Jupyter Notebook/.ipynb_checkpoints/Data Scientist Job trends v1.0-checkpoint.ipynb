{
 "cells": [
  {
   "cell_type": "markdown",
   "metadata": {},
   "source": [
    "# Data Mining on Indeed job postings"
   ]
  },
  {
   "cell_type": "markdown",
   "metadata": {},
   "source": [
    "### Initalize libraries"
   ]
  },
  {
   "cell_type": "code",
   "execution_count": 7,
   "metadata": {},
   "outputs": [],
   "source": [
    "import pandas as pd\n",
    "import numpy as np\n",
    "import matplotlib.pyplot as plt\n",
    "import seaborn as sns\n",
    "import re\n",
    "sns.set(style=\"darkgrid\")\n",
    "%matplotlib inline"
   ]
  },
  {
   "cell_type": "markdown",
   "metadata": {},
   "source": [
    "#### Load mastered data from .csv"
   ]
  },
  {
   "cell_type": "code",
   "execution_count": 3,
   "metadata": {},
   "outputs": [],
   "source": [
    "data_scientist_trends = pd.read_csv('../Scraped_Data/Data Scientist 2020-05-31.csv', encoding='UTF-8')"
   ]
  },
  {
   "cell_type": "markdown",
   "metadata": {},
   "source": [
    "#### Drop Full Description for now. We will focus on it in another notebook."
   ]
  },
  {
   "cell_type": "code",
   "execution_count": 4,
   "metadata": {},
   "outputs": [],
   "source": [
    "data_scientist_trends = data_scientist_trends.drop(columns=['Full_Description'])"
   ]
  },
  {
   "cell_type": "markdown",
   "metadata": {},
   "source": [
    "#### Explore Dataset"
   ]
  },
  {
   "cell_type": "code",
   "execution_count": 5,
   "metadata": {},
   "outputs": [
    {
     "data": {
      "text/html": [
       "<div>\n",
       "<style scoped>\n",
       "    .dataframe tbody tr th:only-of-type {\n",
       "        vertical-align: middle;\n",
       "    }\n",
       "\n",
       "    .dataframe tbody tr th {\n",
       "        vertical-align: top;\n",
       "    }\n",
       "\n",
       "    .dataframe thead th {\n",
       "        text-align: right;\n",
       "    }\n",
       "</style>\n",
       "<table border=\"1\" class=\"dataframe\">\n",
       "  <thead>\n",
       "    <tr style=\"text-align: right;\">\n",
       "      <th></th>\n",
       "      <th>Primary_Key</th>\n",
       "      <th>Title</th>\n",
       "      <th>Company</th>\n",
       "      <th>Location</th>\n",
       "      <th>Salary</th>\n",
       "      <th>Ratings</th>\n",
       "      <th>Remote_work</th>\n",
       "      <th>Date_posted</th>\n",
       "    </tr>\n",
       "  </thead>\n",
       "  <tbody>\n",
       "    <tr>\n",
       "      <th>0</th>\n",
       "      <td>94f3279c66a2af26</td>\n",
       "      <td>Principal PK/PD Statistical Programmer</td>\n",
       "      <td>Prescribe Data</td>\n",
       "      <td>Toronto, ON</td>\n",
       "      <td>None</td>\n",
       "      <td>None</td>\n",
       "      <td>Remote work available</td>\n",
       "      <td>Just posted</td>\n",
       "    </tr>\n",
       "    <tr>\n",
       "      <th>1</th>\n",
       "      <td>7292631b85b6c5f3</td>\n",
       "      <td>Senior Data Scientist</td>\n",
       "      <td>Tonal</td>\n",
       "      <td>Toronto, ON</td>\n",
       "      <td>None</td>\n",
       "      <td>None</td>\n",
       "      <td>None</td>\n",
       "      <td>1 day ago</td>\n",
       "    </tr>\n",
       "    <tr>\n",
       "      <th>2</th>\n",
       "      <td>9dc10ad7bd2ba391</td>\n",
       "      <td>Applied Scientist</td>\n",
       "      <td>Cyclica</td>\n",
       "      <td>Toronto, ON</td>\n",
       "      <td>None</td>\n",
       "      <td>None</td>\n",
       "      <td>None</td>\n",
       "      <td>2 days ago</td>\n",
       "    </tr>\n",
       "    <tr>\n",
       "      <th>3</th>\n",
       "      <td>7c88fbde01e34960</td>\n",
       "      <td>Product Manager â€“ Enterprise Data and Analytics</td>\n",
       "      <td>Real Matters</td>\n",
       "      <td>Toronto, ON</td>\n",
       "      <td>None</td>\n",
       "      <td>2</td>\n",
       "      <td>Remote work available</td>\n",
       "      <td>2 days ago</td>\n",
       "    </tr>\n",
       "    <tr>\n",
       "      <th>4</th>\n",
       "      <td>d4953b2cd0f46973</td>\n",
       "      <td>Senior Data Analyst, Investigations</td>\n",
       "      <td>Investment Industry Reg Org of Canada</td>\n",
       "      <td>Toronto, ON</td>\n",
       "      <td>None</td>\n",
       "      <td>None</td>\n",
       "      <td>None</td>\n",
       "      <td>2 days ago</td>\n",
       "    </tr>\n",
       "  </tbody>\n",
       "</table>\n",
       "</div>"
      ],
      "text/plain": [
       "        Primary_Key                                              Title  \\\n",
       "0  94f3279c66a2af26             Principal PK/PD Statistical Programmer   \n",
       "1  7292631b85b6c5f3                              Senior Data Scientist   \n",
       "2  9dc10ad7bd2ba391                                  Applied Scientist   \n",
       "3  7c88fbde01e34960  Product Manager â€“ Enterprise Data and Analytics   \n",
       "4  d4953b2cd0f46973                Senior Data Analyst, Investigations   \n",
       "\n",
       "                                 Company     Location Salary Ratings  \\\n",
       "0                         Prescribe Data  Toronto, ON   None    None   \n",
       "1                                  Tonal  Toronto, ON   None    None   \n",
       "2                                Cyclica  Toronto, ON   None    None   \n",
       "3                           Real Matters  Toronto, ON   None       2   \n",
       "4  Investment Industry Reg Org of Canada  Toronto, ON   None    None   \n",
       "\n",
       "             Remote_work  Date_posted  \n",
       "0  Remote work available  Just posted  \n",
       "1                   None    1 day ago  \n",
       "2                   None   2 days ago  \n",
       "3  Remote work available   2 days ago  \n",
       "4                   None   2 days ago  "
      ]
     },
     "execution_count": 5,
     "metadata": {},
     "output_type": "execute_result"
    }
   ],
   "source": [
    "data_scientist_trends.head()"
   ]
  },
  {
   "cell_type": "code",
   "execution_count": 8,
   "metadata": {},
   "outputs": [
    {
     "name": "stdout",
     "output_type": "stream",
     "text": [
      "<class 'pandas.core.frame.DataFrame'>\n",
      "RangeIndex: 2676 entries, 0 to 2675\n",
      "Data columns (total 8 columns):\n",
      " #   Column       Non-Null Count  Dtype \n",
      "---  ------       --------------  ----- \n",
      " 0   Primary_Key  2676 non-null   object\n",
      " 1   Title        2676 non-null   object\n",
      " 2   Company      2676 non-null   object\n",
      " 3   Location     2676 non-null   object\n",
      " 4   Salary       2676 non-null   object\n",
      " 5   Ratings      2676 non-null   object\n",
      " 6   Remote_work  2676 non-null   object\n",
      " 7   Date_posted  2676 non-null   object\n",
      "dtypes: object(8)\n",
      "memory usage: 167.4+ KB\n"
     ]
    }
   ],
   "source": [
    "data_scientist_trends.info()"
   ]
  },
  {
   "cell_type": "code",
   "execution_count": 9,
   "metadata": {},
   "outputs": [
    {
     "data": {
      "text/html": [
       "<div>\n",
       "<style scoped>\n",
       "    .dataframe tbody tr th:only-of-type {\n",
       "        vertical-align: middle;\n",
       "    }\n",
       "\n",
       "    .dataframe tbody tr th {\n",
       "        vertical-align: top;\n",
       "    }\n",
       "\n",
       "    .dataframe thead th {\n",
       "        text-align: right;\n",
       "    }\n",
       "</style>\n",
       "<table border=\"1\" class=\"dataframe\">\n",
       "  <thead>\n",
       "    <tr style=\"text-align: right;\">\n",
       "      <th></th>\n",
       "      <th>Primary_Key</th>\n",
       "      <th>Title</th>\n",
       "      <th>Company</th>\n",
       "      <th>Location</th>\n",
       "      <th>Salary</th>\n",
       "      <th>Ratings</th>\n",
       "      <th>Remote_work</th>\n",
       "      <th>Date_posted</th>\n",
       "    </tr>\n",
       "  </thead>\n",
       "  <tbody>\n",
       "    <tr>\n",
       "      <th>count</th>\n",
       "      <td>2676</td>\n",
       "      <td>2676</td>\n",
       "      <td>2676</td>\n",
       "      <td>2676</td>\n",
       "      <td>2676</td>\n",
       "      <td>2676</td>\n",
       "      <td>2676</td>\n",
       "      <td>2676</td>\n",
       "    </tr>\n",
       "    <tr>\n",
       "      <th>unique</th>\n",
       "      <td>2676</td>\n",
       "      <td>1764</td>\n",
       "      <td>1289</td>\n",
       "      <td>423</td>\n",
       "      <td>118</td>\n",
       "      <td>31</td>\n",
       "      <td>2</td>\n",
       "      <td>31</td>\n",
       "    </tr>\n",
       "    <tr>\n",
       "      <th>top</th>\n",
       "      <td>ae200a66e92e4ef5</td>\n",
       "      <td>Data Scientist</td>\n",
       "      <td>Amazon.com Services LLC</td>\n",
       "      <td>Seattle, WA</td>\n",
       "      <td>None</td>\n",
       "      <td>None</td>\n",
       "      <td>None</td>\n",
       "      <td>30+ days ago</td>\n",
       "    </tr>\n",
       "    <tr>\n",
       "      <th>freq</th>\n",
       "      <td>1</td>\n",
       "      <td>269</td>\n",
       "      <td>200</td>\n",
       "      <td>277</td>\n",
       "      <td>2542</td>\n",
       "      <td>751</td>\n",
       "      <td>2496</td>\n",
       "      <td>1791</td>\n",
       "    </tr>\n",
       "  </tbody>\n",
       "</table>\n",
       "</div>"
      ],
      "text/plain": [
       "             Primary_Key           Title                  Company  \\\n",
       "count               2676            2676                     2676   \n",
       "unique              2676            1764                     1289   \n",
       "top     ae200a66e92e4ef5  Data Scientist  Amazon.com Services LLC   \n",
       "freq                   1             269                      200   \n",
       "\n",
       "           Location Salary Ratings Remote_work   Date_posted  \n",
       "count          2676   2676    2676        2676          2676  \n",
       "unique          423    118      31           2            31  \n",
       "top     Seattle, WA   None    None        None  30+ days ago  \n",
       "freq            277   2542     751        2496          1791  "
      ]
     },
     "execution_count": 9,
     "metadata": {},
     "output_type": "execute_result"
    }
   ],
   "source": [
    "data_scientist_trends.describe(include='all')"
   ]
  },
  {
   "cell_type": "code",
   "execution_count": 10,
   "metadata": {},
   "outputs": [
    {
     "data": {
      "text/plain": [
       "Primary_Key    object\n",
       "Title          object\n",
       "Company        object\n",
       "Location       object\n",
       "Salary         object\n",
       "Ratings        object\n",
       "Remote_work    object\n",
       "Date_posted    object\n",
       "dtype: object"
      ]
     },
     "execution_count": 10,
     "metadata": {},
     "output_type": "execute_result"
    }
   ],
   "source": [
    "data_scientist_trends.dtypes"
   ]
  },
  {
   "cell_type": "markdown",
   "metadata": {},
   "source": [
    "## Explore Ratings"
   ]
  },
  {
   "cell_type": "code",
   "execution_count": 11,
   "metadata": {},
   "outputs": [],
   "source": [
    "ratings_df = data_scientist_trends[['Ratings']] "
   ]
  },
  {
   "cell_type": "code",
   "execution_count": 12,
   "metadata": {},
   "outputs": [
    {
     "data": {
      "text/html": [
       "<div>\n",
       "<style scoped>\n",
       "    .dataframe tbody tr th:only-of-type {\n",
       "        vertical-align: middle;\n",
       "    }\n",
       "\n",
       "    .dataframe tbody tr th {\n",
       "        vertical-align: top;\n",
       "    }\n",
       "\n",
       "    .dataframe thead th {\n",
       "        text-align: right;\n",
       "    }\n",
       "</style>\n",
       "<table border=\"1\" class=\"dataframe\">\n",
       "  <thead>\n",
       "    <tr style=\"text-align: right;\">\n",
       "      <th></th>\n",
       "      <th>Ratings</th>\n",
       "    </tr>\n",
       "  </thead>\n",
       "  <tbody>\n",
       "    <tr>\n",
       "      <th>0</th>\n",
       "      <td>None</td>\n",
       "    </tr>\n",
       "    <tr>\n",
       "      <th>1</th>\n",
       "      <td>None</td>\n",
       "    </tr>\n",
       "    <tr>\n",
       "      <th>2</th>\n",
       "      <td>None</td>\n",
       "    </tr>\n",
       "    <tr>\n",
       "      <th>3</th>\n",
       "      <td>2</td>\n",
       "    </tr>\n",
       "    <tr>\n",
       "      <th>4</th>\n",
       "      <td>None</td>\n",
       "    </tr>\n",
       "  </tbody>\n",
       "</table>\n",
       "</div>"
      ],
      "text/plain": [
       "  Ratings\n",
       "0    None\n",
       "1    None\n",
       "2    None\n",
       "3       2\n",
       "4    None"
      ]
     },
     "execution_count": 12,
     "metadata": {},
     "output_type": "execute_result"
    }
   ],
   "source": [
    "ratings_df.head()"
   ]
  },
  {
   "cell_type": "code",
   "execution_count": 13,
   "metadata": {},
   "outputs": [
    {
     "name": "stdout",
     "output_type": "stream",
     "text": [
      "None    751\n",
      "3.6     361\n",
      "4       237\n",
      "3.8     213\n",
      "4.2     204\n",
      "3.9     164\n",
      "4.1     135\n",
      "3.7      95\n",
      "4.3      79\n",
      "3.5      77\n",
      "3.4      67\n",
      "3.3      42\n",
      "4.4      33\n",
      "4.5      27\n",
      "5        24\n",
      "3.2      24\n",
      "3        23\n",
      "4.8      18\n",
      "2.7      17\n",
      "2.8      17\n",
      "3.1      15\n",
      "4.7      13\n",
      "2.9      10\n",
      "4.6      10\n",
      "2         6\n",
      "2.2       5\n",
      "2.6       4\n",
      "2.5       2\n",
      "Name: Ratings, dtype: int64\n"
     ]
    }
   ],
   "source": [
    "Ratings_count = ratings_df.Ratings.value_counts()\n",
    "print(Ratings_count[Ratings_count>1])"
   ]
  },
  {
   "cell_type": "code",
   "execution_count": 14,
   "metadata": {},
   "outputs": [
    {
     "data": {
      "text/plain": [
       "<matplotlib.axes._subplots.AxesSubplot at 0x202000daa48>"
      ]
     },
     "execution_count": 14,
     "metadata": {},
     "output_type": "execute_result"
    },
    {
     "data": {
      "image/png": "[encoded data removed]",
      "text/plain": [
       "<Figure size 720x720 with 1 Axes>"
      ]
     },
     "metadata": {
      "needs_background": "light"
     },
     "output_type": "display_data"
    }
   ],
   "source": [
    "plt.rcParams['figure.figsize'] = [10, 10]\n",
    "ratings_df.Ratings.value_counts().sort_values().plot(kind = 'bar',edgecolor='black',\n",
    "                                                     linewidth='1', grid=True, x = 'Count', y = 'Ratings')"
   ]
  },
  {
   "cell_type": "code",
   "execution_count": 15,
   "metadata": {},
   "outputs": [
    {
     "data": {
      "text/plain": [
       "count     31.000000\n",
       "mean      86.322581\n",
       "std      151.010460\n",
       "min        1.000000\n",
       "25%       10.000000\n",
       "50%       24.000000\n",
       "75%       87.000000\n",
       "max      751.000000\n",
       "Name: Ratings, dtype: float64"
      ]
     },
     "execution_count": 15,
     "metadata": {},
     "output_type": "execute_result"
    }
   ],
   "source": [
    "Ratings_count.describe(include='all')"
   ]
  },
  {
   "cell_type": "markdown",
   "metadata": {},
   "source": [
    "#### Drop <i> 'None' </i>"
   ]
  },
  {
   "cell_type": "code",
   "execution_count": 16,
   "metadata": {},
   "outputs": [],
   "source": [
    "ratings_df = ratings_df[ratings_df.Ratings != 'None']"
   ]
  },
  {
   "cell_type": "code",
   "execution_count": 17,
   "metadata": {},
   "outputs": [
    {
     "data": {
      "text/plain": [
       "<matplotlib.axes._subplots.AxesSubplot at 0x202006de908>"
      ]
     },
     "execution_count": 17,
     "metadata": {},
     "output_type": "execute_result"
    },
    {
     "data": {
      "image/png": "[encoded data removed]",
      "text/plain": [
       "<Figure size 720x720 with 1 Axes>"
      ]
     },
     "metadata": {
      "needs_background": "light"
     },
     "output_type": "display_data"
    }
   ],
   "source": [
    "plt.rcParams['figure.figsize'] = [10, 10]\n",
    "ratings_df.Ratings.value_counts().sort_values().plot(kind = 'barh',edgecolor='black',\n",
    "                                                     linewidth='1', grid=True, x = 'Count', y = 'Ratings')"
   ]
  },
  {
   "cell_type": "markdown",
   "metadata": {},
   "source": [
    "#### Categorize rating with 0.5 diffenrence.\n",
    "<i>Example: 0 - 0.5 - 1.0 - 1.5 - 2.0 .... 4.5 - 5.0"
   ]
  },
  {
   "cell_type": "code",
   "execution_count": 18,
   "metadata": {},
   "outputs": [
    {
     "data": {
      "text/plain": [
       "dtype('O')"
      ]
     },
     "execution_count": 18,
     "metadata": {},
     "output_type": "execute_result"
    }
   ],
   "source": [
    "ratings_df['Ratings'].dtypes"
   ]
  },
  {
   "cell_type": "code",
   "execution_count": 19,
   "metadata": {},
   "outputs": [
    {
     "data": {
      "text/plain": [
       "dtype('float64')"
      ]
     },
     "execution_count": 19,
     "metadata": {},
     "output_type": "execute_result"
    }
   ],
   "source": [
    "# Change column type to float\n",
    "ratings_df['Ratings'] = ratings_df['Ratings'].astype(float)\n",
    "ratings_df['Ratings'].dtypes"
   ]
  },
  {
   "cell_type": "code",
   "execution_count": 20,
   "metadata": {},
   "outputs": [],
   "source": [
    "# Create a new column with mod of 0.5\n",
    "ratings_df['Mod'] = ratings_df.Ratings % 0.5"
   ]
  },
  {
   "cell_type": "code",
   "execution_count": 21,
   "metadata": {},
   "outputs": [
    {
     "data": {
      "text/plain": [
       "dtype('float64')"
      ]
     },
     "execution_count": 21,
     "metadata": {},
     "output_type": "execute_result"
    }
   ],
   "source": [
    "ratings_df.Mod.dtypes"
   ]
  },
  {
   "cell_type": "code",
   "execution_count": 22,
   "metadata": {},
   "outputs": [
    {
     "data": {
      "text/html": [
       "<div>\n",
       "<style scoped>\n",
       "    .dataframe tbody tr th:only-of-type {\n",
       "        vertical-align: middle;\n",
       "    }\n",
       "\n",
       "    .dataframe tbody tr th {\n",
       "        vertical-align: top;\n",
       "    }\n",
       "\n",
       "    .dataframe thead th {\n",
       "        text-align: right;\n",
       "    }\n",
       "</style>\n",
       "<table border=\"1\" class=\"dataframe\">\n",
       "  <thead>\n",
       "    <tr style=\"text-align: right;\">\n",
       "      <th></th>\n",
       "      <th>Ratings</th>\n",
       "      <th>Mod</th>\n",
       "    </tr>\n",
       "  </thead>\n",
       "  <tbody>\n",
       "    <tr>\n",
       "      <th>3</th>\n",
       "      <td>2.0</td>\n",
       "      <td>0.0</td>\n",
       "    </tr>\n",
       "    <tr>\n",
       "      <th>5</th>\n",
       "      <td>2.2</td>\n",
       "      <td>0.2</td>\n",
       "    </tr>\n",
       "    <tr>\n",
       "      <th>8</th>\n",
       "      <td>3.9</td>\n",
       "      <td>0.4</td>\n",
       "    </tr>\n",
       "    <tr>\n",
       "      <th>9</th>\n",
       "      <td>3.9</td>\n",
       "      <td>0.4</td>\n",
       "    </tr>\n",
       "    <tr>\n",
       "      <th>10</th>\n",
       "      <td>3.9</td>\n",
       "      <td>0.4</td>\n",
       "    </tr>\n",
       "  </tbody>\n",
       "</table>\n",
       "</div>"
      ],
      "text/plain": [
       "    Ratings  Mod\n",
       "3       2.0  0.0\n",
       "5       2.2  0.2\n",
       "8       3.9  0.4\n",
       "9       3.9  0.4\n",
       "10      3.9  0.4"
      ]
     },
     "execution_count": 22,
     "metadata": {},
     "output_type": "execute_result"
    }
   ],
   "source": [
    "ratings_df.head()"
   ]
  },
  {
   "cell_type": "markdown",
   "metadata": {},
   "source": [
    "for some reason the <b>Mod column is acting strange.</b> i.e. showing multiple values of 0.1 and 0.4"
   ]
  },
  {
   "cell_type": "code",
   "execution_count": 23,
   "metadata": {},
   "outputs": [
    {
     "data": {
      "text/plain": [
       "array([0. , 0.2, 0.4, 0.3, 0.1, 0.1, 0.4])"
      ]
     },
     "execution_count": 23,
     "metadata": {},
     "output_type": "execute_result"
    }
   ],
   "source": [
    "ratings_df.Mod.unique()"
   ]
  },
  {
   "cell_type": "markdown",
   "metadata": {},
   "source": [
    "created a <b>work around</b> this discrepancy. That <b>only fits this particular solution</b>"
   ]
  },
  {
   "cell_type": "code",
   "execution_count": 24,
   "metadata": {},
   "outputs": [],
   "source": [
    "ratings_df['Mod'] = np.where(ratings_df.Mod < 0.3, ratings_df.Mod * -1 , ratings_df.Mod)"
   ]
  },
  {
   "cell_type": "code",
   "execution_count": 25,
   "metadata": {},
   "outputs": [
    {
     "data": {
      "text/plain": [
       "array([-0. , -0.2,  0.4, -0.3, -0.1, -0.1,  0.4])"
      ]
     },
     "execution_count": 25,
     "metadata": {},
     "output_type": "execute_result"
    }
   ],
   "source": [
    "ratings_df.Mod.unique()"
   ]
  },
  {
   "cell_type": "code",
   "execution_count": 26,
   "metadata": {},
   "outputs": [],
   "source": [
    "ratings_df['Mod'] = np.where(ratings_df.Mod > 0.3, 0.1 , ratings_df.Mod)"
   ]
  },
  {
   "cell_type": "code",
   "execution_count": 27,
   "metadata": {},
   "outputs": [
    {
     "data": {
      "text/plain": [
       "array([-0. , -0.2,  0.1, -0.3, -0.1, -0.1])"
      ]
     },
     "execution_count": 27,
     "metadata": {},
     "output_type": "execute_result"
    }
   ],
   "source": [
    "ratings_df.Mod.unique()"
   ]
  },
  {
   "cell_type": "code",
   "execution_count": 28,
   "metadata": {},
   "outputs": [],
   "source": [
    "ratings_df['Mod'] = np.where(ratings_df.Mod < -0.25, 0.2 , ratings_df.Mod)"
   ]
  },
  {
   "cell_type": "code",
   "execution_count": 29,
   "metadata": {},
   "outputs": [
    {
     "data": {
      "text/plain": [
       "array([-0. , -0.2,  0.1,  0.2, -0.1, -0.1])"
      ]
     },
     "execution_count": 29,
     "metadata": {},
     "output_type": "execute_result"
    }
   ],
   "source": [
    "ratings_df.Mod.unique()"
   ]
  },
  {
   "cell_type": "code",
   "execution_count": 30,
   "metadata": {},
   "outputs": [
    {
     "data": {
      "text/html": [
       "<div>\n",
       "<style scoped>\n",
       "    .dataframe tbody tr th:only-of-type {\n",
       "        vertical-align: middle;\n",
       "    }\n",
       "\n",
       "    .dataframe tbody tr th {\n",
       "        vertical-align: top;\n",
       "    }\n",
       "\n",
       "    .dataframe thead th {\n",
       "        text-align: right;\n",
       "    }\n",
       "</style>\n",
       "<table border=\"1\" class=\"dataframe\">\n",
       "  <thead>\n",
       "    <tr style=\"text-align: right;\">\n",
       "      <th></th>\n",
       "      <th>Ratings</th>\n",
       "      <th>Mod</th>\n",
       "    </tr>\n",
       "  </thead>\n",
       "  <tbody>\n",
       "    <tr>\n",
       "      <th>3</th>\n",
       "      <td>2.0</td>\n",
       "      <td>-0.0</td>\n",
       "    </tr>\n",
       "    <tr>\n",
       "      <th>5</th>\n",
       "      <td>2.2</td>\n",
       "      <td>-0.2</td>\n",
       "    </tr>\n",
       "    <tr>\n",
       "      <th>8</th>\n",
       "      <td>3.9</td>\n",
       "      <td>0.1</td>\n",
       "    </tr>\n",
       "    <tr>\n",
       "      <th>9</th>\n",
       "      <td>3.9</td>\n",
       "      <td>0.1</td>\n",
       "    </tr>\n",
       "    <tr>\n",
       "      <th>10</th>\n",
       "      <td>3.9</td>\n",
       "      <td>0.1</td>\n",
       "    </tr>\n",
       "  </tbody>\n",
       "</table>\n",
       "</div>"
      ],
      "text/plain": [
       "    Ratings  Mod\n",
       "3       2.0 -0.0\n",
       "5       2.2 -0.2\n",
       "8       3.9  0.1\n",
       "9       3.9  0.1\n",
       "10      3.9  0.1"
      ]
     },
     "execution_count": 30,
     "metadata": {},
     "output_type": "execute_result"
    }
   ],
   "source": [
    "ratings_df.head()"
   ]
  },
  {
   "cell_type": "markdown",
   "metadata": {},
   "source": [
    "#### New column with categorised values"
   ]
  },
  {
   "cell_type": "code",
   "execution_count": 31,
   "metadata": {},
   "outputs": [],
   "source": [
    "ratings_df['New'] = ratings_df['Ratings'] + ratings_df['Mod']"
   ]
  },
  {
   "cell_type": "code",
   "execution_count": 32,
   "metadata": {},
   "outputs": [
    {
     "data": {
      "text/html": [
       "<div>\n",
       "<style scoped>\n",
       "    .dataframe tbody tr th:only-of-type {\n",
       "        vertical-align: middle;\n",
       "    }\n",
       "\n",
       "    .dataframe tbody tr th {\n",
       "        vertical-align: top;\n",
       "    }\n",
       "\n",
       "    .dataframe thead th {\n",
       "        text-align: right;\n",
       "    }\n",
       "</style>\n",
       "<table border=\"1\" class=\"dataframe\">\n",
       "  <thead>\n",
       "    <tr style=\"text-align: right;\">\n",
       "      <th></th>\n",
       "      <th>Ratings</th>\n",
       "      <th>Mod</th>\n",
       "      <th>New</th>\n",
       "    </tr>\n",
       "  </thead>\n",
       "  <tbody>\n",
       "    <tr>\n",
       "      <th>3</th>\n",
       "      <td>2.0</td>\n",
       "      <td>-0.0</td>\n",
       "      <td>2.0</td>\n",
       "    </tr>\n",
       "    <tr>\n",
       "      <th>5</th>\n",
       "      <td>2.2</td>\n",
       "      <td>-0.2</td>\n",
       "      <td>2.0</td>\n",
       "    </tr>\n",
       "    <tr>\n",
       "      <th>8</th>\n",
       "      <td>3.9</td>\n",
       "      <td>0.1</td>\n",
       "      <td>4.0</td>\n",
       "    </tr>\n",
       "    <tr>\n",
       "      <th>9</th>\n",
       "      <td>3.9</td>\n",
       "      <td>0.1</td>\n",
       "      <td>4.0</td>\n",
       "    </tr>\n",
       "    <tr>\n",
       "      <th>10</th>\n",
       "      <td>3.9</td>\n",
       "      <td>0.1</td>\n",
       "      <td>4.0</td>\n",
       "    </tr>\n",
       "    <tr>\n",
       "      <th>...</th>\n",
       "      <td>...</td>\n",
       "      <td>...</td>\n",
       "      <td>...</td>\n",
       "    </tr>\n",
       "    <tr>\n",
       "      <th>2670</th>\n",
       "      <td>3.7</td>\n",
       "      <td>-0.2</td>\n",
       "      <td>3.5</td>\n",
       "    </tr>\n",
       "    <tr>\n",
       "      <th>2671</th>\n",
       "      <td>4.2</td>\n",
       "      <td>-0.2</td>\n",
       "      <td>4.0</td>\n",
       "    </tr>\n",
       "    <tr>\n",
       "      <th>2672</th>\n",
       "      <td>4.0</td>\n",
       "      <td>-0.0</td>\n",
       "      <td>4.0</td>\n",
       "    </tr>\n",
       "    <tr>\n",
       "      <th>2674</th>\n",
       "      <td>4.2</td>\n",
       "      <td>-0.2</td>\n",
       "      <td>4.0</td>\n",
       "    </tr>\n",
       "    <tr>\n",
       "      <th>2675</th>\n",
       "      <td>4.2</td>\n",
       "      <td>-0.2</td>\n",
       "      <td>4.0</td>\n",
       "    </tr>\n",
       "  </tbody>\n",
       "</table>\n",
       "<p>1925 rows × 3 columns</p>\n",
       "</div>"
      ],
      "text/plain": [
       "      Ratings  Mod  New\n",
       "3         2.0 -0.0  2.0\n",
       "5         2.2 -0.2  2.0\n",
       "8         3.9  0.1  4.0\n",
       "9         3.9  0.1  4.0\n",
       "10        3.9  0.1  4.0\n",
       "...       ...  ...  ...\n",
       "2670      3.7 -0.2  3.5\n",
       "2671      4.2 -0.2  4.0\n",
       "2672      4.0 -0.0  4.0\n",
       "2674      4.2 -0.2  4.0\n",
       "2675      4.2 -0.2  4.0\n",
       "\n",
       "[1925 rows x 3 columns]"
      ]
     },
     "execution_count": 32,
     "metadata": {},
     "output_type": "execute_result"
    }
   ],
   "source": [
    "ratings_df"
   ]
  },
  {
   "cell_type": "code",
   "execution_count": 33,
   "metadata": {},
   "outputs": [
    {
     "data": {
      "text/plain": [
       "<matplotlib.axes._subplots.AxesSubplot at 0x20200548148>"
      ]
     },
     "execution_count": 33,
     "metadata": {},
     "output_type": "execute_result"
    },
    {
     "data": {
      "image/png": "[encoded data removed]",
      "text/plain": [
       "<Figure size 720x360 with 1 Axes>"
      ]
     },
     "metadata": {
      "needs_background": "light"
     },
     "output_type": "display_data"
    }
   ],
   "source": [
    "plt.rcParams['figure.figsize'] = [10, 5]\n",
    "ratings_df.New.value_counts().sort_values().plot(kind = 'barh',edgecolor='black',\n",
    "                                                     linewidth='1', grid=True, x = 'Count', y = 'Ratings')"
   ]
  },
  {
   "cell_type": "markdown",
   "metadata": {},
   "source": [
    "## Explore Location"
   ]
  },
  {
   "cell_type": "code",
   "execution_count": 34,
   "metadata": {},
   "outputs": [],
   "source": [
    "Location_df = data_scientist_trends[['Location']].copy()"
   ]
  },
  {
   "cell_type": "code",
   "execution_count": 35,
   "metadata": {},
   "outputs": [
    {
     "data": {
      "text/html": [
       "<div>\n",
       "<style scoped>\n",
       "    .dataframe tbody tr th:only-of-type {\n",
       "        vertical-align: middle;\n",
       "    }\n",
       "\n",
       "    .dataframe tbody tr th {\n",
       "        vertical-align: top;\n",
       "    }\n",
       "\n",
       "    .dataframe thead th {\n",
       "        text-align: right;\n",
       "    }\n",
       "</style>\n",
       "<table border=\"1\" class=\"dataframe\">\n",
       "  <thead>\n",
       "    <tr style=\"text-align: right;\">\n",
       "      <th></th>\n",
       "      <th>Location</th>\n",
       "    </tr>\n",
       "  </thead>\n",
       "  <tbody>\n",
       "    <tr>\n",
       "      <th>count</th>\n",
       "      <td>2676</td>\n",
       "    </tr>\n",
       "    <tr>\n",
       "      <th>unique</th>\n",
       "      <td>423</td>\n",
       "    </tr>\n",
       "    <tr>\n",
       "      <th>top</th>\n",
       "      <td>Seattle, WA</td>\n",
       "    </tr>\n",
       "    <tr>\n",
       "      <th>freq</th>\n",
       "      <td>277</td>\n",
       "    </tr>\n",
       "  </tbody>\n",
       "</table>\n",
       "</div>"
      ],
      "text/plain": [
       "           Location\n",
       "count          2676\n",
       "unique          423\n",
       "top     Seattle, WA\n",
       "freq            277"
      ]
     },
     "execution_count": 35,
     "metadata": {},
     "output_type": "execute_result"
    }
   ],
   "source": [
    "Location_df.describe(include='all')"
   ]
  },
  {
   "cell_type": "markdown",
   "metadata": {},
   "source": [
    "In my <b>earlier version</b> of data scraping code.I scared all location data <b>with seprator '|'.</b> Now i have to remove the extra info, that is the zip/postal codes mostly. To just <b>get the city and state</b>"
   ]
  },
  {
   "cell_type": "code",
   "execution_count": 36,
   "metadata": {},
   "outputs": [],
   "source": [
    "Location_df['Location'] = Location_df['Location'].str.split('|').str[0]\n",
    "Location_df['Location'] = Location_df['Location'].str.strip()"
   ]
  },
  {
   "cell_type": "code",
   "execution_count": 38,
   "metadata": {},
   "outputs": [
    {
     "data": {
      "text/plain": [
       "count            2676\n",
       "unique            338\n",
       "top       Seattle, WA\n",
       "freq              278\n",
       "Name: Location, dtype: object"
      ]
     },
     "execution_count": 38,
     "metadata": {},
     "output_type": "execute_result"
    }
   ],
   "source": [
    "Location_df.Location.describe()"
   ]
  },
  {
   "cell_type": "code",
   "execution_count": 39,
   "metadata": {},
   "outputs": [
    {
     "data": {
      "text/plain": [
       "0    Toronto, ON\n",
       "1    Toronto, ON\n",
       "2    Toronto, ON\n",
       "3    Toronto, ON\n",
       "4    Toronto, ON\n",
       "Name: Location, dtype: object"
      ]
     },
     "execution_count": 39,
     "metadata": {},
     "output_type": "execute_result"
    }
   ],
   "source": [
    "Location_df.Location.head()"
   ]
  },
  {
   "cell_type": "code",
   "execution_count": 40,
   "metadata": {},
   "outputs": [
    {
     "name": "stdout",
     "output_type": "stream",
     "text": [
      "Seattle, WA                      278\n",
      "New York, NY                     214\n",
      "San Francisco, CA                186\n",
      "Washington, DC                    97\n",
      "Toronto, ON                       91\n",
      "MontrÃ©al, QC                     72\n",
      "Austin, TX                        65\n",
      "Los Angeles, CA                   50\n",
      "San Francisco, CA 94103           43\n",
      "McLean, VA                        43\n",
      "Redmond, WA                       42\n",
      "Vancouver, BC                     39\n",
      "Arlington, VA                     31\n",
      "McLean, VA 22102                  30\n",
      "San Francisco, CA 94105           28\n",
      "Herndon, VA                       28\n",
      "Washington, DC 20006              27\n",
      "New York, NY 10011                23\n",
      "Gaithersburg, MD 20878            22\n",
      "Springfield, VA                   21\n",
      "Arlington, VA 22202               21\n",
      "Redwood City, CA                  21\n",
      "San Mateo, CA                     20\n",
      "Ottawa, ON                        19\n",
      "New York, NY 10017                19\n",
      "San Francisco, CA 94104           18\n",
      "Alexandria, VA                    18\n",
      "Seattle, WA 98101                 17\n",
      "Santa Monica, CA                  17\n",
      "Laurel, MD 20708                  16\n",
      "South San Francisco, CA 94080     16\n",
      "Fort Meade, MD                    16\n",
      "San Francisco Bay Area, CA        16\n",
      "San Francisco, CA 94107           15\n",
      "Chantilly, VA                     15\n",
      "Seattle, WA 98104                 15\n",
      "Chantilly, VA 20151               15\n",
      "Reston, VA                        14\n",
      "Bellevue, WA                      14\n",
      "New York, NY 10018                14\n",
      "New York, NY 10010                14\n",
      "Bethesda, MD                      14\n",
      "Seattle, WA 98109                 13\n",
      "Mississauga, ON                   13\n",
      "New York, NY 10016                12\n",
      "Culver City, CA                   12\n",
      "New York, NY 10001                11\n",
      "Seattle, WA 98121                 11\n",
      "San Francisco, CA 94111           11\n",
      "Name: Location, dtype: int64\n"
     ]
    }
   ],
   "source": [
    "Location_count = Location_df.Location.value_counts()\n",
    "print(Location_count[Location_count>10])"
   ]
  },
  {
   "cell_type": "markdown",
   "metadata": {},
   "source": [
    "#### Seprate City and State into different columns"
   ]
  },
  {
   "cell_type": "code",
   "execution_count": 41,
   "metadata": {},
   "outputs": [],
   "source": [
    "Location_df['City'] = Location_df['Location'].str.split(',').str[0]\n",
    "Location_df['State'] = Location_df['Location'].str.split(',').str[1:]\n",
    "Location_df['State'] = [' '.join(map(str, l)) for l in Location_df['State']]\n",
    "Location_df['State'] = Location_df['State'].str.strip()\n",
    "Location_df['State'] = Location_df['State'].str.split(' ').str[0]"
   ]
  },
  {
   "cell_type": "code",
   "execution_count": 42,
   "metadata": {},
   "outputs": [
    {
     "data": {
      "text/plain": [
       "count     2676\n",
       "unique      12\n",
       "top         CA\n",
       "freq       670\n",
       "Name: State, dtype: object"
      ]
     },
     "execution_count": 42,
     "metadata": {},
     "output_type": "execute_result"
    }
   ],
   "source": [
    "Location_df['State'].describe()"
   ]
  },
  {
   "cell_type": "code",
   "execution_count": 43,
   "metadata": {},
   "outputs": [
    {
     "data": {
      "text/plain": [
       "count         2676\n",
       "unique         130\n",
       "top       New York\n",
       "freq           389\n",
       "Name: City, dtype: object"
      ]
     },
     "execution_count": 43,
     "metadata": {},
     "output_type": "execute_result"
    }
   ],
   "source": [
    "Location_df['City'].describe()"
   ]
  },
  {
   "cell_type": "code",
   "execution_count": 44,
   "metadata": {},
   "outputs": [
    {
     "name": "stdout",
     "output_type": "stream",
     "text": [
      "CA    670\n",
      "WA    437\n",
      "NY    417\n",
      "VA    393\n",
      "MD    184\n",
      "DC    173\n",
      "ON    133\n",
      "TX    111\n",
      "QC     83\n",
      "BC     41\n",
      "OR     19\n",
      "AB     15\n",
      "Name: State, dtype: int64\n"
     ]
    }
   ],
   "source": [
    "State_count = Location_df.State.value_counts()\n",
    "print(State_count[State_count>10])"
   ]
  },
  {
   "cell_type": "markdown",
   "metadata": {},
   "source": [
    "#### Number of Data Scientist jobs in each state and city"
   ]
  },
  {
   "cell_type": "markdown",
   "metadata": {},
   "source": [
    "#### State"
   ]
  },
  {
   "cell_type": "code",
   "execution_count": 45,
   "metadata": {},
   "outputs": [
    {
     "data": {
      "text/plain": [
       "<matplotlib.axes._subplots.AxesSubplot at 0x20200d0f048>"
      ]
     },
     "execution_count": 45,
     "metadata": {},
     "output_type": "execute_result"
    },
    {
     "data": {
      "image/png": "[encoded data removed]",
      "text/plain": [
       "<Figure size 720x360 with 1 Axes>"
      ]
     },
     "metadata": {
      "needs_background": "light"
     },
     "output_type": "display_data"
    }
   ],
   "source": [
    "Location_df.State.value_counts().sort_values().plot(kind = 'barh',edgecolor='black',\n",
    "                                                     linewidth='2', grid=True,colormap ='winter_r')"
   ]
  },
  {
   "cell_type": "code",
   "execution_count": 46,
   "metadata": {},
   "outputs": [
    {
     "data": {
      "text/plain": [
       "<matplotlib.axes._subplots.AxesSubplot at 0x20200530548>"
      ]
     },
     "execution_count": 46,
     "metadata": {},
     "output_type": "execute_result"
    },
    {
     "data": {
      "image/png": "[encoded data removed]",
      "text/plain": [
       "<Figure size 720x360 with 1 Axes>"
      ]
     },
     "metadata": {
      "needs_background": "light"
     },
     "output_type": "display_data"
    }
   ],
   "source": [
    "sns.countplot(x='State',data=Location_df,palette='rainbow', \n",
    "              order = Location_df.State.value_counts().index)"
   ]
  },
  {
   "cell_type": "markdown",
   "metadata": {},
   "source": [
    "#### City"
   ]
  },
  {
   "cell_type": "code",
   "execution_count": 47,
   "metadata": {},
   "outputs": [
    {
     "data": {
      "text/plain": [
       "<matplotlib.axes._subplots.AxesSubplot at 0x2020064f8c8>"
      ]
     },
     "execution_count": 47,
     "metadata": {},
     "output_type": "execute_result"
    },
    {
     "data": {
      "image/png": "[encoded data removed]",
      "text/plain": [
       "<Figure size 720x360 with 1 Axes>"
      ]
     },
     "metadata": {
      "needs_background": "light"
     },
     "output_type": "display_data"
    }
   ],
   "source": [
    "Location_df.City.value_counts().plot(bins=100,kind = 'hist',edgecolor='black',\n",
    "                                                     linewidth='1', grid=True, x = 'Count', y = 'Ratings')"
   ]
  },
  {
   "cell_type": "code",
   "execution_count": 48,
   "metadata": {},
   "outputs": [
    {
     "data": {
      "text/plain": [
       "<matplotlib.axes._subplots.AxesSubplot at 0x20200d55288>"
      ]
     },
     "execution_count": 48,
     "metadata": {},
     "output_type": "execute_result"
    },
    {
     "data": {
      "image/png": "[encoded data removed]",
      "text/plain": [
       "<Figure size 1440x360 with 1 Axes>"
      ]
     },
     "metadata": {
      "needs_background": "light"
     },
     "output_type": "display_data"
    }
   ],
   "source": [
    "plt.rcParams['figure.figsize'] = [20, 5]\n",
    "sns.countplot(x='City',data=Location_df,palette='Set3', \n",
    "              order = Location_df.City.value_counts().index)"
   ]
  },
  {
   "cell_type": "code",
   "execution_count": 49,
   "metadata": {},
   "outputs": [],
   "source": [
    "City_count = Location_df.City.value_counts()\n",
    "New = City_count[City_count>30]"
   ]
  },
  {
   "cell_type": "code",
   "execution_count": 50,
   "metadata": {},
   "outputs": [
    {
     "data": {
      "text/plain": [
       "<matplotlib.axes._subplots.AxesSubplot at 0x202012077c8>"
      ]
     },
     "execution_count": 50,
     "metadata": {},
     "output_type": "execute_result"
    },
    {
     "data": {
      "image/png": "[encoded data removed]",
      "text/plain": [
       "<Figure size 1440x1440 with 1 Axes>"
      ]
     },
     "metadata": {
      "needs_background": "light"
     },
     "output_type": "display_data"
    }
   ],
   "source": [
    "plt.rcParams['figure.figsize'] = [20, 20]\n",
    "sns.countplot(y='City',data=Location_df,palette='Set3', \n",
    "              order = New.index)"
   ]
  },
  {
   "cell_type": "markdown",
   "metadata": {},
   "source": [
    "## Explore Title"
   ]
  },
  {
   "cell_type": "code",
   "execution_count": 51,
   "metadata": {},
   "outputs": [],
   "source": [
    "title_df = data_scientist_trends[['Title']] .copy()"
   ]
  },
  {
   "cell_type": "code",
   "execution_count": 52,
   "metadata": {},
   "outputs": [
    {
     "data": {
      "text/html": [
       "<div>\n",
       "<style scoped>\n",
       "    .dataframe tbody tr th:only-of-type {\n",
       "        vertical-align: middle;\n",
       "    }\n",
       "\n",
       "    .dataframe tbody tr th {\n",
       "        vertical-align: top;\n",
       "    }\n",
       "\n",
       "    .dataframe thead th {\n",
       "        text-align: right;\n",
       "    }\n",
       "</style>\n",
       "<table border=\"1\" class=\"dataframe\">\n",
       "  <thead>\n",
       "    <tr style=\"text-align: right;\">\n",
       "      <th></th>\n",
       "      <th>Title</th>\n",
       "    </tr>\n",
       "  </thead>\n",
       "  <tbody>\n",
       "    <tr>\n",
       "      <th>count</th>\n",
       "      <td>2676</td>\n",
       "    </tr>\n",
       "    <tr>\n",
       "      <th>unique</th>\n",
       "      <td>1764</td>\n",
       "    </tr>\n",
       "    <tr>\n",
       "      <th>top</th>\n",
       "      <td>Data Scientist</td>\n",
       "    </tr>\n",
       "    <tr>\n",
       "      <th>freq</th>\n",
       "      <td>269</td>\n",
       "    </tr>\n",
       "  </tbody>\n",
       "</table>\n",
       "</div>"
      ],
      "text/plain": [
       "                 Title\n",
       "count             2676\n",
       "unique            1764\n",
       "top     Data Scientist\n",
       "freq               269"
      ]
     },
     "execution_count": 52,
     "metadata": {},
     "output_type": "execute_result"
    }
   ],
   "source": [
    "title_df.describe()"
   ]
  },
  {
   "cell_type": "code",
   "execution_count": 53,
   "metadata": {},
   "outputs": [
    {
     "data": {
      "text/html": [
       "<div>\n",
       "<style scoped>\n",
       "    .dataframe tbody tr th:only-of-type {\n",
       "        vertical-align: middle;\n",
       "    }\n",
       "\n",
       "    .dataframe tbody tr th {\n",
       "        vertical-align: top;\n",
       "    }\n",
       "\n",
       "    .dataframe thead th {\n",
       "        text-align: right;\n",
       "    }\n",
       "</style>\n",
       "<table border=\"1\" class=\"dataframe\">\n",
       "  <thead>\n",
       "    <tr style=\"text-align: right;\">\n",
       "      <th></th>\n",
       "      <th>Title</th>\n",
       "    </tr>\n",
       "  </thead>\n",
       "  <tbody>\n",
       "    <tr>\n",
       "      <th>0</th>\n",
       "      <td>Principal PK/PD Statistical Programmer</td>\n",
       "    </tr>\n",
       "    <tr>\n",
       "      <th>1</th>\n",
       "      <td>Senior Data Scientist</td>\n",
       "    </tr>\n",
       "    <tr>\n",
       "      <th>2</th>\n",
       "      <td>Applied Scientist</td>\n",
       "    </tr>\n",
       "    <tr>\n",
       "      <th>3</th>\n",
       "      <td>Product Manager â€“ Enterprise Data and Analytics</td>\n",
       "    </tr>\n",
       "    <tr>\n",
       "      <th>4</th>\n",
       "      <td>Senior Data Analyst, Investigations</td>\n",
       "    </tr>\n",
       "  </tbody>\n",
       "</table>\n",
       "</div>"
      ],
      "text/plain": [
       "                                               Title\n",
       "0             Principal PK/PD Statistical Programmer\n",
       "1                              Senior Data Scientist\n",
       "2                                  Applied Scientist\n",
       "3  Product Manager â€“ Enterprise Data and Analytics\n",
       "4                Senior Data Analyst, Investigations"
      ]
     },
     "execution_count": 53,
     "metadata": {},
     "output_type": "execute_result"
    }
   ],
   "source": [
    "title_df.head()"
   ]
  },
  {
   "cell_type": "markdown",
   "metadata": {},
   "source": [
    "<b>Example:</b> Does not contain \"Data\""
   ]
  },
  {
   "cell_type": "code",
   "execution_count": 54,
   "metadata": {},
   "outputs": [
    {
     "data": {
      "text/html": [
       "<div>\n",
       "<style scoped>\n",
       "    .dataframe tbody tr th:only-of-type {\n",
       "        vertical-align: middle;\n",
       "    }\n",
       "\n",
       "    .dataframe tbody tr th {\n",
       "        vertical-align: top;\n",
       "    }\n",
       "\n",
       "    .dataframe thead th {\n",
       "        text-align: right;\n",
       "    }\n",
       "</style>\n",
       "<table border=\"1\" class=\"dataframe\">\n",
       "  <thead>\n",
       "    <tr style=\"text-align: right;\">\n",
       "      <th></th>\n",
       "      <th>Title</th>\n",
       "    </tr>\n",
       "  </thead>\n",
       "  <tbody>\n",
       "    <tr>\n",
       "      <th>0</th>\n",
       "      <td>Principal PK/PD Statistical Programmer</td>\n",
       "    </tr>\n",
       "    <tr>\n",
       "      <th>2</th>\n",
       "      <td>Applied Scientist</td>\n",
       "    </tr>\n",
       "    <tr>\n",
       "      <th>6</th>\n",
       "      <td>Machine Learning Engineer</td>\n",
       "    </tr>\n",
       "    <tr>\n",
       "      <th>7</th>\n",
       "      <td>Senior Back End Developer/Machine Learning Eng...</td>\n",
       "    </tr>\n",
       "    <tr>\n",
       "      <th>10</th>\n",
       "      <td>Manager, Pricing, Analytics and Reporting</td>\n",
       "    </tr>\n",
       "    <tr>\n",
       "      <th>...</th>\n",
       "      <td>...</td>\n",
       "    </tr>\n",
       "    <tr>\n",
       "      <th>2667</th>\n",
       "      <td>Applied Scientist, Alexa Speech</td>\n",
       "    </tr>\n",
       "    <tr>\n",
       "      <th>2668</th>\n",
       "      <td>Sr. Manager, Selling Partner Analytics</td>\n",
       "    </tr>\n",
       "    <tr>\n",
       "      <th>2670</th>\n",
       "      <td>Software Engineer: Machine Learning / Signal P...</td>\n",
       "    </tr>\n",
       "    <tr>\n",
       "      <th>2671</th>\n",
       "      <td>Apple Media Products Engineering - Machine Lea...</td>\n",
       "    </tr>\n",
       "    <tr>\n",
       "      <th>2673</th>\n",
       "      <td>Machine Learning Engineer</td>\n",
       "    </tr>\n",
       "  </tbody>\n",
       "</table>\n",
       "<p>1103 rows × 1 columns</p>\n",
       "</div>"
      ],
      "text/plain": [
       "                                                  Title\n",
       "0                Principal PK/PD Statistical Programmer\n",
       "2                                     Applied Scientist\n",
       "6                             Machine Learning Engineer\n",
       "7     Senior Back End Developer/Machine Learning Eng...\n",
       "10            Manager, Pricing, Analytics and Reporting\n",
       "...                                                 ...\n",
       "2667                    Applied Scientist, Alexa Speech\n",
       "2668             Sr. Manager, Selling Partner Analytics\n",
       "2670  Software Engineer: Machine Learning / Signal P...\n",
       "2671  Apple Media Products Engineering - Machine Lea...\n",
       "2673                          Machine Learning Engineer\n",
       "\n",
       "[1103 rows x 1 columns]"
      ]
     },
     "execution_count": 54,
     "metadata": {},
     "output_type": "execute_result"
    }
   ],
   "source": [
    "title_df[~title_df.Title.str.contains(\"Data\")]"
   ]
  },
  {
   "cell_type": "markdown",
   "metadata": {},
   "source": [
    "### Data Scientist Title"
   ]
  },
  {
   "cell_type": "code",
   "execution_count": 55,
   "metadata": {},
   "outputs": [],
   "source": [
    "# title_df = title_df[title_df.Title.str.contains(\"Scientist\")|title_df.Title.str.contains(\"Data\")]\n",
    "data_scientist_title = title_df[title_df.Title.str.contains(\"Data Scientist\")].copy()"
   ]
  },
  {
   "cell_type": "code",
   "execution_count": 56,
   "metadata": {},
   "outputs": [
    {
     "data": {
      "text/html": [
       "<div>\n",
       "<style scoped>\n",
       "    .dataframe tbody tr th:only-of-type {\n",
       "        vertical-align: middle;\n",
       "    }\n",
       "\n",
       "    .dataframe tbody tr th {\n",
       "        vertical-align: top;\n",
       "    }\n",
       "\n",
       "    .dataframe thead th {\n",
       "        text-align: right;\n",
       "    }\n",
       "</style>\n",
       "<table border=\"1\" class=\"dataframe\">\n",
       "  <thead>\n",
       "    <tr style=\"text-align: right;\">\n",
       "      <th></th>\n",
       "      <th>Title</th>\n",
       "    </tr>\n",
       "  </thead>\n",
       "  <tbody>\n",
       "    <tr>\n",
       "      <th>count</th>\n",
       "      <td>950</td>\n",
       "    </tr>\n",
       "    <tr>\n",
       "      <th>unique</th>\n",
       "      <td>460</td>\n",
       "    </tr>\n",
       "    <tr>\n",
       "      <th>top</th>\n",
       "      <td>Data Scientist</td>\n",
       "    </tr>\n",
       "    <tr>\n",
       "      <th>freq</th>\n",
       "      <td>269</td>\n",
       "    </tr>\n",
       "  </tbody>\n",
       "</table>\n",
       "</div>"
      ],
      "text/plain": [
       "                 Title\n",
       "count              950\n",
       "unique             460\n",
       "top     Data Scientist\n",
       "freq               269"
      ]
     },
     "execution_count": 56,
     "metadata": {},
     "output_type": "execute_result"
    }
   ],
   "source": [
    "data_scientist_title.describe()"
   ]
  },
  {
   "cell_type": "code",
   "execution_count": 57,
   "metadata": {},
   "outputs": [],
   "source": [
    "#removes special charaters\n",
    "data_scientist_title['Title'] = data_scientist_title['Title'].map(lambda x: re.sub(r'[^a-zA-Z0-9]+', ' ', x))"
   ]
  },
  {
   "cell_type": "code",
   "execution_count": 58,
   "metadata": {},
   "outputs": [],
   "source": [
    "# splits into a list\n",
    "data_scientist_title['Title'] = data_scientist_title['Title'].str.split(' ')"
   ]
  },
  {
   "cell_type": "code",
   "execution_count": 59,
   "metadata": {},
   "outputs": [],
   "source": [
    "data_scientist_title['Lenght'] = data_scientist_title['Title'].apply(len)"
   ]
  },
  {
   "cell_type": "code",
   "execution_count": 60,
   "metadata": {},
   "outputs": [
    {
     "data": {
      "text/html": [
       "<div>\n",
       "<style scoped>\n",
       "    .dataframe tbody tr th:only-of-type {\n",
       "        vertical-align: middle;\n",
       "    }\n",
       "\n",
       "    .dataframe tbody tr th {\n",
       "        vertical-align: top;\n",
       "    }\n",
       "\n",
       "    .dataframe thead th {\n",
       "        text-align: right;\n",
       "    }\n",
       "</style>\n",
       "<table border=\"1\" class=\"dataframe\">\n",
       "  <thead>\n",
       "    <tr style=\"text-align: right;\">\n",
       "      <th></th>\n",
       "      <th>Title</th>\n",
       "      <th>Lenght</th>\n",
       "    </tr>\n",
       "  </thead>\n",
       "  <tbody>\n",
       "    <tr>\n",
       "      <th>1</th>\n",
       "      <td>[Senior, Data, Scientist]</td>\n",
       "      <td>3</td>\n",
       "    </tr>\n",
       "    <tr>\n",
       "      <th>11</th>\n",
       "      <td>[Senior, Data, Scientist]</td>\n",
       "      <td>3</td>\n",
       "    </tr>\n",
       "    <tr>\n",
       "      <th>13</th>\n",
       "      <td>[Data, Scientist, III]</td>\n",
       "      <td>3</td>\n",
       "    </tr>\n",
       "    <tr>\n",
       "      <th>14</th>\n",
       "      <td>[Data, Scientist]</td>\n",
       "      <td>2</td>\n",
       "    </tr>\n",
       "    <tr>\n",
       "      <th>15</th>\n",
       "      <td>[Data, Scientist]</td>\n",
       "      <td>2</td>\n",
       "    </tr>\n",
       "  </tbody>\n",
       "</table>\n",
       "</div>"
      ],
      "text/plain": [
       "                        Title  Lenght\n",
       "1   [Senior, Data, Scientist]       3\n",
       "11  [Senior, Data, Scientist]       3\n",
       "13     [Data, Scientist, III]       3\n",
       "14          [Data, Scientist]       2\n",
       "15          [Data, Scientist]       2"
      ]
     },
     "execution_count": 60,
     "metadata": {},
     "output_type": "execute_result"
    }
   ],
   "source": [
    "data_scientist_title.head()"
   ]
  },
  {
   "cell_type": "code",
   "execution_count": 61,
   "metadata": {},
   "outputs": [
    {
     "data": {
      "text/html": [
       "<div>\n",
       "<style scoped>\n",
       "    .dataframe tbody tr th:only-of-type {\n",
       "        vertical-align: middle;\n",
       "    }\n",
       "\n",
       "    .dataframe tbody tr th {\n",
       "        vertical-align: top;\n",
       "    }\n",
       "\n",
       "    .dataframe thead th {\n",
       "        text-align: right;\n",
       "    }\n",
       "</style>\n",
       "<table border=\"1\" class=\"dataframe\">\n",
       "  <thead>\n",
       "    <tr style=\"text-align: right;\">\n",
       "      <th></th>\n",
       "      <th>0</th>\n",
       "      <th>1</th>\n",
       "      <th>2</th>\n",
       "      <th>3</th>\n",
       "      <th>4</th>\n",
       "      <th>5</th>\n",
       "      <th>6</th>\n",
       "      <th>7</th>\n",
       "      <th>8</th>\n",
       "      <th>9</th>\n",
       "      <th>10</th>\n",
       "      <th>11</th>\n",
       "      <th>12</th>\n",
       "      <th>13</th>\n",
       "    </tr>\n",
       "  </thead>\n",
       "  <tbody>\n",
       "    <tr>\n",
       "      <th>1</th>\n",
       "      <td>Senior</td>\n",
       "      <td>Data</td>\n",
       "      <td>Scientist</td>\n",
       "      <td>NaN</td>\n",
       "      <td>NaN</td>\n",
       "      <td>NaN</td>\n",
       "      <td>NaN</td>\n",
       "      <td>NaN</td>\n",
       "      <td>NaN</td>\n",
       "      <td>NaN</td>\n",
       "      <td>NaN</td>\n",
       "      <td>NaN</td>\n",
       "      <td>NaN</td>\n",
       "      <td>NaN</td>\n",
       "    </tr>\n",
       "    <tr>\n",
       "      <th>11</th>\n",
       "      <td>Senior</td>\n",
       "      <td>Data</td>\n",
       "      <td>Scientist</td>\n",
       "      <td>NaN</td>\n",
       "      <td>NaN</td>\n",
       "      <td>NaN</td>\n",
       "      <td>NaN</td>\n",
       "      <td>NaN</td>\n",
       "      <td>NaN</td>\n",
       "      <td>NaN</td>\n",
       "      <td>NaN</td>\n",
       "      <td>NaN</td>\n",
       "      <td>NaN</td>\n",
       "      <td>NaN</td>\n",
       "    </tr>\n",
       "    <tr>\n",
       "      <th>13</th>\n",
       "      <td>Data</td>\n",
       "      <td>Scientist</td>\n",
       "      <td>III</td>\n",
       "      <td>NaN</td>\n",
       "      <td>NaN</td>\n",
       "      <td>NaN</td>\n",
       "      <td>NaN</td>\n",
       "      <td>NaN</td>\n",
       "      <td>NaN</td>\n",
       "      <td>NaN</td>\n",
       "      <td>NaN</td>\n",
       "      <td>NaN</td>\n",
       "      <td>NaN</td>\n",
       "      <td>NaN</td>\n",
       "    </tr>\n",
       "    <tr>\n",
       "      <th>14</th>\n",
       "      <td>Data</td>\n",
       "      <td>Scientist</td>\n",
       "      <td>NaN</td>\n",
       "      <td>NaN</td>\n",
       "      <td>NaN</td>\n",
       "      <td>NaN</td>\n",
       "      <td>NaN</td>\n",
       "      <td>NaN</td>\n",
       "      <td>NaN</td>\n",
       "      <td>NaN</td>\n",
       "      <td>NaN</td>\n",
       "      <td>NaN</td>\n",
       "      <td>NaN</td>\n",
       "      <td>NaN</td>\n",
       "    </tr>\n",
       "    <tr>\n",
       "      <th>15</th>\n",
       "      <td>Data</td>\n",
       "      <td>Scientist</td>\n",
       "      <td>NaN</td>\n",
       "      <td>NaN</td>\n",
       "      <td>NaN</td>\n",
       "      <td>NaN</td>\n",
       "      <td>NaN</td>\n",
       "      <td>NaN</td>\n",
       "      <td>NaN</td>\n",
       "      <td>NaN</td>\n",
       "      <td>NaN</td>\n",
       "      <td>NaN</td>\n",
       "      <td>NaN</td>\n",
       "      <td>NaN</td>\n",
       "    </tr>\n",
       "    <tr>\n",
       "      <th>...</th>\n",
       "      <td>...</td>\n",
       "      <td>...</td>\n",
       "      <td>...</td>\n",
       "      <td>...</td>\n",
       "      <td>...</td>\n",
       "      <td>...</td>\n",
       "      <td>...</td>\n",
       "      <td>...</td>\n",
       "      <td>...</td>\n",
       "      <td>...</td>\n",
       "      <td>...</td>\n",
       "      <td>...</td>\n",
       "      <td>...</td>\n",
       "      <td>...</td>\n",
       "    </tr>\n",
       "    <tr>\n",
       "      <th>2658</th>\n",
       "      <td>Principal</td>\n",
       "      <td>Data</td>\n",
       "      <td>Scientist</td>\n",
       "      <td>Prime</td>\n",
       "      <td>Video</td>\n",
       "      <td>Personalization</td>\n",
       "      <td>NaN</td>\n",
       "      <td>NaN</td>\n",
       "      <td>NaN</td>\n",
       "      <td>NaN</td>\n",
       "      <td>NaN</td>\n",
       "      <td>NaN</td>\n",
       "      <td>NaN</td>\n",
       "      <td>NaN</td>\n",
       "    </tr>\n",
       "    <tr>\n",
       "      <th>2664</th>\n",
       "      <td>Program</td>\n",
       "      <td>Manager</td>\n",
       "      <td>Data</td>\n",
       "      <td>Scientist</td>\n",
       "      <td>NaN</td>\n",
       "      <td>NaN</td>\n",
       "      <td>NaN</td>\n",
       "      <td>NaN</td>\n",
       "      <td>NaN</td>\n",
       "      <td>NaN</td>\n",
       "      <td>NaN</td>\n",
       "      <td>NaN</td>\n",
       "      <td>NaN</td>\n",
       "      <td>NaN</td>\n",
       "    </tr>\n",
       "    <tr>\n",
       "      <th>2666</th>\n",
       "      <td>Data</td>\n",
       "      <td>Scientist</td>\n",
       "      <td>Delphi</td>\n",
       "      <td>NaN</td>\n",
       "      <td>NaN</td>\n",
       "      <td>NaN</td>\n",
       "      <td>NaN</td>\n",
       "      <td>NaN</td>\n",
       "      <td>NaN</td>\n",
       "      <td>NaN</td>\n",
       "      <td>NaN</td>\n",
       "      <td>NaN</td>\n",
       "      <td>NaN</td>\n",
       "      <td>NaN</td>\n",
       "    </tr>\n",
       "    <tr>\n",
       "      <th>2672</th>\n",
       "      <td>Principal</td>\n",
       "      <td>Data</td>\n",
       "      <td>Scientist</td>\n",
       "      <td>NaN</td>\n",
       "      <td>NaN</td>\n",
       "      <td>NaN</td>\n",
       "      <td>NaN</td>\n",
       "      <td>NaN</td>\n",
       "      <td>NaN</td>\n",
       "      <td>NaN</td>\n",
       "      <td>NaN</td>\n",
       "      <td>NaN</td>\n",
       "      <td>NaN</td>\n",
       "      <td>NaN</td>\n",
       "    </tr>\n",
       "    <tr>\n",
       "      <th>2674</th>\n",
       "      <td>Data</td>\n",
       "      <td>Scientist</td>\n",
       "      <td>Infrastructure</td>\n",
       "      <td>NaN</td>\n",
       "      <td>NaN</td>\n",
       "      <td>NaN</td>\n",
       "      <td>NaN</td>\n",
       "      <td>NaN</td>\n",
       "      <td>NaN</td>\n",
       "      <td>NaN</td>\n",
       "      <td>NaN</td>\n",
       "      <td>NaN</td>\n",
       "      <td>NaN</td>\n",
       "      <td>NaN</td>\n",
       "    </tr>\n",
       "  </tbody>\n",
       "</table>\n",
       "<p>950 rows × 14 columns</p>\n",
       "</div>"
      ],
      "text/plain": [
       "             0          1               2          3      4                5   \\\n",
       "1        Senior       Data       Scientist        NaN    NaN              NaN   \n",
       "11       Senior       Data       Scientist        NaN    NaN              NaN   \n",
       "13         Data  Scientist             III        NaN    NaN              NaN   \n",
       "14         Data  Scientist             NaN        NaN    NaN              NaN   \n",
       "15         Data  Scientist             NaN        NaN    NaN              NaN   \n",
       "...         ...        ...             ...        ...    ...              ...   \n",
       "2658  Principal       Data       Scientist      Prime  Video  Personalization   \n",
       "2664    Program    Manager            Data  Scientist    NaN              NaN   \n",
       "2666       Data  Scientist          Delphi        NaN    NaN              NaN   \n",
       "2672  Principal       Data       Scientist        NaN    NaN              NaN   \n",
       "2674       Data  Scientist  Infrastructure        NaN    NaN              NaN   \n",
       "\n",
       "       6    7    8    9    10   11   12   13  \n",
       "1     NaN  NaN  NaN  NaN  NaN  NaN  NaN  NaN  \n",
       "11    NaN  NaN  NaN  NaN  NaN  NaN  NaN  NaN  \n",
       "13    NaN  NaN  NaN  NaN  NaN  NaN  NaN  NaN  \n",
       "14    NaN  NaN  NaN  NaN  NaN  NaN  NaN  NaN  \n",
       "15    NaN  NaN  NaN  NaN  NaN  NaN  NaN  NaN  \n",
       "...   ...  ...  ...  ...  ...  ...  ...  ...  \n",
       "2658  NaN  NaN  NaN  NaN  NaN  NaN  NaN  NaN  \n",
       "2664  NaN  NaN  NaN  NaN  NaN  NaN  NaN  NaN  \n",
       "2666  NaN  NaN  NaN  NaN  NaN  NaN  NaN  NaN  \n",
       "2672  NaN  NaN  NaN  NaN  NaN  NaN  NaN  NaN  \n",
       "2674  NaN  NaN  NaN  NaN  NaN  NaN  NaN  NaN  \n",
       "\n",
       "[950 rows x 14 columns]"
      ]
     },
     "execution_count": 61,
     "metadata": {},
     "output_type": "execute_result"
    }
   ],
   "source": [
    "# expand list column into multiple columns\n",
    "data_scientist_title['Title'].apply(pd.Series)"
   ]
  },
  {
   "cell_type": "code",
   "execution_count": 62,
   "metadata": {},
   "outputs": [],
   "source": [
    "def text_process(mess):\n",
    "    \"\"\"\n",
    "    Takes in a string of text, then performs the following:\n",
    "    1. Remove Data Scientist\n",
    "    \"\"\"\n",
    "    # Check characters to see if they are in punctuation\n",
    "    name_list = ['Data','Scientist']\n",
    "    return [char for char in mess if char not in name_list]"
   ]
  },
  {
   "cell_type": "code",
   "execution_count": 63,
   "metadata": {},
   "outputs": [],
   "source": [
    "data_scientist_title['Other'] = data_scientist_title['Title'].apply(text_process)"
   ]
  },
  {
   "cell_type": "code",
   "execution_count": 64,
   "metadata": {},
   "outputs": [
    {
     "data": {
      "text/plain": [
       "count     950\n",
       "unique    428\n",
       "top        []\n",
       "freq      269\n",
       "Name: Other, dtype: object"
      ]
     },
     "execution_count": 64,
     "metadata": {},
     "output_type": "execute_result"
    }
   ],
   "source": [
    "data_scientist_title['Other'].describe()"
   ]
  },
  {
   "cell_type": "code",
   "execution_count": 65,
   "metadata": {},
   "outputs": [],
   "source": [
    "def text_process_B(mess):\n",
    "    \"\"\"\n",
    "    Takes in a string of text, then performs the following:\n",
    "    1. Keep Data Scientist\n",
    "    \"\"\"\n",
    "    # Check characters to see if they are in punctuation\n",
    "    name_list = ['Data','Scientist']\n",
    "    nopunc = [char for char in mess if char in name_list]\n",
    "\n",
    "    nopunc = ' '.join(nopunc)\n",
    "    \n",
    "    return nopunc.strip()"
   ]
  },
  {
   "cell_type": "code",
   "execution_count": 66,
   "metadata": {},
   "outputs": [],
   "source": [
    "data_scientist_title['Title'] = data_scientist_title['Title'].apply(text_process_B)"
   ]
  },
  {
   "cell_type": "code",
   "execution_count": 67,
   "metadata": {},
   "outputs": [
    {
     "data": {
      "text/html": [
       "<div>\n",
       "<style scoped>\n",
       "    .dataframe tbody tr th:only-of-type {\n",
       "        vertical-align: middle;\n",
       "    }\n",
       "\n",
       "    .dataframe tbody tr th {\n",
       "        vertical-align: top;\n",
       "    }\n",
       "\n",
       "    .dataframe thead th {\n",
       "        text-align: right;\n",
       "    }\n",
       "</style>\n",
       "<table border=\"1\" class=\"dataframe\">\n",
       "  <thead>\n",
       "    <tr style=\"text-align: right;\">\n",
       "      <th></th>\n",
       "      <th>Title</th>\n",
       "      <th>Lenght</th>\n",
       "      <th>Other</th>\n",
       "    </tr>\n",
       "  </thead>\n",
       "  <tbody>\n",
       "    <tr>\n",
       "      <th>1</th>\n",
       "      <td>Data Scientist</td>\n",
       "      <td>3</td>\n",
       "      <td>[Senior]</td>\n",
       "    </tr>\n",
       "    <tr>\n",
       "      <th>11</th>\n",
       "      <td>Data Scientist</td>\n",
       "      <td>3</td>\n",
       "      <td>[Senior]</td>\n",
       "    </tr>\n",
       "    <tr>\n",
       "      <th>13</th>\n",
       "      <td>Data Scientist</td>\n",
       "      <td>3</td>\n",
       "      <td>[III]</td>\n",
       "    </tr>\n",
       "    <tr>\n",
       "      <th>14</th>\n",
       "      <td>Data Scientist</td>\n",
       "      <td>2</td>\n",
       "      <td>[]</td>\n",
       "    </tr>\n",
       "    <tr>\n",
       "      <th>15</th>\n",
       "      <td>Data Scientist</td>\n",
       "      <td>2</td>\n",
       "      <td>[]</td>\n",
       "    </tr>\n",
       "    <tr>\n",
       "      <th>16</th>\n",
       "      <td>Data Scientist</td>\n",
       "      <td>3</td>\n",
       "      <td>[Principal]</td>\n",
       "    </tr>\n",
       "    <tr>\n",
       "      <th>26</th>\n",
       "      <td>Data Scientist</td>\n",
       "      <td>6</td>\n",
       "      <td>[Fall, 2020, Student, Opportunities]</td>\n",
       "    </tr>\n",
       "    <tr>\n",
       "      <th>28</th>\n",
       "      <td>Data Scientist</td>\n",
       "      <td>2</td>\n",
       "      <td>[]</td>\n",
       "    </tr>\n",
       "    <tr>\n",
       "      <th>30</th>\n",
       "      <td>Data Scientist</td>\n",
       "      <td>6</td>\n",
       "      <td>[Senior, Toronto, Intact, Lab]</td>\n",
       "    </tr>\n",
       "    <tr>\n",
       "      <th>31</th>\n",
       "      <td>Data Scientist</td>\n",
       "      <td>3</td>\n",
       "      <td>[Senior]</td>\n",
       "    </tr>\n",
       "  </tbody>\n",
       "</table>\n",
       "</div>"
      ],
      "text/plain": [
       "             Title  Lenght                                 Other\n",
       "1   Data Scientist       3                              [Senior]\n",
       "11  Data Scientist       3                              [Senior]\n",
       "13  Data Scientist       3                                 [III]\n",
       "14  Data Scientist       2                                    []\n",
       "15  Data Scientist       2                                    []\n",
       "16  Data Scientist       3                           [Principal]\n",
       "26  Data Scientist       6  [Fall, 2020, Student, Opportunities]\n",
       "28  Data Scientist       2                                    []\n",
       "30  Data Scientist       6        [Senior, Toronto, Intact, Lab]\n",
       "31  Data Scientist       3                              [Senior]"
      ]
     },
     "execution_count": 67,
     "metadata": {},
     "output_type": "execute_result"
    }
   ],
   "source": [
    "data_scientist_title.head(10)"
   ]
  },
  {
   "cell_type": "code",
   "execution_count": 68,
   "metadata": {},
   "outputs": [
    {
     "data": {
      "text/html": [
       "<div>\n",
       "<style scoped>\n",
       "    .dataframe tbody tr th:only-of-type {\n",
       "        vertical-align: middle;\n",
       "    }\n",
       "\n",
       "    .dataframe tbody tr th {\n",
       "        vertical-align: top;\n",
       "    }\n",
       "\n",
       "    .dataframe thead th {\n",
       "        text-align: right;\n",
       "    }\n",
       "</style>\n",
       "<table border=\"1\" class=\"dataframe\">\n",
       "  <thead>\n",
       "    <tr style=\"text-align: right;\">\n",
       "      <th></th>\n",
       "      <th>Title</th>\n",
       "      <th>Lenght</th>\n",
       "      <th>Other</th>\n",
       "    </tr>\n",
       "  </thead>\n",
       "  <tbody>\n",
       "    <tr>\n",
       "      <th>count</th>\n",
       "      <td>950</td>\n",
       "      <td>950.000000</td>\n",
       "      <td>950</td>\n",
       "    </tr>\n",
       "    <tr>\n",
       "      <th>unique</th>\n",
       "      <td>9</td>\n",
       "      <td>NaN</td>\n",
       "      <td>428</td>\n",
       "    </tr>\n",
       "    <tr>\n",
       "      <th>top</th>\n",
       "      <td>Data Scientist</td>\n",
       "      <td>NaN</td>\n",
       "      <td>[]</td>\n",
       "    </tr>\n",
       "    <tr>\n",
       "      <th>freq</th>\n",
       "      <td>911</td>\n",
       "      <td>NaN</td>\n",
       "      <td>269</td>\n",
       "    </tr>\n",
       "    <tr>\n",
       "      <th>mean</th>\n",
       "      <td>NaN</td>\n",
       "      <td>3.828421</td>\n",
       "      <td>NaN</td>\n",
       "    </tr>\n",
       "    <tr>\n",
       "      <th>std</th>\n",
       "      <td>NaN</td>\n",
       "      <td>1.989178</td>\n",
       "      <td>NaN</td>\n",
       "    </tr>\n",
       "    <tr>\n",
       "      <th>min</th>\n",
       "      <td>NaN</td>\n",
       "      <td>2.000000</td>\n",
       "      <td>NaN</td>\n",
       "    </tr>\n",
       "    <tr>\n",
       "      <th>25%</th>\n",
       "      <td>NaN</td>\n",
       "      <td>2.000000</td>\n",
       "      <td>NaN</td>\n",
       "    </tr>\n",
       "    <tr>\n",
       "      <th>50%</th>\n",
       "      <td>NaN</td>\n",
       "      <td>3.000000</td>\n",
       "      <td>NaN</td>\n",
       "    </tr>\n",
       "    <tr>\n",
       "      <th>75%</th>\n",
       "      <td>NaN</td>\n",
       "      <td>5.000000</td>\n",
       "      <td>NaN</td>\n",
       "    </tr>\n",
       "    <tr>\n",
       "      <th>max</th>\n",
       "      <td>NaN</td>\n",
       "      <td>14.000000</td>\n",
       "      <td>NaN</td>\n",
       "    </tr>\n",
       "  </tbody>\n",
       "</table>\n",
       "</div>"
      ],
      "text/plain": [
       "                 Title      Lenght Other\n",
       "count              950  950.000000   950\n",
       "unique               9         NaN   428\n",
       "top     Data Scientist         NaN    []\n",
       "freq               911         NaN   269\n",
       "mean               NaN    3.828421   NaN\n",
       "std                NaN    1.989178   NaN\n",
       "min                NaN    2.000000   NaN\n",
       "25%                NaN    2.000000   NaN\n",
       "50%                NaN    3.000000   NaN\n",
       "75%                NaN    5.000000   NaN\n",
       "max                NaN   14.000000   NaN"
      ]
     },
     "execution_count": 68,
     "metadata": {},
     "output_type": "execute_result"
    }
   ],
   "source": [
    "data_scientist_title.describe(include='all')"
   ]
  },
  {
   "cell_type": "code",
   "execution_count": 69,
   "metadata": {},
   "outputs": [
    {
     "data": {
      "text/plain": [
       "array(['Data Scientist', 'Data Data', 'Data Scientist Data',\n",
       "       'Data Scientist Data Scientist', 'Data Scientist Data Data',\n",
       "       'Data Data Scientist', 'Data', 'Data Scientist Scientist',\n",
       "       'Scientist Data Scientist'], dtype=object)"
      ]
     },
     "execution_count": 69,
     "metadata": {},
     "output_type": "execute_result"
    }
   ],
   "source": [
    "data_scientist_title.Title.unique()"
   ]
  },
  {
   "cell_type": "code",
   "execution_count": 70,
   "metadata": {},
   "outputs": [
    {
     "data": {
      "text/html": [
       "<div>\n",
       "<style scoped>\n",
       "    .dataframe tbody tr th:only-of-type {\n",
       "        vertical-align: middle;\n",
       "    }\n",
       "\n",
       "    .dataframe tbody tr th {\n",
       "        vertical-align: top;\n",
       "    }\n",
       "\n",
       "    .dataframe thead th {\n",
       "        text-align: right;\n",
       "    }\n",
       "</style>\n",
       "<table border=\"1\" class=\"dataframe\">\n",
       "  <thead>\n",
       "    <tr style=\"text-align: right;\">\n",
       "      <th></th>\n",
       "      <th>Title</th>\n",
       "      <th>Lenght</th>\n",
       "      <th>Other</th>\n",
       "    </tr>\n",
       "  </thead>\n",
       "  <tbody>\n",
       "  </tbody>\n",
       "</table>\n",
       "</div>"
      ],
      "text/plain": [
       "Empty DataFrame\n",
       "Columns: [Title, Lenght, Other]\n",
       "Index: []"
      ]
     },
     "execution_count": 70,
     "metadata": {},
     "output_type": "execute_result"
    }
   ],
   "source": [
    "data_scientist_title[data_scientist_title.Title == '']"
   ]
  },
  {
   "cell_type": "code",
   "execution_count": 71,
   "metadata": {},
   "outputs": [
    {
     "data": {
      "text/plain": [
       "<matplotlib.axes._subplots.AxesSubplot at 0x20201461ec8>"
      ]
     },
     "execution_count": 71,
     "metadata": {},
     "output_type": "execute_result"
    },
    {
     "data": {
      "image/png": "[encoded data removed]",
      "text/plain": [
       "<Figure size 720x720 with 1 Axes>"
      ]
     },
     "metadata": {
      "needs_background": "light"
     },
     "output_type": "display_data"
    }
   ],
   "source": [
    "plt.rcParams['figure.figsize'] = [10, 10]\n",
    "sns.countplot(y='Title',data=data_scientist_title,palette='rainbow')"
   ]
  },
  {
   "cell_type": "code",
   "execution_count": 72,
   "metadata": {},
   "outputs": [
    {
     "data": {
      "text/plain": [
       "Primary_Key                                c81d6ecf0d5e690f\n",
       "Title          Operations Research Analyst (Data Scientist)\n",
       "Company                           US Department of the Army\n",
       "Location                                   Fort Belvoir, VA\n",
       "Salary                           $121,316 - $157,709 a year\n",
       "Ratings                                                 4.3\n",
       "Remote_work                           Remote work available\n",
       "Date_posted                                      3 days ago\n",
       "Name: 1031, dtype: object"
      ]
     },
     "execution_count": 72,
     "metadata": {},
     "output_type": "execute_result"
    }
   ],
   "source": [
    "data_scientist_trends.loc[1031]"
   ]
  },
  {
   "cell_type": "code",
   "execution_count": 73,
   "metadata": {},
   "outputs": [],
   "source": [
    "other_words = data_scientist_title['Other']\n",
    "list_of_other_words = other_words.to_list()"
   ]
  },
  {
   "cell_type": "code",
   "execution_count": 74,
   "metadata": {},
   "outputs": [
    {
     "name": "stdout",
     "output_type": "stream",
     "text": [
      "[['Senior'], ['Senior'], ['III'], [], [], ['Principal'], ['Fall', '2020', 'Student', 'Opportunities'], [], ['Senior', 'Toronto', 'Intact', 'Lab'], ['Senior'], [], [], [], [], [], [], [], [], [], [], ['Sr'], ['Engineer'], ['Team', 'Lead'], ['Sr'], [], [], ['Senior'], ['Time', 'Series'], [], [], ['Intact', 'Lab'], [], ['Lead'], ['Senior'], [], ['Actuarial', 'Analyst', 'all', 'levels', 'Scientists', 'all', 'levels', 'Support', 'to', 'Hong', 'Kong', 'Lab'], ['Scientifique', 'des', 'donn', 'es', '4', 'mois', '4', 'months', ''], ['Scientifique', 'des', 'donn', 'es', '4', 'mois', '4', 'months', ''], ['Senior', 'Scientifique', 'des', 'donn', 'es', 'principal'], [], ['Lead', 'Scientifique', 'des', 'donn', 'es', 'en', 'chef'], [], ['Scientifique', 'de', 'Donn', 'es'], [], ['Senior', 'NLP'], [], ['Marketing', 'm', 'f', 'd', ''], ['Intern'], [], ['Senior', 'NLP'], [''], ['Scientifique', 'des', 'donn', 'es'], [], [], [], ['Senior', 'AI', 'Unity'], ['Sr'], ['Analyst'], [], ['Senior'], ['Lead'], [], [], [], [], [], [], ['Spatial'], [], [], ['R', 'D', 'Batteries', ''], [], ['Junior'], [], [], ['Environmental'], ['Senior', 'Quebec', 'City', 'Intact', 'Lab'], ['Sponsored', 'Brands', 'Recommendations'], ['Lead'], [], ['Senior'], ['Customer', 'Acquisition', ''], [], ['Lead', 'Scoring', ''], [], [], ['Premium', 'Products', 'Discovery'], [], ['Engineer', 'SAS', 'R', 'code', 'Python', 'Sql', 'Open', 'to', 'remote', 'Workers', ''], [], ['Machine', 'Learning'], [], ['Senior'], ['Principal'], ['Principal', 'Associate', 'Small', 'Business', 'Card', 'Entity', 'Resolution'], ['Lead', 'to', 'support', 'Analytics', 'and', 'AI', 'ML', 'Programs', 'VP'], ['Marketing', 'Analytics'], ['GIS', 'Analyst', ''], ['Digital', 'Products'], [], [], ['LiveRamp', 'Safe', 'Haven'], ['Senior', 'Ads', 'and', 'Messaging', 'R', 'D'], ['Lead'], ['Senior'], ['Senior'], ['Sr', 'Engineer', 'AI', 'Tech', 'Delivery', 'Lead', 'New', 'York', 'NY', 'Dallas', 'TX'], [], ['Sr'], [], [], ['Experimentation', 'Analytics', 'and', 'Insights'], ['Senior'], ['II'], ['Staff', 'Analytics'], ['eCom', 'Senior'], ['Staff', 'Marketing', 'Analytics'], ['Lead'], ['Sr', 'Principal', 'Metrics', 'Analyst'], ['Lead'], ['Sr', 'Research'], ['Sr', 'Principal', 'Recommendation', 'systems', 'Deep', 'learning'], [], ['Associate'], ['Acorn', 'AI', 'Labs'], ['Senior', 'Central', 'Product', 'Insights'], [], ['Senior'], ['Senior', 'Machine', 'Learning'], ['Director'], ['Principal'], ['Senior'], ['Junior'], [], [], [], ['Strategic', 'Science'], ['Personalization'], ['Alpha', 'Insights'], ['Venn', 'Engineering'], ['Health', 'Bureau', 'of', 'School', 'Health'], ['Two', 'Sigma', 'Private', 'Investments'], ['Investment', 'Research'], ['Lead'], ['Senior', 'Game', 'Analytics'], ['Programmatic'], [], [], [], ['People', 'Analytics'], ['Advertising'], ['Principal'], [], ['Sr', 'II'], ['Lead', 'People', 'Analytics', 'and', 'Insights'], [], ['Product', 'Analytics'], ['Customer', 'New', 'York', ''], ['Marketing', 'gTech', 'Professional', 'Services'], ['Senior', 'Remote', 'friendly', ''], ['Manager'], ['Customer', 'Sales', 'Engineer', 'New', 'York', ''], ['Analytics', 'Recruiting', 'Products'], [], ['Marketing'], ['Senior', 'R', 'D', 'Oncology'], ['Senior'], ['Principal', 'R', 'D', 'Oncology'], ['Principal'], ['Lead'], ['Senior', 'Ads', 'Analytics', 'Machine', 'Learning'], [], [], ['Customer', 'Facing', ''], ['Senior'], ['Senior', 'Models', 'Decisions'], [], [], ['Quantitative', 'Analyst'], ['Senior', 'Studios', 'Analytics'], ['Recommendations'], ['Demand', 'Forecasting'], ['Forecasting'], ['Nationwide', 'Opportunities'], ['Senior'], ['Senior'], ['Senior', 'Nationwide', 'Opportunities'], ['Senior'], ['Sr'], [], ['Lead'], ['Sales', 'Analytics'], ['Junior'], [], ['Manager'], ['Senior'], [], [], ['Healthcare'], ['Senior'], ['Forecasting'], ['People', 'Analytics'], ['Principal', 'Premium'], ['Lead', 'NY'], [], [], ['Senior'], ['Principal'], ['Machine', 'Learning', 'Engineer'], ['Technical', 'Lead'], [], ['Principal', 'Telco', 'Media', 'Entertainment'], [], [], ['Senior'], ['Intern'], ['Senior'], ['NYC', ''], ['2020', 'PhD', 'Internship', 'Uber', 'Eats', 'New', 'York', ''], ['Senior', 'Marketing'], ['Principal', 'Applied', 'Machine', 'Learning', 'Engineer'], ['Sr'], ['Science', 'Instructor', 'Big'], [], ['ML', 'Engineer'], ['Senior'], [], ['Science', 'Instructor'], ['Enterprise', 'Product', 'Analytics'], ['Science', 'Instructor', 'Part', 'time', ''], ['Programmer'], ['Senior'], [], ['Senior'], ['Video', 'Business', 'Apple', 'Media', 'Products', 'Science'], ['Sr'], ['Digital', 'Marketing', 'Analytics'], [], ['Sr'], ['Senior'], ['MS'], ['III'], ['Senior'], ['Principal', 'Telco', 'Media', 'Entertainment'], ['Digital', 'Communications'], [], ['Content', 'Apple', 'Media', 'Products', 'Science'], ['Senior'], ['III'], [], ['Subscriptions', 'Marketing', 'Culver', 'City', 'CA'], ['App', 'Store', 'Marketing', 'Culver', 'City', 'CA'], ['Principal'], ['Senior'], [], ['Senior', 'Analyst'], ['Sr'], [], ['Nationwide', 'Opportunities'], ['App', 'Store', 'Arcade', 'Apple', 'Media', 'Products'], [], ['Product', 'Research', 'Apple', 'Media', 'Products'], ['Search', 'Apple', 'Media', 'Products', 'Culver', 'City', 'CA'], ['Epidemiologist', 'Activity', '2'], ['Senior'], ['ARVR'], [], ['Senior'], ['Research', 'Programmer'], ['Senior'], ['Consultant', 'Burbank', 'California'], ['Workforce', 'Analytics'], ['Sr', 'Predictive', 'Analysis', 'HBO', 'Max'], [], [], ['Senior', 'Nationwide', 'Opportunities'], ['II'], ['Senior'], [], [], ['Senior', 'Research'], [], ['HCI'], [], [], ['Engineer', 'Contributor'], ['Clinical', 'Quality', 'Analytics'], [], [], ['Senior'], ['Senior'], ['Senior'], ['Senior'], [], ['Deep', 'Learning'], ['Nationwide', 'Opportunities'], ['Lead', 'Senior'], ['Cybersecurity'], ['ML', 'and', 'Image', 'Processing', ''], ['AppleCare', 'Business', 'Insight'], [], ['Testing', 'and', 'Measurement', 'Analyst', 'IV', ''], ['Lead', 'Secret', 'Clearance', 'Required'], ['Content', 'Apple', 'Media', 'Products', 'Science'], ['Senior', 'and', 'Machine', 'Learning', 'Expert'], [], ['Strategic', 'Solutions'], ['App', 'Store', 'Arcade', 'Apple', 'Media', 'Products'], ['Product', 'Research', 'Apple', 'Media', 'Products'], ['AppleCare'], ['Search', 'Apple', 'Media', 'Products'], ['Sr'], ['Operations', 'Research', 'Analyst', ''], ['3'], ['Senior'], ['Senior', 'Online'], ['Lead'], [], ['Nationwide', 'Opportunities'], ['Senior', 'Nationwide', 'Opportunities'], ['AMP', 'Commerce', 'Payments', 'Subscription', 'Analytics'], ['Senior'], ['Marketing', 'Analytics', ''], ['Geospatial', 'Software', 'Developer', 'and'], ['Remote', 'Sensing'], [], ['Senior'], [], ['Principal'], ['Lead'], ['Machine', 'Learning', 'Expert'], ['E', '09', '311'], ['Junior', 'Temporary'], [], ['Sr'], [], ['Senior'], ['Analyst', 'Government', 'Projects'], [], ['Sr'], ['Aviation', 'AI', 'ML'], [], ['Sr'], [], ['TS', 'SCI', ''], [], ['Engineer'], ['Aviation', 'FOQA', 'Sr', 'Computer', 'Science', 'Math'], [], ['Mid', 'Level', '0520F', ''], ['active', 'TS', 'SCI'], ['Operations', 'Research', 'Analyst', ''], ['Senior', 'Consultant', 'with', 'Clearance'], [], ['Supervisory'], [], ['Junior'], ['DevOps', 'Engineer', 'TS', 'SCI', 'FSP', ''], ['Big', 'Senior', 'Consultant'], [], ['Patient', 'Safety', 'Associate'], ['Mid', ''], [], ['Executive', 'level', 'Intelligence', 'Science', 'Analytics', 'Specialist', 'BMW'], ['Chief'], ['Contract'], [], [], [], [], ['Senior'], ['Federal', 'Senior'], ['III'], [], [], ['Mid'], [], ['Senior', ''], ['Intelligence', 'Assessment', 'Analyst'], ['Cyber', 'Security'], ['Senior', 'Consultant'], ['Federal', 'Senior', 'or', 'Expert'], ['Sr', '277', 'Top', 'Secret', ''], ['Bioinformatics', 'Analyst', 'Scientists'], ['Senior', 'Statistician', 'Level', '3', ''], ['with', 'TS', 'SCI', 'Clearance'], ['IV'], ['Intern'], ['Digital'], ['Federal', ''], [], [], [], [], [], ['Health'], [], [], [], [], ['Health'], [], ['Machine', 'Learning', 'Engineer'], ['SME', 'FAA'], [], [], ['Cyber'], ['Senior'], [], [], ['Principal'], ['Defense', 'Intelligence', 'Agency', 'DIA', ''], ['Principal'], ['for', 'Text', 'Analytics', 'TS', 'SCI', ''], ['level', '3', ''], ['Mid', ''], ['Senior', 'Fraud', 'Analytics'], ['Senior'], ['Sr', 'Principal'], [], ['Infrastructure', 'Senior'], ['Lead', 'with', 'NLP'], ['Top', 'Secret', 'SCI', 'with', 'Polygraph', ''], ['SME', 'TS', 'SCI', 'with', 'Polygraph'], ['Senior', 'Cyber', 'Security', 'DevOps', 'Engineer'], ['Behavioral', 'Biometrics'], ['Junior'], [], [], ['Natural', 'Language', 'Processing'], ['Mid'], ['Staff'], [], ['Senior'], [], ['Certification'], ['Computer', 'Vision', 'Deep', 'Learning'], [], [], [], ['Artificial', 'Intelligence', 'Machine', 'Learning'], ['Secret', 'Clearance', 'Required', ''], ['Cleared', 'Full', 'Performance', ''], ['L2'], ['Subject', 'Matter', 'Expert'], ['Cleared', 'SME', ''], ['Mission', 'Mid'], ['Site', 'Manager'], ['Technical', 'Targeter'], ['Senior', 'Associate', 'Federal'], ['Cleared', 'Senior', ''], ['Mission', 'Senior'], ['Senior', 'Advanced', 'Program', ''], ['Lead'], ['Junior', '670378', ''], [], ['Statistician'], [], ['Associate'], ['Analyst', 'and'], ['Senior', 'Analyst', 'SAS', ''], ['Alexandria', 'VA', '1674'], ['Sr', 'Principal'], [], ['AI', 'Machine', 'Learning', 'Consultant'], ['Jr', 'TS', 'SCI', 'Required', ''], ['Senior', '670375', ''], ['Machine', 'Learning'], [], ['Senior', 'Statistician'], ['Sr', 'Top', 'Secret', ''], ['Bethesda', 'Md', 'Must', 'have', 'TS', 'SCI', 'with', 'Polygraph', ''], ['Senior', 'ML'], [], [], ['Level', 'I'], [], [], ['Sr'], ['Developer'], ['Mid', 'Level'], ['Foreign', 'Investment'], ['NLP', 'Consultant'], ['Senior'], ['Machine', 'Learning'], ['Machine', 'Learning', 'Senior', 'Consultant'], ['Computational', 'Senior', 'Consultant'], ['Sr'], ['Top', 'Secret', 'SCI', 'with', 'Polygraph', ''], ['with', 'TS', 'SCI', 'Clearance'], [], [], ['Analyst'], [], [], ['Principal'], ['Senior'], [], ['Mid', 'Level', ''], ['Senior'], ['Acquisitions', 'Clearance', 'Required'], ['TS', 'SCI', 'FSP'], ['i360', ''], ['Sr'], ['Senior'], ['Cybersecurity'], ['Informatics', 'Application', 'Developer'], ['Mission'], [], ['Expert'], ['Defense', 'Intelligence'], ['Lead', 'AI'], [], ['Senior'], ['Sr', 'w', 'TS', 'SCI', 'and', 'polygraph'], ['Senior'], ['Senior', 'Python', 'knowledge', 'Cleared', 'position', ''], ['TS', 'SCI', 'FSP', 'or', 'CI', 'Required'], [], ['Architect'], [], ['Innovation', 'Applied'], ['Senior'], ['Active', 'Top', 'Secret', 'is', 'required'], [], [], ['Software', 'Engineer'], ['Principal'], ['Full', 'Stack', 'Senior'], ['Instructor'], [], ['Principal'], ['Sr', 'Computer'], ['Senior'], ['Clearance', 'Required'], ['Principal'], [], ['EG', ''], [], ['Senior'], ['Secret', 'Clearance'], [], ['Senior', 'TS', 'SCI', ''], ['Senior', 'Research', 'Machine', 'Learning'], ['Journeyman', 'TS', 'SCI', 'with', 'Poly'], ['Senior', 'Outreach'], ['Senior', ''], ['with', 'Machine', 'Learning', 'Senior', 'TS', 'SCI', 'with', 'Poly'], ['SME', 'TS', 'SCI', 'w', 'Poly', 'Required'], ['Research'], [], ['1'], [], [], ['Statistician'], ['Artificial', 'Intelligence', 'Machine', 'Learning'], ['Subject', 'Matter', 'Expert'], ['Chief'], ['Clearance', 'Required'], [], ['Mid', 'Level', ''], ['Senior', 'DIAP', ''], [], [], ['Political'], ['Health', 'Analytics'], ['Tableau', 'Specialist'], ['Machine', 'Learning', 'Engineer'], ['Mid', 'level', 'Analyst', 'SAS', ''], [], ['Skill', 'Level', '2', ''], [], [], ['SAS', 'Analyst', 'Analyst'], [], [], ['Active', 'TS', 'SCI', 'Required'], ['Senior', 'Genomic'], ['Principal'], ['Chief', 'Up', 'to', '25', 'Profit', 'Sharing', 'Benefit', ''], ['Senior', 'Oncology'], ['Senior'], ['Senior', 'TS', 'SCI', 'Poly', 'required', ''], ['Enterprise', 'Architect', 'Task', '2', 'FTBLV'], [], [], ['Supply', 'Chain', 'GS', '13', 'Equivalent', ''], [], [], ['Public', 'Sector'], ['Sr', 'Finance', 'Operations'], ['Senior'], ['Senior', 'Global', 'Finance', 'Operations'], ['Senior'], ['Technical', 'Specialist'], ['ISR', 'Mission', 'Analytics', 'TS', 'SCI'], ['Subject', 'Matter', 'Expert'], ['Senior'], ['Visualization', 'Developer', 'TS', 'SCI', 'w', 'Poly', ''], [], [], [], ['Statistician', 'IV'], ['Nationwide', 'Opportunities'], ['Principal'], ['Must', 'have', 'an', 'active', 'TS', 'clearance'], ['Senior', 'Nationwide', 'Opportunities'], ['Sprint', 'Team', 'SME', 'Government', ''], ['Intelligence', 'Analyst', 'III', '669524', ''], [], [], [], ['Semantic', 'Web', 'Linked'], ['Full', 'Stack'], ['Senior'], ['Secret', 'Clearance'], ['Lead'], [], ['Senior', 'Life', 'Sciences', 'Company'], ['Sr'], [], [], ['Evergreen'], ['BSLEF8'], ['Senior'], [], ['Lead'], [], [], ['Instructor'], ['TOP', 'SECRET', 'CLEARANCE', 'REQUIRED'], ['Adversarial', 'Machine', 'Learning', 'for', 'Cyber', 'Exploitation'], [], [], ['Senior'], ['Outreach', 'Coordinator'], [], ['Advanced', 'Analytics', 'Research'], ['ISR', 'Modeling', 'and', 'Simulation', 'SME', 'MV', ''], ['Intern'], ['Neural'], [], ['Jr'], ['PM', 'Sr'], ['Senior'], ['CCDB', 'Mid', 'Level', ''], ['Senior'], ['Senior'], ['Senior'], [], [], ['Senior'], ['Post', 'Doctoral', 'Planetary'], ['Senior'], ['Architect'], ['Senior'], ['Modeler'], ['Intelligence', 'Analyst'], [], ['Operations', 'Research', 'Lead'], [], [], ['Associate'], [], ['Chief'], ['Architect', 'Senior'], [], ['Lead', 'DC'], [], ['Natural', 'Language', 'Processing', 'Machine', 'Learning', 'Intermediate', ''], [], ['VA', 'Springfield', 'EM45', '11', ''], ['Statistician', 'Scientists'], [], ['Security'], [], [], [], [], ['Cleared'], [], ['SME', ''], ['Scientists'], [], ['Graduate', 'Studies', 'Program'], ['Undergraduate', 'Internship', 'Co', 'op', 'Program'], ['Top', 'Secret'], [], [], [], ['Insights', 'and', 'Analytics'], ['Creator', 'Content'], ['Senior'], ['Research'], [], ['Staff'], ['Senior'], ['MD', 'Radiologist', 'Imaging', 'Personalized', 'Healthcare', 'PHC', ''], ['Sr', 'Imaging', 'Personalized', 'Healthcare', 'PHC', ''], ['Senior', 'Real', 'World', 'I2O', 'Personalized', 'Healthcare', 'PHC', ''], ['Senior', 'Principal', 'Platform', 'Applications', 'Development', 'Personalized', 'Healthcare', 'PHC', ''], ['Sr', 'Omics', 'and', 'Imaging', 'Personalized', 'Healthcare', 'PHC', ''], ['Ads', 'Delivery'], [], ['Contract', ''], [], ['Sr', 'Risk', 'Modeling'], ['Sr'], ['Senior', 'Advisor', 'Analytics'], ['Principal', 'Executive', 'Advisor', 'Analytics'], [], ['Senior', 'Computer', 'Vision', 'Natural', 'Language', 'Processing', ''], ['Senior'], [], ['Bioinformatics'], ['Trust', 'Safety'], ['Transaction', 'Monitoring'], [], ['Inventory', 'Algos'], [], ['Sr'], [], [], ['Senior'], ['Senior'], ['Deep', 'Learning'], ['Sr', 'II'], ['Lead'], ['Senior', 'I'], ['Sr', 'Ads'], ['Senior'], ['Client', 'Acquisitions', 'Search', 'Engine', 'Optimization'], [], [], ['Tech', 'Lead', 'Ads', 'Delivery'], ['Senior'], ['Senior', 'NLP', 'Computer', 'Vision'], [], ['Principal'], ['Senior', 'Principal', 'Platform', 'Applications', 'Development', 'Personalized', 'Healthcare', 'PHC', ''], ['Senior', 'Analytics', 'Multiple', 'Teams', ''], [], [], [], [], ['Biostatistics'], ['Senior'], ['Senior', 'Real', 'World', 'I2O', 'Personalized', 'Healthcare', 'PHC', ''], ['Senior', 'and', 'Machine', 'Learning', 'Expert'], ['Junior', 'VIE', 'San', 'Francisco'], [], [], ['Staff', 'Activision', 'Blizzard', 'Media'], ['Senior'], ['Senior'], ['Senior', 'Product', 'Analytics', 'Meta', 'Science'], ['Senior', 'Marketing'], ['AI', 'Smiths', 'Digital', 'Forge'], [], ['Merch', 'Scenarios'], ['2020', 'PhD', 'University', 'Graduate', 'Rides'], ['Senior', 'Forecasting'], ['Sr', 'Foundations', 'Science'], ['Sr', 'Enterprise', 'Science'], ['Senior', 'Marketing', 'Cloud', 'Migrations'], ['Lead'], ['Senior', 'Marketing', 'Enterprise'], ['Legal', 'Policy', 'Economics'], ['Senior', 'Biological', 'in', 'Immunology'], ['LiveRamp', 'Safe', 'Haven'], ['Manager'], ['Senior'], ['Senior', 'Talent', 'Acquisition'], ['Senior', 'Staff', 'Recommendations', ''], ['Analyst', 'Wilbur', 'Labs'], [], ['Senior'], ['Lead', 'Experimentation'], ['Principal', 'with', 'over', '10', 'years', 'experience'], ['Machine', 'Learning', 'Evaluation'], ['II'], [], ['Associate'], [], ['Genomics'], ['Principal'], ['Sr'], ['Decisions'], ['Biostatistician'], ['Director'], ['Senior'], ['Forecasting'], ['Fraud'], ['Nationwide', 'Opportunities'], ['Senior', 'Nationwide', 'Opportunities'], ['Lead'], ['Admissions'], [], ['Senior', 'Optimization'], [], ['Product', 'Analytics'], ['Planning', 'Algorithm', 'Controller'], [], ['Senior'], [], ['Computer', 'Vision', ''], ['Chief'], ['Senior', 'Machine', 'Learning', 'Dasher', 'Logistics'], ['Global', 'Optimization'], ['5967'], [], ['Engineer'], [], [], ['Senior'], ['Machine', 'Learning'], ['Senior', 'Underwriting', 'Algorithms'], ['Senior'], ['Senior'], [], ['Senior'], [], ['Biological'], [], ['2020', 'PhD', 'University', 'Graduate', 'Uber', 'Eats', 'San', 'Francisco', ''], ['Applied', 'Machine', 'Learning', 'Bay', 'Area'], [], ['2020', 'PhD', 'Internship', 'Uber', 'Eats', 'San', 'Francisco', ''], [], ['Clinical'], ['Lead'], ['Senior'], [], ['Sr', 'Universal', 'Content'], ['Senior'], ['Senior', 'Engineering'], [], ['', 'Senior', 'Genetic', 'Statistical', 'Geneticist'], ['Senior', 'Machine', 'Learning', 'Engineer'], [], ['Clinical'], [], [], ['Senior'], ['Product', 'Analyst'], [], [], ['Senior'], ['Senior'], [], ['Senior'], ['Engineer'], ['Engineer'], ['Motif', 'Capital'], [], ['WW', 'Operations', 'HR'], [], ['Azure', 'Associate'], ['Direct', 'Fulfillment'], ['Senior'], ['Senior'], ['Senior'], ['Senior'], ['Senior', 'Manager'], [], [], ['Scientists'], [], ['I', 'Natural', 'Language', 'Processing'], ['Alexa', 'AI'], [], ['II', 'for', 'AdsEcon'], ['Immediate', 'Interview', 'for', 'in', 'Seattle', 'WA', 'Area'], ['AWS', 'Employee', 'Relations'], ['II', 'Diabetes'], ['Deep', 'Learning'], ['Senior', 'Artificial', 'Intelligence'], ['Principal', 'Systems', 'Designer'], ['Only', 'Locals', ''], ['Sr'], ['Senior'], [], ['Associate'], ['Lead'], ['Sr', 'Analytics', 'and', 'Informatics'], ['Sr', 'Amazon', 'Databases'], ['Applied', 'Machine', 'Learning'], ['Senior', 'Operations'], ['3'], ['AI', 'ML', 'Siri', 'Product', 'Strategy'], ['Global', 'Specialty', 'Fulfillment', 'Supply', 'Chain'], ['Sr', 'Advertising'], [], ['Alexa'], ['Lead', 'Experimentation'], ['Principal'], [], ['Senior'], ['Senior'], ['Solar', 'Array'], ['Principal', 'Natural', 'Language'], ['Sr', 'Natural', 'Language', 'Processing'], ['II', 'Seller', 'Development'], ['Manager'], ['Internship'], ['Senior', 'Applied'], ['Senior', 'Lead'], ['Nationwide', 'Opportunities'], ['Senior'], ['Sr'], [], ['Senior'], ['Lead', 'Senior'], ['Senior', 'Manager', 'Advertising', 'Analytics', 'and', 'Insights'], ['Machine', 'Learning'], [], ['Senior', 'Amazon', 'Go'], [], ['CORE'], ['Senior'], ['Analyst', 'Adobe', 'Spark', 'Creative', 'Cloud', 'Education'], ['Senior', 'Nationwide', 'Opportunities'], ['Sr', 'Forecasting'], ['Denied', 'Party', 'Screening'], ['Marketing', 'Alexa', 'Shopping'], ['Senior', 'Marketing'], [], ['Senior', 'Demand', 'Forecasting'], ['Principal', 'Lead'], ['Senior', 'Product', 'Development'], ['Senior', 'Demand'], ['Senior', 'Shipment', 'Success'], ['II'], ['Transportation', 'Execution'], ['Senior'], ['Principal'], ['Advertising'], ['Senior', 'Convoy', 'Go'], ['Assoc', 'Operations', 'Research', 'US', ''], ['Sr', 'Machine', 'Learning'], ['Senior'], [], ['Analytics'], ['Senior', 'Amazon', 'Devices'], ['AWS', 'Specialized', 'Sales'], ['Principal', 'Prime', 'Video', 'Personalization'], ['Program', 'Manager'], ['Delphi'], ['Principal'], ['Infrastructure']]\n"
     ]
    }
   ],
   "source": [
    "print(list_of_other_words)"
   ]
  },
  {
   "cell_type": "code",
   "execution_count": 75,
   "metadata": {},
   "outputs": [],
   "source": [
    "flat_list = [item for sublist in list_of_other_words for item in sublist]"
   ]
  },
  {
   "cell_type": "code",
   "execution_count": 76,
   "metadata": {},
   "outputs": [
    {
     "name": "stdout",
     "output_type": "stream",
     "text": [
      "['Senior', 'Senior', 'III', 'Principal', 'Fall', '2020', 'Student', 'Opportunities', 'Senior', 'Toronto', 'Intact', 'Lab', 'Senior', 'Sr', 'Engineer', 'Team', 'Lead', 'Sr', 'Senior', 'Time', 'Series', 'Intact', 'Lab', 'Lead', 'Senior', 'Actuarial', 'Analyst', 'all', 'levels', 'Scientists', 'all', 'levels', 'Support', 'to', 'Hong', 'Kong', 'Lab', 'Scientifique', 'des', 'donn', 'es', '4', 'mois', '4', 'months', '', 'Scientifique', 'des', 'donn', 'es', '4', 'mois', '4', 'months', '', 'Senior', 'Scientifique', 'des', 'donn', 'es', 'principal', 'Lead', 'Scientifique', 'des', 'donn', 'es', 'en', 'chef', 'Scientifique', 'de', 'Donn', 'es', 'Senior', 'NLP', 'Marketing', 'm', 'f', 'd', '', 'Intern', 'Senior', 'NLP', '', 'Scientifique', 'des', 'donn', 'es', 'Senior', 'AI', 'Unity', 'Sr', 'Analyst', 'Senior', 'Lead', 'Spatial', 'R', 'D', 'Batteries', '', 'Junior', 'Environmental', 'Senior', 'Quebec', 'City', 'Intact', 'Lab', 'Sponsored', 'Brands', 'Recommendations', 'Lead', 'Senior', 'Customer', 'Acquisition', '', 'Lead', 'Scoring', '', 'Premium', 'Products', 'Discovery', 'Engineer', 'SAS', 'R', 'code', 'Python', 'Sql', 'Open', 'to', 'remote', 'Workers', '', 'Machine', 'Learning', 'Senior', 'Principal', 'Principal', 'Associate', 'Small', 'Business', 'Card', 'Entity', 'Resolution', 'Lead', 'to', 'support', 'Analytics', 'and', 'AI', 'ML', 'Programs', 'VP', 'Marketing', 'Analytics', 'GIS', 'Analyst', '', 'Digital', 'Products', 'LiveRamp', 'Safe', 'Haven', 'Senior', 'Ads', 'and', 'Messaging', 'R', 'D', 'Lead', 'Senior', 'Senior', 'Sr', 'Engineer', 'AI', 'Tech', 'Delivery', 'Lead', 'New', 'York', 'NY', 'Dallas', 'TX', 'Sr', 'Experimentation', 'Analytics', 'and', 'Insights', 'Senior', 'II', 'Staff', 'Analytics', 'eCom', 'Senior', 'Staff', 'Marketing', 'Analytics', 'Lead', 'Sr', 'Principal', 'Metrics', 'Analyst', 'Lead', 'Sr', 'Research', 'Sr', 'Principal', 'Recommendation', 'systems', 'Deep', 'learning', 'Associate', 'Acorn', 'AI', 'Labs', 'Senior', 'Central', 'Product', 'Insights', 'Senior', 'Senior', 'Machine', 'Learning', 'Director', 'Principal', 'Senior', 'Junior', 'Strategic', 'Science', 'Personalization', 'Alpha', 'Insights', 'Venn', 'Engineering', 'Health', 'Bureau', 'of', 'School', 'Health', 'Two', 'Sigma', 'Private', 'Investments', 'Investment', 'Research', 'Lead', 'Senior', 'Game', 'Analytics', 'Programmatic', 'People', 'Analytics', 'Advertising', 'Principal', 'Sr', 'II', 'Lead', 'People', 'Analytics', 'and', 'Insights', 'Product', 'Analytics', 'Customer', 'New', 'York', '', 'Marketing', 'gTech', 'Professional', 'Services', 'Senior', 'Remote', 'friendly', '', 'Manager', 'Customer', 'Sales', 'Engineer', 'New', 'York', '', 'Analytics', 'Recruiting', 'Products', 'Marketing', 'Senior', 'R', 'D', 'Oncology', 'Senior', 'Principal', 'R', 'D', 'Oncology', 'Principal', 'Lead', 'Senior', 'Ads', 'Analytics', 'Machine', 'Learning', 'Customer', 'Facing', '', 'Senior', 'Senior', 'Models', 'Decisions', 'Quantitative', 'Analyst', 'Senior', 'Studios', 'Analytics', 'Recommendations', 'Demand', 'Forecasting', 'Forecasting', 'Nationwide', 'Opportunities', 'Senior', 'Senior', 'Senior', 'Nationwide', 'Opportunities', 'Senior', 'Sr', 'Lead', 'Sales', 'Analytics', 'Junior', 'Manager', 'Senior', 'Healthcare', 'Senior', 'Forecasting', 'People', 'Analytics', 'Principal', 'Premium', 'Lead', 'NY', 'Senior', 'Principal', 'Machine', 'Learning', 'Engineer', 'Technical', 'Lead', 'Principal', 'Telco', 'Media', 'Entertainment', 'Senior', 'Intern', 'Senior', 'NYC', '', '2020', 'PhD', 'Internship', 'Uber', 'Eats', 'New', 'York', '', 'Senior', 'Marketing', 'Principal', 'Applied', 'Machine', 'Learning', 'Engineer', 'Sr', 'Science', 'Instructor', 'Big', 'ML', 'Engineer', 'Senior', 'Science', 'Instructor', 'Enterprise', 'Product', 'Analytics', 'Science', 'Instructor', 'Part', 'time', '', 'Programmer', 'Senior', 'Senior', 'Video', 'Business', 'Apple', 'Media', 'Products', 'Science', 'Sr', 'Digital', 'Marketing', 'Analytics', 'Sr', 'Senior', 'MS', 'III', 'Senior', 'Principal', 'Telco', 'Media', 'Entertainment', 'Digital', 'Communications', 'Content', 'Apple', 'Media', 'Products', 'Science', 'Senior', 'III', 'Subscriptions', 'Marketing', 'Culver', 'City', 'CA', 'App', 'Store', 'Marketing', 'Culver', 'City', 'CA', 'Principal', 'Senior', 'Senior', 'Analyst', 'Sr', 'Nationwide', 'Opportunities', 'App', 'Store', 'Arcade', 'Apple', 'Media', 'Products', 'Product', 'Research', 'Apple', 'Media', 'Products', 'Search', 'Apple', 'Media', 'Products', 'Culver', 'City', 'CA', 'Epidemiologist', 'Activity', '2', 'Senior', 'ARVR', 'Senior', 'Research', 'Programmer', 'Senior', 'Consultant', 'Burbank', 'California', 'Workforce', 'Analytics', 'Sr', 'Predictive', 'Analysis', 'HBO', 'Max', 'Senior', 'Nationwide', 'Opportunities', 'II', 'Senior', 'Senior', 'Research', 'HCI', 'Engineer', 'Contributor', 'Clinical', 'Quality', 'Analytics', 'Senior', 'Senior', 'Senior', 'Senior', 'Deep', 'Learning', 'Nationwide', 'Opportunities', 'Lead', 'Senior', 'Cybersecurity', 'ML', 'and', 'Image', 'Processing', '', 'AppleCare', 'Business', 'Insight', 'Testing', 'and', 'Measurement', 'Analyst', 'IV', '', 'Lead', 'Secret', 'Clearance', 'Required', 'Content', 'Apple', 'Media', 'Products', 'Science', 'Senior', 'and', 'Machine', 'Learning', 'Expert', 'Strategic', 'Solutions', 'App', 'Store', 'Arcade', 'Apple', 'Media', 'Products', 'Product', 'Research', 'Apple', 'Media', 'Products', 'AppleCare', 'Search', 'Apple', 'Media', 'Products', 'Sr', 'Operations', 'Research', 'Analyst', '', '3', 'Senior', 'Senior', 'Online', 'Lead', 'Nationwide', 'Opportunities', 'Senior', 'Nationwide', 'Opportunities', 'AMP', 'Commerce', 'Payments', 'Subscription', 'Analytics', 'Senior', 'Marketing', 'Analytics', '', 'Geospatial', 'Software', 'Developer', 'and', 'Remote', 'Sensing', 'Senior', 'Principal', 'Lead', 'Machine', 'Learning', 'Expert', 'E', '09', '311', 'Junior', 'Temporary', 'Sr', 'Senior', 'Analyst', 'Government', 'Projects', 'Sr', 'Aviation', 'AI', 'ML', 'Sr', 'TS', 'SCI', '', 'Engineer', 'Aviation', 'FOQA', 'Sr', 'Computer', 'Science', 'Math', 'Mid', 'Level', '0520F', '', 'active', 'TS', 'SCI', 'Operations', 'Research', 'Analyst', '', 'Senior', 'Consultant', 'with', 'Clearance', 'Supervisory', 'Junior', 'DevOps', 'Engineer', 'TS', 'SCI', 'FSP', '', 'Big', 'Senior', 'Consultant', 'Patient', 'Safety', 'Associate', 'Mid', '', 'Executive', 'level', 'Intelligence', 'Science', 'Analytics', 'Specialist', 'BMW', 'Chief', 'Contract', 'Senior', 'Federal', 'Senior', 'III', 'Mid', 'Senior', '', 'Intelligence', 'Assessment', 'Analyst', 'Cyber', 'Security', 'Senior', 'Consultant', 'Federal', 'Senior', 'or', 'Expert', 'Sr', '277', 'Top', 'Secret', '', 'Bioinformatics', 'Analyst', 'Scientists', 'Senior', 'Statistician', 'Level', '3', '', 'with', 'TS', 'SCI', 'Clearance', 'IV', 'Intern', 'Digital', 'Federal', '', 'Health', 'Health', 'Machine', 'Learning', 'Engineer', 'SME', 'FAA', 'Cyber', 'Senior', 'Principal', 'Defense', 'Intelligence', 'Agency', 'DIA', '', 'Principal', 'for', 'Text', 'Analytics', 'TS', 'SCI', '', 'level', '3', '', 'Mid', '', 'Senior', 'Fraud', 'Analytics', 'Senior', 'Sr', 'Principal', 'Infrastructure', 'Senior', 'Lead', 'with', 'NLP', 'Top', 'Secret', 'SCI', 'with', 'Polygraph', '', 'SME', 'TS', 'SCI', 'with', 'Polygraph', 'Senior', 'Cyber', 'Security', 'DevOps', 'Engineer', 'Behavioral', 'Biometrics', 'Junior', 'Natural', 'Language', 'Processing', 'Mid', 'Staff', 'Senior', 'Certification', 'Computer', 'Vision', 'Deep', 'Learning', 'Artificial', 'Intelligence', 'Machine', 'Learning', 'Secret', 'Clearance', 'Required', '', 'Cleared', 'Full', 'Performance', '', 'L2', 'Subject', 'Matter', 'Expert', 'Cleared', 'SME', '', 'Mission', 'Mid', 'Site', 'Manager', 'Technical', 'Targeter', 'Senior', 'Associate', 'Federal', 'Cleared', 'Senior', '', 'Mission', 'Senior', 'Senior', 'Advanced', 'Program', '', 'Lead', 'Junior', '670378', '', 'Statistician', 'Associate', 'Analyst', 'and', 'Senior', 'Analyst', 'SAS', '', 'Alexandria', 'VA', '1674', 'Sr', 'Principal', 'AI', 'Machine', 'Learning', 'Consultant', 'Jr', 'TS', 'SCI', 'Required', '', 'Senior', '670375', '', 'Machine', 'Learning', 'Senior', 'Statistician', 'Sr', 'Top', 'Secret', '', 'Bethesda', 'Md', 'Must', 'have', 'TS', 'SCI', 'with', 'Polygraph', '', 'Senior', 'ML', 'Level', 'I', 'Sr', 'Developer', 'Mid', 'Level', 'Foreign', 'Investment', 'NLP', 'Consultant', 'Senior', 'Machine', 'Learning', 'Machine', 'Learning', 'Senior', 'Consultant', 'Computational', 'Senior', 'Consultant', 'Sr', 'Top', 'Secret', 'SCI', 'with', 'Polygraph', '', 'with', 'TS', 'SCI', 'Clearance', 'Analyst', 'Principal', 'Senior', 'Mid', 'Level', '', 'Senior', 'Acquisitions', 'Clearance', 'Required', 'TS', 'SCI', 'FSP', 'i360', '', 'Sr', 'Senior', 'Cybersecurity', 'Informatics', 'Application', 'Developer', 'Mission', 'Expert', 'Defense', 'Intelligence', 'Lead', 'AI', 'Senior', 'Sr', 'w', 'TS', 'SCI', 'and', 'polygraph', 'Senior', 'Senior', 'Python', 'knowledge', 'Cleared', 'position', '', 'TS', 'SCI', 'FSP', 'or', 'CI', 'Required', 'Architect', 'Innovation', 'Applied', 'Senior', 'Active', 'Top', 'Secret', 'is', 'required', 'Software', 'Engineer', 'Principal', 'Full', 'Stack', 'Senior', 'Instructor', 'Principal', 'Sr', 'Computer', 'Senior', 'Clearance', 'Required', 'Principal', 'EG', '', 'Senior', 'Secret', 'Clearance', 'Senior', 'TS', 'SCI', '', 'Senior', 'Research', 'Machine', 'Learning', 'Journeyman', 'TS', 'SCI', 'with', 'Poly', 'Senior', 'Outreach', 'Senior', '', 'with', 'Machine', 'Learning', 'Senior', 'TS', 'SCI', 'with', 'Poly', 'SME', 'TS', 'SCI', 'w', 'Poly', 'Required', 'Research', '1', 'Statistician', 'Artificial', 'Intelligence', 'Machine', 'Learning', 'Subject', 'Matter', 'Expert', 'Chief', 'Clearance', 'Required', 'Mid', 'Level', '', 'Senior', 'DIAP', '', 'Political', 'Health', 'Analytics', 'Tableau', 'Specialist', 'Machine', 'Learning', 'Engineer', 'Mid', 'level', 'Analyst', 'SAS', '', 'Skill', 'Level', '2', '', 'SAS', 'Analyst', 'Analyst', 'Active', 'TS', 'SCI', 'Required', 'Senior', 'Genomic', 'Principal', 'Chief', 'Up', 'to', '25', 'Profit', 'Sharing', 'Benefit', '', 'Senior', 'Oncology', 'Senior', 'Senior', 'TS', 'SCI', 'Poly', 'required', '', 'Enterprise', 'Architect', 'Task', '2', 'FTBLV', 'Supply', 'Chain', 'GS', '13', 'Equivalent', '', 'Public', 'Sector', 'Sr', 'Finance', 'Operations', 'Senior', 'Senior', 'Global', 'Finance', 'Operations', 'Senior', 'Technical', 'Specialist', 'ISR', 'Mission', 'Analytics', 'TS', 'SCI', 'Subject', 'Matter', 'Expert', 'Senior', 'Visualization', 'Developer', 'TS', 'SCI', 'w', 'Poly', '', 'Statistician', 'IV', 'Nationwide', 'Opportunities', 'Principal', 'Must', 'have', 'an', 'active', 'TS', 'clearance', 'Senior', 'Nationwide', 'Opportunities', 'Sprint', 'Team', 'SME', 'Government', '', 'Intelligence', 'Analyst', 'III', '669524', '', 'Semantic', 'Web', 'Linked', 'Full', 'Stack', 'Senior', 'Secret', 'Clearance', 'Lead', 'Senior', 'Life', 'Sciences', 'Company', 'Sr', 'Evergreen', 'BSLEF8', 'Senior', 'Lead', 'Instructor', 'TOP', 'SECRET', 'CLEARANCE', 'REQUIRED', 'Adversarial', 'Machine', 'Learning', 'for', 'Cyber', 'Exploitation', 'Senior', 'Outreach', 'Coordinator', 'Advanced', 'Analytics', 'Research', 'ISR', 'Modeling', 'and', 'Simulation', 'SME', 'MV', '', 'Intern', 'Neural', 'Jr', 'PM', 'Sr', 'Senior', 'CCDB', 'Mid', 'Level', '', 'Senior', 'Senior', 'Senior', 'Senior', 'Post', 'Doctoral', 'Planetary', 'Senior', 'Architect', 'Senior', 'Modeler', 'Intelligence', 'Analyst', 'Operations', 'Research', 'Lead', 'Associate', 'Chief', 'Architect', 'Senior', 'Lead', 'DC', 'Natural', 'Language', 'Processing', 'Machine', 'Learning', 'Intermediate', '', 'VA', 'Springfield', 'EM45', '11', '', 'Statistician', 'Scientists', 'Security', 'Cleared', 'SME', '', 'Scientists', 'Graduate', 'Studies', 'Program', 'Undergraduate', 'Internship', 'Co', 'op', 'Program', 'Top', 'Secret', 'Insights', 'and', 'Analytics', 'Creator', 'Content', 'Senior', 'Research', 'Staff', 'Senior', 'MD', 'Radiologist', 'Imaging', 'Personalized', 'Healthcare', 'PHC', '', 'Sr', 'Imaging', 'Personalized', 'Healthcare', 'PHC', '', 'Senior', 'Real', 'World', 'I2O', 'Personalized', 'Healthcare', 'PHC', '', 'Senior', 'Principal', 'Platform', 'Applications', 'Development', 'Personalized', 'Healthcare', 'PHC', '', 'Sr', 'Omics', 'and', 'Imaging', 'Personalized', 'Healthcare', 'PHC', '', 'Ads', 'Delivery', 'Contract', '', 'Sr', 'Risk', 'Modeling', 'Sr', 'Senior', 'Advisor', 'Analytics', 'Principal', 'Executive', 'Advisor', 'Analytics', 'Senior', 'Computer', 'Vision', 'Natural', 'Language', 'Processing', '', 'Senior', 'Bioinformatics', 'Trust', 'Safety', 'Transaction', 'Monitoring', 'Inventory', 'Algos', 'Sr', 'Senior', 'Senior', 'Deep', 'Learning', 'Sr', 'II', 'Lead', 'Senior', 'I', 'Sr', 'Ads', 'Senior', 'Client', 'Acquisitions', 'Search', 'Engine', 'Optimization', 'Tech', 'Lead', 'Ads', 'Delivery', 'Senior', 'Senior', 'NLP', 'Computer', 'Vision', 'Principal', 'Senior', 'Principal', 'Platform', 'Applications', 'Development', 'Personalized', 'Healthcare', 'PHC', '', 'Senior', 'Analytics', 'Multiple', 'Teams', '', 'Biostatistics', 'Senior', 'Senior', 'Real', 'World', 'I2O', 'Personalized', 'Healthcare', 'PHC', '', 'Senior', 'and', 'Machine', 'Learning', 'Expert', 'Junior', 'VIE', 'San', 'Francisco', 'Staff', 'Activision', 'Blizzard', 'Media', 'Senior', 'Senior', 'Senior', 'Product', 'Analytics', 'Meta', 'Science', 'Senior', 'Marketing', 'AI', 'Smiths', 'Digital', 'Forge', 'Merch', 'Scenarios', '2020', 'PhD', 'University', 'Graduate', 'Rides', 'Senior', 'Forecasting', 'Sr', 'Foundations', 'Science', 'Sr', 'Enterprise', 'Science', 'Senior', 'Marketing', 'Cloud', 'Migrations', 'Lead', 'Senior', 'Marketing', 'Enterprise', 'Legal', 'Policy', 'Economics', 'Senior', 'Biological', 'in', 'Immunology', 'LiveRamp', 'Safe', 'Haven', 'Manager', 'Senior', 'Senior', 'Talent', 'Acquisition', 'Senior', 'Staff', 'Recommendations', '', 'Analyst', 'Wilbur', 'Labs', 'Senior', 'Lead', 'Experimentation', 'Principal', 'with', 'over', '10', 'years', 'experience', 'Machine', 'Learning', 'Evaluation', 'II', 'Associate', 'Genomics', 'Principal', 'Sr', 'Decisions', 'Biostatistician', 'Director', 'Senior', 'Forecasting', 'Fraud', 'Nationwide', 'Opportunities', 'Senior', 'Nationwide', 'Opportunities', 'Lead', 'Admissions', 'Senior', 'Optimization', 'Product', 'Analytics', 'Planning', 'Algorithm', 'Controller', 'Senior', 'Computer', 'Vision', '', 'Chief', 'Senior', 'Machine', 'Learning', 'Dasher', 'Logistics', 'Global', 'Optimization', '5967', 'Engineer', 'Senior', 'Machine', 'Learning', 'Senior', 'Underwriting', 'Algorithms', 'Senior', 'Senior', 'Senior', 'Biological', '2020', 'PhD', 'University', 'Graduate', 'Uber', 'Eats', 'San', 'Francisco', '', 'Applied', 'Machine', 'Learning', 'Bay', 'Area', '2020', 'PhD', 'Internship', 'Uber', 'Eats', 'San', 'Francisco', '', 'Clinical', 'Lead', 'Senior', 'Sr', 'Universal', 'Content', 'Senior', 'Senior', 'Engineering', '', 'Senior', 'Genetic', 'Statistical', 'Geneticist', 'Senior', 'Machine', 'Learning', 'Engineer', 'Clinical', 'Senior', 'Product', 'Analyst', 'Senior', 'Senior', 'Senior', 'Engineer', 'Engineer', 'Motif', 'Capital', 'WW', 'Operations', 'HR', 'Azure', 'Associate', 'Direct', 'Fulfillment', 'Senior', 'Senior', 'Senior', 'Senior', 'Senior', 'Manager', 'Scientists', 'I', 'Natural', 'Language', 'Processing', 'Alexa', 'AI', 'II', 'for', 'AdsEcon', 'Immediate', 'Interview', 'for', 'in', 'Seattle', 'WA', 'Area', 'AWS', 'Employee', 'Relations', 'II', 'Diabetes', 'Deep', 'Learning', 'Senior', 'Artificial', 'Intelligence', 'Principal', 'Systems', 'Designer', 'Only', 'Locals', '', 'Sr', 'Senior', 'Associate', 'Lead', 'Sr', 'Analytics', 'and', 'Informatics', 'Sr', 'Amazon', 'Databases', 'Applied', 'Machine', 'Learning', 'Senior', 'Operations', '3', 'AI', 'ML', 'Siri', 'Product', 'Strategy', 'Global', 'Specialty', 'Fulfillment', 'Supply', 'Chain', 'Sr', 'Advertising', 'Alexa', 'Lead', 'Experimentation', 'Principal', 'Senior', 'Senior', 'Solar', 'Array', 'Principal', 'Natural', 'Language', 'Sr', 'Natural', 'Language', 'Processing', 'II', 'Seller', 'Development', 'Manager', 'Internship', 'Senior', 'Applied', 'Senior', 'Lead', 'Nationwide', 'Opportunities', 'Senior', 'Sr', 'Senior', 'Lead', 'Senior', 'Senior', 'Manager', 'Advertising', 'Analytics', 'and', 'Insights', 'Machine', 'Learning', 'Senior', 'Amazon', 'Go', 'CORE', 'Senior', 'Analyst', 'Adobe', 'Spark', 'Creative', 'Cloud', 'Education', 'Senior', 'Nationwide', 'Opportunities', 'Sr', 'Forecasting', 'Denied', 'Party', 'Screening', 'Marketing', 'Alexa', 'Shopping', 'Senior', 'Marketing', 'Senior', 'Demand', 'Forecasting', 'Principal', 'Lead', 'Senior', 'Product', 'Development', 'Senior', 'Demand', 'Senior', 'Shipment', 'Success', 'II', 'Transportation', 'Execution', 'Senior', 'Principal', 'Advertising', 'Senior', 'Convoy', 'Go', 'Assoc', 'Operations', 'Research', 'US', '', 'Sr', 'Machine', 'Learning', 'Senior', 'Analytics', 'Senior', 'Amazon', 'Devices', 'AWS', 'Specialized', 'Sales', 'Principal', 'Prime', 'Video', 'Personalization', 'Program', 'Manager', 'Delphi', 'Principal', 'Infrastructure']\n"
     ]
    }
   ],
   "source": [
    "print(flat_list)"
   ]
  },
  {
   "cell_type": "code",
   "execution_count": 77,
   "metadata": {},
   "outputs": [],
   "source": [
    "other_words_df = pd.DataFrame(flat_list, columns = ['Title_Words'])"
   ]
  },
  {
   "cell_type": "code",
   "execution_count": 78,
   "metadata": {},
   "outputs": [],
   "source": [
    "Title_Words_count = other_words_df.Title_Words.value_counts()\n",
    "Title_Words_count = Title_Words_count[Title_Words_count>10]"
   ]
  },
  {
   "cell_type": "code",
   "execution_count": 79,
   "metadata": {},
   "outputs": [
    {
     "data": {
      "text/plain": [
       "<matplotlib.axes._subplots.AxesSubplot at 0x202006cb488>"
      ]
     },
     "execution_count": 79,
     "metadata": {},
     "output_type": "execute_result"
    },
    {
     "data": {
      "image/png": "[encoded data removed]",
      "text/plain": [
       "<Figure size 720x1440 with 1 Axes>"
      ]
     },
     "metadata": {
      "needs_background": "light"
     },
     "output_type": "display_data"
    }
   ],
   "source": [
    "plt.rcParams['figure.figsize'] = [10, 20]\n",
    "sns.countplot(y='Title_Words',data=other_words_df,palette='Set3', \n",
    "              order = Title_Words_count.index)"
   ]
  },
  {
   "cell_type": "markdown",
   "metadata": {},
   "source": [
    "## Explore Remote_work"
   ]
  },
  {
   "cell_type": "code",
   "execution_count": 81,
   "metadata": {},
   "outputs": [],
   "source": [
    "remote_df = data_scientist_trends[['Remote_work']].copy()"
   ]
  },
  {
   "cell_type": "code",
   "execution_count": 82,
   "metadata": {},
   "outputs": [
    {
     "data": {
      "text/plain": [
       "<matplotlib.axes._subplots.AxesSubplot at 0x20201604c48>"
      ]
     },
     "execution_count": 82,
     "metadata": {},
     "output_type": "execute_result"
    },
    {
     "data": {
      "image/png": "[encoded data removed]",
      "text/plain": [
       "<Figure size 1080x360 with 1 Axes>"
      ]
     },
     "metadata": {
      "needs_background": "light"
     },
     "output_type": "display_data"
    }
   ],
   "source": [
    "plt.rcParams['figure.figsize'] = [15, 5]\n",
    "remote_df.Remote_work.value_counts().plot(kind = 'barh',edgecolor='black',\n",
    "                                                     linewidth='2', grid=True,colormap ='winter_r')"
   ]
  },
  {
   "cell_type": "markdown",
   "metadata": {},
   "source": [
    "## Explore Salary"
   ]
  },
  {
   "cell_type": "code",
   "execution_count": 85,
   "metadata": {},
   "outputs": [],
   "source": [
    "salary_df = data_scientist_trends[['Salary']].copy()"
   ]
  },
  {
   "cell_type": "code",
   "execution_count": 86,
   "metadata": {},
   "outputs": [
    {
     "data": {
      "text/html": [
       "<div>\n",
       "<style scoped>\n",
       "    .dataframe tbody tr th:only-of-type {\n",
       "        vertical-align: middle;\n",
       "    }\n",
       "\n",
       "    .dataframe tbody tr th {\n",
       "        vertical-align: top;\n",
       "    }\n",
       "\n",
       "    .dataframe thead th {\n",
       "        text-align: right;\n",
       "    }\n",
       "</style>\n",
       "<table border=\"1\" class=\"dataframe\">\n",
       "  <thead>\n",
       "    <tr style=\"text-align: right;\">\n",
       "      <th></th>\n",
       "      <th>Salary</th>\n",
       "    </tr>\n",
       "  </thead>\n",
       "  <tbody>\n",
       "    <tr>\n",
       "      <th>count</th>\n",
       "      <td>2676</td>\n",
       "    </tr>\n",
       "    <tr>\n",
       "      <th>unique</th>\n",
       "      <td>118</td>\n",
       "    </tr>\n",
       "    <tr>\n",
       "      <th>top</th>\n",
       "      <td>None</td>\n",
       "    </tr>\n",
       "    <tr>\n",
       "      <th>freq</th>\n",
       "      <td>2542</td>\n",
       "    </tr>\n",
       "  </tbody>\n",
       "</table>\n",
       "</div>"
      ],
      "text/plain": [
       "       Salary\n",
       "count    2676\n",
       "unique    118\n",
       "top      None\n",
       "freq     2542"
      ]
     },
     "execution_count": 86,
     "metadata": {},
     "output_type": "execute_result"
    }
   ],
   "source": [
    "salary_df.describe()"
   ]
  },
  {
   "cell_type": "code",
   "execution_count": 87,
   "metadata": {},
   "outputs": [],
   "source": [
    "salary_df = salary_df[salary_df.Salary != 'None']"
   ]
  },
  {
   "cell_type": "code",
   "execution_count": 88,
   "metadata": {},
   "outputs": [
    {
     "data": {
      "text/html": [
       "<div>\n",
       "<style scoped>\n",
       "    .dataframe tbody tr th:only-of-type {\n",
       "        vertical-align: middle;\n",
       "    }\n",
       "\n",
       "    .dataframe tbody tr th {\n",
       "        vertical-align: top;\n",
       "    }\n",
       "\n",
       "    .dataframe thead th {\n",
       "        text-align: right;\n",
       "    }\n",
       "</style>\n",
       "<table border=\"1\" class=\"dataframe\">\n",
       "  <thead>\n",
       "    <tr style=\"text-align: right;\">\n",
       "      <th></th>\n",
       "      <th>Salary</th>\n",
       "    </tr>\n",
       "  </thead>\n",
       "  <tbody>\n",
       "    <tr>\n",
       "      <th>count</th>\n",
       "      <td>134</td>\n",
       "    </tr>\n",
       "    <tr>\n",
       "      <th>unique</th>\n",
       "      <td>117</td>\n",
       "    </tr>\n",
       "    <tr>\n",
       "      <th>top</th>\n",
       "      <td>$70,000 - $95,000 a year</td>\n",
       "    </tr>\n",
       "    <tr>\n",
       "      <th>freq</th>\n",
       "      <td>3</td>\n",
       "    </tr>\n",
       "  </tbody>\n",
       "</table>\n",
       "</div>"
      ],
      "text/plain": [
       "                          Salary\n",
       "count                        134\n",
       "unique                       117\n",
       "top     $70,000 - $95,000 a year\n",
       "freq                           3"
      ]
     },
     "execution_count": 88,
     "metadata": {},
     "output_type": "execute_result"
    }
   ],
   "source": [
    "salary_df.describe()"
   ]
  },
  {
   "cell_type": "code",
   "execution_count": 89,
   "metadata": {},
   "outputs": [
    {
     "data": {
      "text/html": [
       "<div>\n",
       "<style scoped>\n",
       "    .dataframe tbody tr th:only-of-type {\n",
       "        vertical-align: middle;\n",
       "    }\n",
       "\n",
       "    .dataframe tbody tr th {\n",
       "        vertical-align: top;\n",
       "    }\n",
       "\n",
       "    .dataframe thead th {\n",
       "        text-align: right;\n",
       "    }\n",
       "</style>\n",
       "<table border=\"1\" class=\"dataframe\">\n",
       "  <thead>\n",
       "    <tr style=\"text-align: right;\">\n",
       "      <th></th>\n",
       "      <th>Salary</th>\n",
       "    </tr>\n",
       "  </thead>\n",
       "  <tbody>\n",
       "    <tr>\n",
       "      <th>20</th>\n",
       "      <td>$43.55 - $50.46 an hour</td>\n",
       "    </tr>\n",
       "    <tr>\n",
       "      <th>27</th>\n",
       "      <td>$45,000 a year</td>\n",
       "    </tr>\n",
       "    <tr>\n",
       "      <th>44</th>\n",
       "      <td>$55,000 - $70,000 a year</td>\n",
       "    </tr>\n",
       "    <tr>\n",
       "      <th>117</th>\n",
       "      <td>$60,000 - $120,000 a year</td>\n",
       "    </tr>\n",
       "    <tr>\n",
       "      <th>124</th>\n",
       "      <td>$45 - $50 an hour</td>\n",
       "    </tr>\n",
       "  </tbody>\n",
       "</table>\n",
       "</div>"
      ],
      "text/plain": [
       "                        Salary\n",
       "20     $43.55 - $50.46 an hour\n",
       "27              $45,000 a year\n",
       "44    $55,000 - $70,000 a year\n",
       "117  $60,000 - $120,000 a year\n",
       "124          $45 - $50 an hour"
      ]
     },
     "execution_count": 89,
     "metadata": {},
     "output_type": "execute_result"
    }
   ],
   "source": [
    "salary_df.head(5)"
   ]
  },
  {
   "cell_type": "code",
   "execution_count": 90,
   "metadata": {},
   "outputs": [],
   "source": [
    "salary_df['Salary_list'] = salary_df['Salary'].str.split(' ')\n",
    "salary_df['Per'] = salary_df['Salary'].str.split(' ').str[-1]"
   ]
  },
  {
   "cell_type": "code",
   "execution_count": 91,
   "metadata": {},
   "outputs": [
    {
     "data": {
      "text/html": [
       "<div>\n",
       "<style scoped>\n",
       "    .dataframe tbody tr th:only-of-type {\n",
       "        vertical-align: middle;\n",
       "    }\n",
       "\n",
       "    .dataframe tbody tr th {\n",
       "        vertical-align: top;\n",
       "    }\n",
       "\n",
       "    .dataframe thead th {\n",
       "        text-align: right;\n",
       "    }\n",
       "</style>\n",
       "<table border=\"1\" class=\"dataframe\">\n",
       "  <thead>\n",
       "    <tr style=\"text-align: right;\">\n",
       "      <th></th>\n",
       "      <th>Salary</th>\n",
       "      <th>Salary_list</th>\n",
       "      <th>Per</th>\n",
       "    </tr>\n",
       "  </thead>\n",
       "  <tbody>\n",
       "    <tr>\n",
       "      <th>20</th>\n",
       "      <td>$43.55 - $50.46 an hour</td>\n",
       "      <td>[$43.55, -, $50.46, an, hour]</td>\n",
       "      <td>hour</td>\n",
       "    </tr>\n",
       "    <tr>\n",
       "      <th>27</th>\n",
       "      <td>$45,000 a year</td>\n",
       "      <td>[$45,000, a, year]</td>\n",
       "      <td>year</td>\n",
       "    </tr>\n",
       "    <tr>\n",
       "      <th>44</th>\n",
       "      <td>$55,000 - $70,000 a year</td>\n",
       "      <td>[$55,000, -, $70,000, a, year]</td>\n",
       "      <td>year</td>\n",
       "    </tr>\n",
       "    <tr>\n",
       "      <th>117</th>\n",
       "      <td>$60,000 - $120,000 a year</td>\n",
       "      <td>[$60,000, -, $120,000, a, year]</td>\n",
       "      <td>year</td>\n",
       "    </tr>\n",
       "    <tr>\n",
       "      <th>124</th>\n",
       "      <td>$45 - $50 an hour</td>\n",
       "      <td>[$45, -, $50, an, hour]</td>\n",
       "      <td>hour</td>\n",
       "    </tr>\n",
       "  </tbody>\n",
       "</table>\n",
       "</div>"
      ],
      "text/plain": [
       "                        Salary                      Salary_list   Per\n",
       "20     $43.55 - $50.46 an hour    [$43.55, -, $50.46, an, hour]  hour\n",
       "27              $45,000 a year               [$45,000, a, year]  year\n",
       "44    $55,000 - $70,000 a year   [$55,000, -, $70,000, a, year]  year\n",
       "117  $60,000 - $120,000 a year  [$60,000, -, $120,000, a, year]  year\n",
       "124          $45 - $50 an hour          [$45, -, $50, an, hour]  hour"
      ]
     },
     "execution_count": 91,
     "metadata": {},
     "output_type": "execute_result"
    }
   ],
   "source": [
    "salary_df.head(5)"
   ]
  },
  {
   "cell_type": "code",
   "execution_count": 92,
   "metadata": {},
   "outputs": [],
   "source": [
    "salary_df.loc[:, 'Lower'] = salary_df.Salary_list.map(lambda x: x[0])\n",
    "salary_df['Lower'] = salary_df['Lower'].map(lambda x: re.sub(r'[^0-9a-zA-Z.]', '', x))"
   ]
  },
  {
   "cell_type": "code",
   "execution_count": 93,
   "metadata": {},
   "outputs": [
    {
     "data": {
      "text/html": [
       "<div>\n",
       "<style scoped>\n",
       "    .dataframe tbody tr th:only-of-type {\n",
       "        vertical-align: middle;\n",
       "    }\n",
       "\n",
       "    .dataframe tbody tr th {\n",
       "        vertical-align: top;\n",
       "    }\n",
       "\n",
       "    .dataframe thead th {\n",
       "        text-align: right;\n",
       "    }\n",
       "</style>\n",
       "<table border=\"1\" class=\"dataframe\">\n",
       "  <thead>\n",
       "    <tr style=\"text-align: right;\">\n",
       "      <th></th>\n",
       "      <th>Salary</th>\n",
       "      <th>Salary_list</th>\n",
       "      <th>Per</th>\n",
       "      <th>Lower</th>\n",
       "    </tr>\n",
       "  </thead>\n",
       "  <tbody>\n",
       "    <tr>\n",
       "      <th>20</th>\n",
       "      <td>$43.55 - $50.46 an hour</td>\n",
       "      <td>[$43.55, -, $50.46, an, hour]</td>\n",
       "      <td>hour</td>\n",
       "      <td>43.55</td>\n",
       "    </tr>\n",
       "    <tr>\n",
       "      <th>27</th>\n",
       "      <td>$45,000 a year</td>\n",
       "      <td>[$45,000, a, year]</td>\n",
       "      <td>year</td>\n",
       "      <td>45000</td>\n",
       "    </tr>\n",
       "    <tr>\n",
       "      <th>44</th>\n",
       "      <td>$55,000 - $70,000 a year</td>\n",
       "      <td>[$55,000, -, $70,000, a, year]</td>\n",
       "      <td>year</td>\n",
       "      <td>55000</td>\n",
       "    </tr>\n",
       "    <tr>\n",
       "      <th>117</th>\n",
       "      <td>$60,000 - $120,000 a year</td>\n",
       "      <td>[$60,000, -, $120,000, a, year]</td>\n",
       "      <td>year</td>\n",
       "      <td>60000</td>\n",
       "    </tr>\n",
       "    <tr>\n",
       "      <th>124</th>\n",
       "      <td>$45 - $50 an hour</td>\n",
       "      <td>[$45, -, $50, an, hour]</td>\n",
       "      <td>hour</td>\n",
       "      <td>45</td>\n",
       "    </tr>\n",
       "  </tbody>\n",
       "</table>\n",
       "</div>"
      ],
      "text/plain": [
       "                        Salary                      Salary_list   Per  Lower\n",
       "20     $43.55 - $50.46 an hour    [$43.55, -, $50.46, an, hour]  hour  43.55\n",
       "27              $45,000 a year               [$45,000, a, year]  year  45000\n",
       "44    $55,000 - $70,000 a year   [$55,000, -, $70,000, a, year]  year  55000\n",
       "117  $60,000 - $120,000 a year  [$60,000, -, $120,000, a, year]  year  60000\n",
       "124          $45 - $50 an hour          [$45, -, $50, an, hour]  hour     45"
      ]
     },
     "execution_count": 93,
     "metadata": {},
     "output_type": "execute_result"
    }
   ],
   "source": [
    "salary_df.head(5)"
   ]
  },
  {
   "cell_type": "code",
   "execution_count": 94,
   "metadata": {},
   "outputs": [],
   "source": [
    "salary_df['Upper'] = salary_df['Salary'].str.split('-').str[1]\n",
    "salary_df['Upper'] = salary_df['Upper'].str.split(' ').str[1]"
   ]
  },
  {
   "cell_type": "code",
   "execution_count": 95,
   "metadata": {},
   "outputs": [],
   "source": [
    "salary_df['Upper'] = salary_df['Upper'].str.split('').str[2:-1]\n",
    "# write a number processor function"
   ]
  },
  {
   "cell_type": "code",
   "execution_count": 96,
   "metadata": {},
   "outputs": [
    {
     "data": {
      "text/plain": [
       "20            [5, 0, ., 4, 6]\n",
       "27                        NaN\n",
       "44         [7, 0, ,, 0, 0, 0]\n",
       "117     [1, 2, 0, ,, 0, 0, 0]\n",
       "124                    [5, 0]\n",
       "                ...          \n",
       "2357    [1, 2, 0, ,, 0, 0, 0]\n",
       "2430    [2, 1, 8, ,, 7, 0, 0]\n",
       "2462       [7, 2, ,, 2, 1, 0]\n",
       "2540    [1, 7, 6, ,, 7, 0, 0]\n",
       "2647    [1, 3, 0, ,, 0, 0, 0]\n",
       "Name: Upper, Length: 134, dtype: object"
      ]
     },
     "execution_count": 96,
     "metadata": {},
     "output_type": "execute_result"
    }
   ],
   "source": [
    "salary_df['Upper'] "
   ]
  },
  {
   "cell_type": "code",
   "execution_count": 97,
   "metadata": {},
   "outputs": [],
   "source": [
    "salary_df.to_csv('file_name1.csv', mode='a', index=False)"
   ]
  },
  {
   "cell_type": "code",
   "execution_count": null,
   "metadata": {},
   "outputs": [],
   "source": [
    "[^0-9,] "
   ]
  }
 ],
 "metadata": {
  "kernelspec": {
   "display_name": "Python 3",
   "language": "python",
   "name": "python3"
  },
  "language_info": {
   "codemirror_mode": {
    "name": "ipython",
    "version": 3
   },
   "file_extension": ".py",
   "mimetype": "text/x-python",
   "name": "python",
   "nbconvert_exporter": "python",
   "pygments_lexer": "ipython3",
   "version": "3.7.4"
  }
 },
 "nbformat": 4,
 "nbformat_minor": 2
}
