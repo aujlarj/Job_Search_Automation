{
 "cells": [
  {
   "cell_type": "code",
   "execution_count": 105,
   "metadata": {},
   "outputs": [],
   "source": [
    "import pandas as pd\n",
    "import numpy as np\n",
    "import matplotlib.pyplot as plt\n",
    "import seaborn as sns\n",
    "%matplotlib inline"
   ]
  },
  {
   "cell_type": "code",
   "execution_count": 106,
   "metadata": {},
   "outputs": [],
   "source": [
    "df1 = pd.read_csv('./Scraped Data/all jobs part 1 2020-05-30.csv')\n",
    "df2 = pd.read_csv('./Scraped Data/all jobs part 2 2020-05-30.csv')"
   ]
  },
  {
   "cell_type": "code",
   "execution_count": 107,
   "metadata": {},
   "outputs": [],
   "source": [
    "job_trends = pd.concat([\n",
    "    df1,df2\n",
    "],ignore_index=True).drop_duplicates().reset_index(drop=True)"
   ]
  },
  {
   "cell_type": "code",
   "execution_count": 108,
   "metadata": {},
   "outputs": [
    {
     "data": {
      "text/html": [
       "<div>\n",
       "<style scoped>\n",
       "    .dataframe tbody tr th:only-of-type {\n",
       "        vertical-align: middle;\n",
       "    }\n",
       "\n",
       "    .dataframe tbody tr th {\n",
       "        vertical-align: top;\n",
       "    }\n",
       "\n",
       "    .dataframe thead th {\n",
       "        text-align: right;\n",
       "    }\n",
       "</style>\n",
       "<table border=\"1\" class=\"dataframe\">\n",
       "  <thead>\n",
       "    <tr style=\"text-align: right;\">\n",
       "      <th></th>\n",
       "      <th>Primary_Key</th>\n",
       "      <th>Title</th>\n",
       "      <th>Company</th>\n",
       "      <th>Location</th>\n",
       "      <th>Salary</th>\n",
       "      <th>Ratings</th>\n",
       "      <th>Remote_work</th>\n",
       "      <th>Date_posted</th>\n",
       "      <th>Full_Description</th>\n",
       "    </tr>\n",
       "  </thead>\n",
       "  <tbody>\n",
       "    <tr>\n",
       "      <td>0</td>\n",
       "      <td>5a5a6bb65133edb5</td>\n",
       "      <td>Auto Service Advisor</td>\n",
       "      <td>A-Protect Warranty Corporation</td>\n",
       "      <td>Concord, ON</td>\n",
       "      <td>$40,000 - $60,000 a year</td>\n",
       "      <td>None</td>\n",
       "      <td>None</td>\n",
       "      <td>Just posted</td>\n",
       "      <td>A-Protect Warranty Corp is looking for an auto...</td>\n",
       "    </tr>\n",
       "    <tr>\n",
       "      <td>1</td>\n",
       "      <td>2e73a22f30099b50</td>\n",
       "      <td>HR Administrator</td>\n",
       "      <td>Fresh mind solutions</td>\n",
       "      <td>Toronto, ON</td>\n",
       "      <td>None</td>\n",
       "      <td>None</td>\n",
       "      <td>None</td>\n",
       "      <td>Just posted</td>\n",
       "      <td>Looking for experienced IT Sales person for ou...</td>\n",
       "    </tr>\n",
       "    <tr>\n",
       "      <td>2</td>\n",
       "      <td>e066713b39ecbfba</td>\n",
       "      <td>Labour Relations Manager</td>\n",
       "      <td>Metro Inc.</td>\n",
       "      <td>Toronto, ON</td>\n",
       "      <td>None</td>\n",
       "      <td>3.6</td>\n",
       "      <td>None</td>\n",
       "      <td>Just posted</td>\n",
       "      <td>Position Title:|Labour Relations Manager|Requi...</td>\n",
       "    </tr>\n",
       "    <tr>\n",
       "      <td>3</td>\n",
       "      <td>792e556f0f07c6b2</td>\n",
       "      <td>Barista</td>\n",
       "      <td>Second Cup @ Bathurst/Lawrence</td>\n",
       "      <td>North York, ON</td>\n",
       "      <td>$14 - $15 an hour</td>\n",
       "      <td>None</td>\n",
       "      <td>None</td>\n",
       "      <td>Just posted</td>\n",
       "      <td>Second Cup is looking for a responsible and en...</td>\n",
       "    </tr>\n",
       "    <tr>\n",
       "      <td>4</td>\n",
       "      <td>afa8e00305ac0667</td>\n",
       "      <td>General Labourer - $14.50/HR</td>\n",
       "      <td>Capital Staffing Solutions Inc.</td>\n",
       "      <td>Toronto, ON</td>\n",
       "      <td>$14.50 an hour</td>\n",
       "      <td>4.4</td>\n",
       "      <td>None</td>\n",
       "      <td>Just posted</td>\n",
       "      <td>Location:|Etobicoke (Kipling and The Queensway...</td>\n",
       "    </tr>\n",
       "  </tbody>\n",
       "</table>\n",
       "</div>"
      ],
      "text/plain": [
       "        Primary_Key                         Title  \\\n",
       "0  5a5a6bb65133edb5          Auto Service Advisor   \n",
       "1  2e73a22f30099b50              HR Administrator   \n",
       "2  e066713b39ecbfba      Labour Relations Manager   \n",
       "3  792e556f0f07c6b2                       Barista   \n",
       "4  afa8e00305ac0667  General Labourer - $14.50/HR   \n",
       "\n",
       "                           Company        Location                    Salary  \\\n",
       "0   A-Protect Warranty Corporation     Concord, ON  $40,000 - $60,000 a year   \n",
       "1             Fresh mind solutions     Toronto, ON                      None   \n",
       "2                       Metro Inc.     Toronto, ON                      None   \n",
       "3   Second Cup @ Bathurst/Lawrence  North York, ON         $14 - $15 an hour   \n",
       "4  Capital Staffing Solutions Inc.     Toronto, ON            $14.50 an hour   \n",
       "\n",
       "  Ratings Remote_work  Date_posted  \\\n",
       "0    None        None  Just posted   \n",
       "1    None        None  Just posted   \n",
       "2     3.6        None  Just posted   \n",
       "3    None        None  Just posted   \n",
       "4     4.4        None  Just posted   \n",
       "\n",
       "                                    Full_Description  \n",
       "0  A-Protect Warranty Corp is looking for an auto...  \n",
       "1  Looking for experienced IT Sales person for ou...  \n",
       "2  Position Title:|Labour Relations Manager|Requi...  \n",
       "3  Second Cup is looking for a responsible and en...  \n",
       "4  Location:|Etobicoke (Kipling and The Queensway...  "
      ]
     },
     "execution_count": 108,
     "metadata": {},
     "output_type": "execute_result"
    }
   ],
   "source": [
    "job_trends.head(5)"
   ]
  },
  {
   "cell_type": "code",
   "execution_count": 109,
   "metadata": {},
   "outputs": [
    {
     "name": "stdout",
     "output_type": "stream",
     "text": [
      "<class 'pandas.core.frame.DataFrame'>\n",
      "RangeIndex: 29155 entries, 0 to 29154\n",
      "Data columns (total 9 columns):\n",
      "Primary_Key         29155 non-null object\n",
      "Title               29155 non-null object\n",
      "Company             29155 non-null object\n",
      "Location            29155 non-null object\n",
      "Salary              29155 non-null object\n",
      "Ratings             29155 non-null object\n",
      "Remote_work         29155 non-null object\n",
      "Date_posted         29155 non-null object\n",
      "Full_Description    29155 non-null object\n",
      "dtypes: object(9)\n",
      "memory usage: 2.0+ MB\n"
     ]
    }
   ],
   "source": [
    "job_trends.info()"
   ]
  },
  {
   "cell_type": "code",
   "execution_count": 110,
   "metadata": {},
   "outputs": [],
   "source": [
    "primary_key_count = df.Primary_Key.value_counts()"
   ]
  },
  {
   "cell_type": "code",
   "execution_count": 111,
   "metadata": {},
   "outputs": [
    {
     "name": "stdout",
     "output_type": "stream",
     "text": [
      "[8792466a3ac6825b    True\n",
      "e752ebcf65dd3e50    True\n",
      "0293eb0e6ff044ec    True\n",
      "6711e214fccba06a    True\n",
      "f68534afaec0df9a    True\n",
      "                    ... \n",
      "21ad1fe00d42bbc6    True\n",
      "ae74fabfe8e77fdc    True\n",
      "4035143fd9b54277    True\n",
      "abcb3005c595d904    True\n",
      "770c766905c700f2    True\n",
      "Name: Primary_Key, Length: 29155, dtype: bool]\n"
     ]
    }
   ],
   "source": [
    "# Print all the primary_key_count > 0 (1 or more)\n",
    "print([primary_key_count>0])"
   ]
  },
  {
   "cell_type": "code",
   "execution_count": 112,
   "metadata": {},
   "outputs": [
    {
     "name": "stdout",
     "output_type": "stream",
     "text": [
      "Series([], Name: Primary_Key, dtype: int64)\n"
     ]
    }
   ],
   "source": [
    "# Print all the primary_key_count > 1 (2 or more)\n",
    "print(primary_key_count[primary_key_count>1])"
   ]
  },
  {
   "cell_type": "code",
   "execution_count": 113,
   "metadata": {},
   "outputs": [],
   "source": [
    "# we don't need to data mine primary key: so drop it (it's purpose has been filled)\n",
    "# job_trends = job_trends.drop(columns=['Primary_Key'])\n",
    "# full description is computation heavy, so we will explore it later\n",
    "# job_trends_NoDesc = job_trends.drop(columns=['Full_Description'])"
   ]
  },
  {
   "cell_type": "code",
   "execution_count": 114,
   "metadata": {},
   "outputs": [
    {
     "data": {
      "text/html": [
       "<div>\n",
       "<style scoped>\n",
       "    .dataframe tbody tr th:only-of-type {\n",
       "        vertical-align: middle;\n",
       "    }\n",
       "\n",
       "    .dataframe tbody tr th {\n",
       "        vertical-align: top;\n",
       "    }\n",
       "\n",
       "    .dataframe thead th {\n",
       "        text-align: right;\n",
       "    }\n",
       "</style>\n",
       "<table border=\"1\" class=\"dataframe\">\n",
       "  <thead>\n",
       "    <tr style=\"text-align: right;\">\n",
       "      <th></th>\n",
       "      <th>Primary_Key</th>\n",
       "      <th>Title</th>\n",
       "      <th>Company</th>\n",
       "      <th>Location</th>\n",
       "      <th>Salary</th>\n",
       "      <th>Ratings</th>\n",
       "      <th>Remote_work</th>\n",
       "      <th>Date_posted</th>\n",
       "      <th>Full_Description</th>\n",
       "    </tr>\n",
       "  </thead>\n",
       "  <tbody>\n",
       "    <tr>\n",
       "      <td>count</td>\n",
       "      <td>29155</td>\n",
       "      <td>29155</td>\n",
       "      <td>29155</td>\n",
       "      <td>29155</td>\n",
       "      <td>29155</td>\n",
       "      <td>29155</td>\n",
       "      <td>29155</td>\n",
       "      <td>29155</td>\n",
       "      <td>29155</td>\n",
       "    </tr>\n",
       "    <tr>\n",
       "      <td>unique</td>\n",
       "      <td>29155</td>\n",
       "      <td>21437</td>\n",
       "      <td>15660</td>\n",
       "      <td>2959</td>\n",
       "      <td>3033</td>\n",
       "      <td>42</td>\n",
       "      <td>2</td>\n",
       "      <td>32</td>\n",
       "      <td>27672</td>\n",
       "    </tr>\n",
       "    <tr>\n",
       "      <td>top</td>\n",
       "      <td>8792466a3ac6825b</td>\n",
       "      <td>Customer Service Representative</td>\n",
       "      <td>Randstad</td>\n",
       "      <td>Calgary, AB</td>\n",
       "      <td>None</td>\n",
       "      <td>None</td>\n",
       "      <td>None</td>\n",
       "      <td>1 day ago</td>\n",
       "      <td>None</td>\n",
       "    </tr>\n",
       "    <tr>\n",
       "      <td>freq</td>\n",
       "      <td>1</td>\n",
       "      <td>109</td>\n",
       "      <td>171</td>\n",
       "      <td>1427</td>\n",
       "      <td>16579</td>\n",
       "      <td>12011</td>\n",
       "      <td>26970</td>\n",
       "      <td>7938</td>\n",
       "      <td>97</td>\n",
       "    </tr>\n",
       "  </tbody>\n",
       "</table>\n",
       "</div>"
      ],
      "text/plain": [
       "             Primary_Key                            Title   Company  \\\n",
       "count              29155                            29155     29155   \n",
       "unique             29155                            21437     15660   \n",
       "top     8792466a3ac6825b  Customer Service Representative  Randstad   \n",
       "freq                   1                              109       171   \n",
       "\n",
       "           Location Salary Ratings Remote_work Date_posted Full_Description  \n",
       "count         29155  29155   29155       29155       29155            29155  \n",
       "unique         2959   3033      42           2          32            27672  \n",
       "top     Calgary, AB   None    None        None   1 day ago             None  \n",
       "freq           1427  16579   12011       26970        7938               97  "
      ]
     },
     "execution_count": 114,
     "metadata": {},
     "output_type": "execute_result"
    }
   ],
   "source": [
    "job_trends.describe(include='all')"
   ]
  },
  {
   "cell_type": "markdown",
   "metadata": {},
   "source": [
    "## Title NLP"
   ]
  },
  {
   "cell_type": "code",
   "execution_count": 115,
   "metadata": {},
   "outputs": [],
   "source": [
    "title_df = job_trends[['Primary_Key', 'Title']] "
   ]
  },
  {
   "cell_type": "code",
   "execution_count": 116,
   "metadata": {},
   "outputs": [
    {
     "data": {
      "text/html": [
       "<div>\n",
       "<style scoped>\n",
       "    .dataframe tbody tr th:only-of-type {\n",
       "        vertical-align: middle;\n",
       "    }\n",
       "\n",
       "    .dataframe tbody tr th {\n",
       "        vertical-align: top;\n",
       "    }\n",
       "\n",
       "    .dataframe thead th {\n",
       "        text-align: right;\n",
       "    }\n",
       "</style>\n",
       "<table border=\"1\" class=\"dataframe\">\n",
       "  <thead>\n",
       "    <tr style=\"text-align: right;\">\n",
       "      <th></th>\n",
       "      <th>Primary_Key</th>\n",
       "      <th>Title</th>\n",
       "    </tr>\n",
       "  </thead>\n",
       "  <tbody>\n",
       "    <tr>\n",
       "      <td>0</td>\n",
       "      <td>5a5a6bb65133edb5</td>\n",
       "      <td>Auto Service Advisor</td>\n",
       "    </tr>\n",
       "    <tr>\n",
       "      <td>1</td>\n",
       "      <td>2e73a22f30099b50</td>\n",
       "      <td>HR Administrator</td>\n",
       "    </tr>\n",
       "    <tr>\n",
       "      <td>2</td>\n",
       "      <td>e066713b39ecbfba</td>\n",
       "      <td>Labour Relations Manager</td>\n",
       "    </tr>\n",
       "    <tr>\n",
       "      <td>3</td>\n",
       "      <td>792e556f0f07c6b2</td>\n",
       "      <td>Barista</td>\n",
       "    </tr>\n",
       "    <tr>\n",
       "      <td>4</td>\n",
       "      <td>afa8e00305ac0667</td>\n",
       "      <td>General Labourer - $14.50/HR</td>\n",
       "    </tr>\n",
       "  </tbody>\n",
       "</table>\n",
       "</div>"
      ],
      "text/plain": [
       "        Primary_Key                         Title\n",
       "0  5a5a6bb65133edb5          Auto Service Advisor\n",
       "1  2e73a22f30099b50              HR Administrator\n",
       "2  e066713b39ecbfba      Labour Relations Manager\n",
       "3  792e556f0f07c6b2                       Barista\n",
       "4  afa8e00305ac0667  General Labourer - $14.50/HR"
      ]
     },
     "execution_count": 116,
     "metadata": {},
     "output_type": "execute_result"
    }
   ],
   "source": [
    "title_df.head(5)"
   ]
  },
  {
   "cell_type": "code",
   "execution_count": 117,
   "metadata": {},
   "outputs": [
    {
     "name": "stderr",
     "output_type": "stream",
     "text": [
      "C:\\Users\\aujla\\Anaconda3\\lib\\site-packages\\ipykernel_launcher.py:2: SettingWithCopyWarning: \n",
      "A value is trying to be set on a copy of a slice from a DataFrame.\n",
      "Try using .loc[row_indexer,col_indexer] = value instead\n",
      "\n",
      "See the caveats in the documentation: http://pandas.pydata.org/pandas-docs/stable/user_guide/indexing.html#returning-a-view-versus-a-copy\n",
      "  \n"
     ]
    }
   ],
   "source": [
    "# fix this error later\n",
    "title_df['length'] = title_df['Title'].apply(len)"
   ]
  },
  {
   "cell_type": "code",
   "execution_count": 118,
   "metadata": {},
   "outputs": [
    {
     "data": {
      "text/html": [
       "<div>\n",
       "<style scoped>\n",
       "    .dataframe tbody tr th:only-of-type {\n",
       "        vertical-align: middle;\n",
       "    }\n",
       "\n",
       "    .dataframe tbody tr th {\n",
       "        vertical-align: top;\n",
       "    }\n",
       "\n",
       "    .dataframe thead th {\n",
       "        text-align: right;\n",
       "    }\n",
       "</style>\n",
       "<table border=\"1\" class=\"dataframe\">\n",
       "  <thead>\n",
       "    <tr style=\"text-align: right;\">\n",
       "      <th></th>\n",
       "      <th>Primary_Key</th>\n",
       "      <th>Title</th>\n",
       "      <th>length</th>\n",
       "    </tr>\n",
       "  </thead>\n",
       "  <tbody>\n",
       "    <tr>\n",
       "      <td>count</td>\n",
       "      <td>29155</td>\n",
       "      <td>29155</td>\n",
       "      <td>29155.000000</td>\n",
       "    </tr>\n",
       "    <tr>\n",
       "      <td>unique</td>\n",
       "      <td>29155</td>\n",
       "      <td>21437</td>\n",
       "      <td>NaN</td>\n",
       "    </tr>\n",
       "    <tr>\n",
       "      <td>top</td>\n",
       "      <td>8792466a3ac6825b</td>\n",
       "      <td>Customer Service Representative</td>\n",
       "      <td>NaN</td>\n",
       "    </tr>\n",
       "    <tr>\n",
       "      <td>freq</td>\n",
       "      <td>1</td>\n",
       "      <td>109</td>\n",
       "      <td>NaN</td>\n",
       "    </tr>\n",
       "    <tr>\n",
       "      <td>mean</td>\n",
       "      <td>NaN</td>\n",
       "      <td>NaN</td>\n",
       "      <td>29.702281</td>\n",
       "    </tr>\n",
       "    <tr>\n",
       "      <td>std</td>\n",
       "      <td>NaN</td>\n",
       "      <td>NaN</td>\n",
       "      <td>15.194788</td>\n",
       "    </tr>\n",
       "    <tr>\n",
       "      <td>min</td>\n",
       "      <td>NaN</td>\n",
       "      <td>NaN</td>\n",
       "      <td>2.000000</td>\n",
       "    </tr>\n",
       "    <tr>\n",
       "      <td>25%</td>\n",
       "      <td>NaN</td>\n",
       "      <td>NaN</td>\n",
       "      <td>19.000000</td>\n",
       "    </tr>\n",
       "    <tr>\n",
       "      <td>50%</td>\n",
       "      <td>NaN</td>\n",
       "      <td>NaN</td>\n",
       "      <td>27.000000</td>\n",
       "    </tr>\n",
       "    <tr>\n",
       "      <td>75%</td>\n",
       "      <td>NaN</td>\n",
       "      <td>NaN</td>\n",
       "      <td>37.000000</td>\n",
       "    </tr>\n",
       "    <tr>\n",
       "      <td>max</td>\n",
       "      <td>NaN</td>\n",
       "      <td>NaN</td>\n",
       "      <td>148.000000</td>\n",
       "    </tr>\n",
       "  </tbody>\n",
       "</table>\n",
       "</div>"
      ],
      "text/plain": [
       "             Primary_Key                            Title        length\n",
       "count              29155                            29155  29155.000000\n",
       "unique             29155                            21437           NaN\n",
       "top     8792466a3ac6825b  Customer Service Representative           NaN\n",
       "freq                   1                              109           NaN\n",
       "mean                 NaN                              NaN     29.702281\n",
       "std                  NaN                              NaN     15.194788\n",
       "min                  NaN                              NaN      2.000000\n",
       "25%                  NaN                              NaN     19.000000\n",
       "50%                  NaN                              NaN     27.000000\n",
       "75%                  NaN                              NaN     37.000000\n",
       "max                  NaN                              NaN    148.000000"
      ]
     },
     "execution_count": 118,
     "metadata": {},
     "output_type": "execute_result"
    }
   ],
   "source": [
    "title_df.describe(include='all')"
   ]
  },
  {
   "cell_type": "code",
   "execution_count": 119,
   "metadata": {},
   "outputs": [
    {
     "data": {
      "text/plain": [
       "<matplotlib.axes._subplots.AxesSubplot at 0x11fa998b4c8>"
      ]
     },
     "execution_count": 119,
     "metadata": {},
     "output_type": "execute_result"
    },
    {
     "data": {
      "image/png": "[encoded data removed]",
      "text/plain": [
       "<Figure size 432x288 with 1 Axes>"
      ]
     },
     "metadata": {
      "needs_background": "light"
     },
     "output_type": "display_data"
    }
   ],
   "source": [
    "title_df['length'].plot(bins=np.linspace(0, 2, 40), kind='hist') "
   ]
  },
  {
   "cell_type": "code",
   "execution_count": 104,
   "metadata": {},
   "outputs": [
    {
     "data": {
      "text/html": [
       "<div>\n",
       "<style scoped>\n",
       "    .dataframe tbody tr th:only-of-type {\n",
       "        vertical-align: middle;\n",
       "    }\n",
       "\n",
       "    .dataframe tbody tr th {\n",
       "        vertical-align: top;\n",
       "    }\n",
       "\n",
       "    .dataframe thead th {\n",
       "        text-align: right;\n",
       "    }\n",
       "</style>\n",
       "<table border=\"1\" class=\"dataframe\">\n",
       "  <thead>\n",
       "    <tr style=\"text-align: right;\">\n",
       "      <th></th>\n",
       "      <th>Primary_Key</th>\n",
       "      <th>Title</th>\n",
       "      <th>length</th>\n",
       "      <th>length2</th>\n",
       "    </tr>\n",
       "  </thead>\n",
       "  <tbody>\n",
       "    <tr>\n",
       "      <td>count</td>\n",
       "      <td>29155</td>\n",
       "      <td>29155</td>\n",
       "      <td>29155.000000</td>\n",
       "      <td>29155.000000</td>\n",
       "    </tr>\n",
       "    <tr>\n",
       "      <td>unique</td>\n",
       "      <td>29155</td>\n",
       "      <td>21437</td>\n",
       "      <td>NaN</td>\n",
       "      <td>NaN</td>\n",
       "    </tr>\n",
       "    <tr>\n",
       "      <td>top</td>\n",
       "      <td>8792466a3ac6825b</td>\n",
       "      <td>Customer Service Representative</td>\n",
       "      <td>NaN</td>\n",
       "      <td>NaN</td>\n",
       "    </tr>\n",
       "    <tr>\n",
       "      <td>freq</td>\n",
       "      <td>1</td>\n",
       "      <td>109</td>\n",
       "      <td>NaN</td>\n",
       "      <td>NaN</td>\n",
       "    </tr>\n",
       "    <tr>\n",
       "      <td>mean</td>\n",
       "      <td>NaN</td>\n",
       "      <td>NaN</td>\n",
       "      <td>29.702281</td>\n",
       "      <td>29.702281</td>\n",
       "    </tr>\n",
       "    <tr>\n",
       "      <td>std</td>\n",
       "      <td>NaN</td>\n",
       "      <td>NaN</td>\n",
       "      <td>15.194788</td>\n",
       "      <td>15.194788</td>\n",
       "    </tr>\n",
       "    <tr>\n",
       "      <td>min</td>\n",
       "      <td>NaN</td>\n",
       "      <td>NaN</td>\n",
       "      <td>2.000000</td>\n",
       "      <td>2.000000</td>\n",
       "    </tr>\n",
       "    <tr>\n",
       "      <td>25%</td>\n",
       "      <td>NaN</td>\n",
       "      <td>NaN</td>\n",
       "      <td>19.000000</td>\n",
       "      <td>19.000000</td>\n",
       "    </tr>\n",
       "    <tr>\n",
       "      <td>50%</td>\n",
       "      <td>NaN</td>\n",
       "      <td>NaN</td>\n",
       "      <td>27.000000</td>\n",
       "      <td>27.000000</td>\n",
       "    </tr>\n",
       "    <tr>\n",
       "      <td>75%</td>\n",
       "      <td>NaN</td>\n",
       "      <td>NaN</td>\n",
       "      <td>37.000000</td>\n",
       "      <td>37.000000</td>\n",
       "    </tr>\n",
       "    <tr>\n",
       "      <td>max</td>\n",
       "      <td>NaN</td>\n",
       "      <td>NaN</td>\n",
       "      <td>148.000000</td>\n",
       "      <td>148.000000</td>\n",
       "    </tr>\n",
       "  </tbody>\n",
       "</table>\n",
       "</div>"
      ],
      "text/plain": [
       "             Primary_Key                            Title        length  \\\n",
       "count              29155                            29155  29155.000000   \n",
       "unique             29155                            21437           NaN   \n",
       "top     8792466a3ac6825b  Customer Service Representative           NaN   \n",
       "freq                   1                              109           NaN   \n",
       "mean                 NaN                              NaN     29.702281   \n",
       "std                  NaN                              NaN     15.194788   \n",
       "min                  NaN                              NaN      2.000000   \n",
       "25%                  NaN                              NaN     19.000000   \n",
       "50%                  NaN                              NaN     27.000000   \n",
       "75%                  NaN                              NaN     37.000000   \n",
       "max                  NaN                              NaN    148.000000   \n",
       "\n",
       "             length2  \n",
       "count   29155.000000  \n",
       "unique           NaN  \n",
       "top              NaN  \n",
       "freq             NaN  \n",
       "mean       29.702281  \n",
       "std        15.194788  \n",
       "min         2.000000  \n",
       "25%        19.000000  \n",
       "50%        27.000000  \n",
       "75%        37.000000  \n",
       "max       148.000000  "
      ]
     },
     "execution_count": 104,
     "metadata": {},
     "output_type": "execute_result"
    }
   ],
   "source": []
  },
  {
   "cell_type": "code",
   "execution_count": null,
   "metadata": {},
   "outputs": [],
   "source": []
  }
 ],
 "metadata": {
  "kernelspec": {
   "display_name": "Python 3",
   "language": "python",
   "name": "python3"
  },
  "language_info": {
   "codemirror_mode": {
    "name": "ipython",
    "version": 3
   },
   "file_extension": ".py",
   "mimetype": "text/x-python",
   "name": "python",
   "nbconvert_exporter": "python",
   "pygments_lexer": "ipython3",
   "version": "3.7.4"
  }
 },
 "nbformat": 4,
 "nbformat_minor": 2
}
