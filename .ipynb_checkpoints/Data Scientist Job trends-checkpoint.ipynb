{
 "cells": [
  {
   "cell_type": "code",
   "execution_count": 869,
   "metadata": {},
   "outputs": [],
   "source": [
    "import pandas as pd\n",
    "import numpy as np\n",
    "import matplotlib.pyplot as plt\n",
    "import seaborn as sns\n",
    "sns.set_style('white')\n",
    "%matplotlib inline"
   ]
  },
  {
   "cell_type": "code",
   "execution_count": 870,
   "metadata": {},
   "outputs": [],
   "source": [
    "data_scientist_trends = pd.read_csv('./Scraped Data/Data Scientist 2020-05-31.csv', encoding='UTF-8')"
   ]
  },
  {
   "cell_type": "code",
   "execution_count": 871,
   "metadata": {},
   "outputs": [],
   "source": [
    "data_scientist_trends = data_scientist_trends.drop(columns=['Full_Description'])"
   ]
  },
  {
   "cell_type": "code",
   "execution_count": 872,
   "metadata": {},
   "outputs": [
    {
     "data": {
      "text/html": [
       "<div>\n",
       "<style scoped>\n",
       "    .dataframe tbody tr th:only-of-type {\n",
       "        vertical-align: middle;\n",
       "    }\n",
       "\n",
       "    .dataframe tbody tr th {\n",
       "        vertical-align: top;\n",
       "    }\n",
       "\n",
       "    .dataframe thead th {\n",
       "        text-align: right;\n",
       "    }\n",
       "</style>\n",
       "<table border=\"1\" class=\"dataframe\">\n",
       "  <thead>\n",
       "    <tr style=\"text-align: right;\">\n",
       "      <th></th>\n",
       "      <th>Primary_Key</th>\n",
       "      <th>Title</th>\n",
       "      <th>Company</th>\n",
       "      <th>Location</th>\n",
       "      <th>Salary</th>\n",
       "      <th>Ratings</th>\n",
       "      <th>Remote_work</th>\n",
       "      <th>Date_posted</th>\n",
       "    </tr>\n",
       "  </thead>\n",
       "  <tbody>\n",
       "    <tr>\n",
       "      <td>0</td>\n",
       "      <td>94f3279c66a2af26</td>\n",
       "      <td>Principal PK/PD Statistical Programmer</td>\n",
       "      <td>Prescribe Data</td>\n",
       "      <td>Toronto, ON</td>\n",
       "      <td>None</td>\n",
       "      <td>None</td>\n",
       "      <td>Remote work available</td>\n",
       "      <td>Just posted</td>\n",
       "    </tr>\n",
       "    <tr>\n",
       "      <td>1</td>\n",
       "      <td>7292631b85b6c5f3</td>\n",
       "      <td>Senior Data Scientist</td>\n",
       "      <td>Tonal</td>\n",
       "      <td>Toronto, ON</td>\n",
       "      <td>None</td>\n",
       "      <td>None</td>\n",
       "      <td>None</td>\n",
       "      <td>1 day ago</td>\n",
       "    </tr>\n",
       "    <tr>\n",
       "      <td>2</td>\n",
       "      <td>9dc10ad7bd2ba391</td>\n",
       "      <td>Applied Scientist</td>\n",
       "      <td>Cyclica</td>\n",
       "      <td>Toronto, ON</td>\n",
       "      <td>None</td>\n",
       "      <td>None</td>\n",
       "      <td>None</td>\n",
       "      <td>2 days ago</td>\n",
       "    </tr>\n",
       "    <tr>\n",
       "      <td>3</td>\n",
       "      <td>7c88fbde01e34960</td>\n",
       "      <td>Product Manager – Enterprise Data and Analytics</td>\n",
       "      <td>Real Matters</td>\n",
       "      <td>Toronto, ON</td>\n",
       "      <td>None</td>\n",
       "      <td>2</td>\n",
       "      <td>Remote work available</td>\n",
       "      <td>2 days ago</td>\n",
       "    </tr>\n",
       "    <tr>\n",
       "      <td>4</td>\n",
       "      <td>d4953b2cd0f46973</td>\n",
       "      <td>Senior Data Analyst, Investigations</td>\n",
       "      <td>Investment Industry Reg Org of Canada</td>\n",
       "      <td>Toronto, ON</td>\n",
       "      <td>None</td>\n",
       "      <td>None</td>\n",
       "      <td>None</td>\n",
       "      <td>2 days ago</td>\n",
       "    </tr>\n",
       "  </tbody>\n",
       "</table>\n",
       "</div>"
      ],
      "text/plain": [
       "        Primary_Key                                            Title  \\\n",
       "0  94f3279c66a2af26           Principal PK/PD Statistical Programmer   \n",
       "1  7292631b85b6c5f3                            Senior Data Scientist   \n",
       "2  9dc10ad7bd2ba391                                Applied Scientist   \n",
       "3  7c88fbde01e34960  Product Manager – Enterprise Data and Analytics   \n",
       "4  d4953b2cd0f46973              Senior Data Analyst, Investigations   \n",
       "\n",
       "                                 Company     Location Salary Ratings  \\\n",
       "0                         Prescribe Data  Toronto, ON   None    None   \n",
       "1                                  Tonal  Toronto, ON   None    None   \n",
       "2                                Cyclica  Toronto, ON   None    None   \n",
       "3                           Real Matters  Toronto, ON   None       2   \n",
       "4  Investment Industry Reg Org of Canada  Toronto, ON   None    None   \n",
       "\n",
       "             Remote_work  Date_posted  \n",
       "0  Remote work available  Just posted  \n",
       "1                   None    1 day ago  \n",
       "2                   None   2 days ago  \n",
       "3  Remote work available   2 days ago  \n",
       "4                   None   2 days ago  "
      ]
     },
     "execution_count": 872,
     "metadata": {},
     "output_type": "execute_result"
    }
   ],
   "source": [
    "data_scientist_trends.head()"
   ]
  },
  {
   "cell_type": "code",
   "execution_count": 873,
   "metadata": {},
   "outputs": [
    {
     "name": "stdout",
     "output_type": "stream",
     "text": [
      "<class 'pandas.core.frame.DataFrame'>\n",
      "RangeIndex: 2676 entries, 0 to 2675\n",
      "Data columns (total 8 columns):\n",
      "Primary_Key    2676 non-null object\n",
      "Title          2676 non-null object\n",
      "Company        2676 non-null object\n",
      "Location       2676 non-null object\n",
      "Salary         2676 non-null object\n",
      "Ratings        2676 non-null object\n",
      "Remote_work    2676 non-null object\n",
      "Date_posted    2676 non-null object\n",
      "dtypes: object(8)\n",
      "memory usage: 167.4+ KB\n"
     ]
    }
   ],
   "source": [
    "data_scientist_trends.info()"
   ]
  },
  {
   "cell_type": "code",
   "execution_count": 874,
   "metadata": {},
   "outputs": [
    {
     "data": {
      "text/html": [
       "<div>\n",
       "<style scoped>\n",
       "    .dataframe tbody tr th:only-of-type {\n",
       "        vertical-align: middle;\n",
       "    }\n",
       "\n",
       "    .dataframe tbody tr th {\n",
       "        vertical-align: top;\n",
       "    }\n",
       "\n",
       "    .dataframe thead th {\n",
       "        text-align: right;\n",
       "    }\n",
       "</style>\n",
       "<table border=\"1\" class=\"dataframe\">\n",
       "  <thead>\n",
       "    <tr style=\"text-align: right;\">\n",
       "      <th></th>\n",
       "      <th>Primary_Key</th>\n",
       "      <th>Title</th>\n",
       "      <th>Company</th>\n",
       "      <th>Location</th>\n",
       "      <th>Salary</th>\n",
       "      <th>Ratings</th>\n",
       "      <th>Remote_work</th>\n",
       "      <th>Date_posted</th>\n",
       "    </tr>\n",
       "  </thead>\n",
       "  <tbody>\n",
       "    <tr>\n",
       "      <td>count</td>\n",
       "      <td>2676</td>\n",
       "      <td>2676</td>\n",
       "      <td>2676</td>\n",
       "      <td>2676</td>\n",
       "      <td>2676</td>\n",
       "      <td>2676</td>\n",
       "      <td>2676</td>\n",
       "      <td>2676</td>\n",
       "    </tr>\n",
       "    <tr>\n",
       "      <td>unique</td>\n",
       "      <td>2676</td>\n",
       "      <td>1764</td>\n",
       "      <td>1289</td>\n",
       "      <td>423</td>\n",
       "      <td>118</td>\n",
       "      <td>31</td>\n",
       "      <td>2</td>\n",
       "      <td>31</td>\n",
       "    </tr>\n",
       "    <tr>\n",
       "      <td>top</td>\n",
       "      <td>bfbf48a7fd62629d</td>\n",
       "      <td>Data Scientist</td>\n",
       "      <td>Amazon.com Services LLC</td>\n",
       "      <td>Seattle, WA</td>\n",
       "      <td>None</td>\n",
       "      <td>None</td>\n",
       "      <td>None</td>\n",
       "      <td>30+ days ago</td>\n",
       "    </tr>\n",
       "    <tr>\n",
       "      <td>freq</td>\n",
       "      <td>1</td>\n",
       "      <td>269</td>\n",
       "      <td>200</td>\n",
       "      <td>277</td>\n",
       "      <td>2542</td>\n",
       "      <td>751</td>\n",
       "      <td>2496</td>\n",
       "      <td>1791</td>\n",
       "    </tr>\n",
       "  </tbody>\n",
       "</table>\n",
       "</div>"
      ],
      "text/plain": [
       "             Primary_Key           Title                  Company  \\\n",
       "count               2676            2676                     2676   \n",
       "unique              2676            1764                     1289   \n",
       "top     bfbf48a7fd62629d  Data Scientist  Amazon.com Services LLC   \n",
       "freq                   1             269                      200   \n",
       "\n",
       "           Location Salary Ratings Remote_work   Date_posted  \n",
       "count          2676   2676    2676        2676          2676  \n",
       "unique          423    118      31           2            31  \n",
       "top     Seattle, WA   None    None        None  30+ days ago  \n",
       "freq            277   2542     751        2496          1791  "
      ]
     },
     "execution_count": 874,
     "metadata": {},
     "output_type": "execute_result"
    }
   ],
   "source": [
    "data_scientist_trends.describe(include='all')"
   ]
  },
  {
   "cell_type": "code",
   "execution_count": 875,
   "metadata": {},
   "outputs": [
    {
     "data": {
      "text/plain": [
       "Primary_Key    object\n",
       "Title          object\n",
       "Company        object\n",
       "Location       object\n",
       "Salary         object\n",
       "Ratings        object\n",
       "Remote_work    object\n",
       "Date_posted    object\n",
       "dtype: object"
      ]
     },
     "execution_count": 875,
     "metadata": {},
     "output_type": "execute_result"
    }
   ],
   "source": [
    "data_scientist_trends.dtypes"
   ]
  },
  {
   "cell_type": "code",
   "execution_count": 876,
   "metadata": {},
   "outputs": [],
   "source": [
    "ratings_df = data_scientist_trends[['Ratings']] "
   ]
  },
  {
   "cell_type": "code",
   "execution_count": 877,
   "metadata": {},
   "outputs": [
    {
     "data": {
      "text/html": [
       "<div>\n",
       "<style scoped>\n",
       "    .dataframe tbody tr th:only-of-type {\n",
       "        vertical-align: middle;\n",
       "    }\n",
       "\n",
       "    .dataframe tbody tr th {\n",
       "        vertical-align: top;\n",
       "    }\n",
       "\n",
       "    .dataframe thead th {\n",
       "        text-align: right;\n",
       "    }\n",
       "</style>\n",
       "<table border=\"1\" class=\"dataframe\">\n",
       "  <thead>\n",
       "    <tr style=\"text-align: right;\">\n",
       "      <th></th>\n",
       "      <th>Ratings</th>\n",
       "    </tr>\n",
       "  </thead>\n",
       "  <tbody>\n",
       "    <tr>\n",
       "      <td>0</td>\n",
       "      <td>None</td>\n",
       "    </tr>\n",
       "    <tr>\n",
       "      <td>1</td>\n",
       "      <td>None</td>\n",
       "    </tr>\n",
       "    <tr>\n",
       "      <td>2</td>\n",
       "      <td>None</td>\n",
       "    </tr>\n",
       "    <tr>\n",
       "      <td>3</td>\n",
       "      <td>2</td>\n",
       "    </tr>\n",
       "    <tr>\n",
       "      <td>4</td>\n",
       "      <td>None</td>\n",
       "    </tr>\n",
       "  </tbody>\n",
       "</table>\n",
       "</div>"
      ],
      "text/plain": [
       "  Ratings\n",
       "0    None\n",
       "1    None\n",
       "2    None\n",
       "3       2\n",
       "4    None"
      ]
     },
     "execution_count": 877,
     "metadata": {},
     "output_type": "execute_result"
    }
   ],
   "source": [
    "ratings_df.head()"
   ]
  },
  {
   "cell_type": "code",
   "execution_count": 878,
   "metadata": {},
   "outputs": [
    {
     "name": "stdout",
     "output_type": "stream",
     "text": [
      "None    751\n",
      "3.6     361\n",
      "4       237\n",
      "3.8     213\n",
      "4.2     204\n",
      "3.9     164\n",
      "4.1     135\n",
      "3.7      95\n",
      "4.3      79\n",
      "3.5      77\n",
      "3.4      67\n",
      "3.3      42\n",
      "4.4      33\n",
      "4.5      27\n",
      "3.2      24\n",
      "5        24\n",
      "3        23\n",
      "4.8      18\n",
      "2.7      17\n",
      "2.8      17\n",
      "3.1      15\n",
      "4.7      13\n",
      "4.6      10\n",
      "2.9      10\n",
      "2         6\n",
      "2.2       5\n",
      "2.6       4\n",
      "2.5       2\n",
      "Name: Ratings, dtype: int64\n"
     ]
    }
   ],
   "source": [
    "Ratings_count = ratings_df.Ratings.value_counts()\n",
    "print(Ratings_count[Ratings_count>1])"
   ]
  },
  {
   "cell_type": "code",
   "execution_count": 879,
   "metadata": {},
   "outputs": [
    {
     "data": {
      "text/plain": [
       "<matplotlib.axes._subplots.AxesSubplot at 0x2a3d5f43888>"
      ]
     },
     "execution_count": 879,
     "metadata": {},
     "output_type": "execute_result"
    },
    {
     "data": {
      "image/png": "[encoded data removed]",
      "text/plain": [
       "<Figure size 720x720 with 1 Axes>"
      ]
     },
     "metadata": {
      "needs_background": "light"
     },
     "output_type": "display_data"
    }
   ],
   "source": [
    "plt.rcParams['figure.figsize'] = [10, 10]\n",
    "ratings_df.Ratings.value_counts().sort_values().plot(kind = 'bar',edgecolor='black',\n",
    "                                                     linewidth='1', grid=True, x = 'Count', y = 'Ratings')"
   ]
  },
  {
   "cell_type": "code",
   "execution_count": 880,
   "metadata": {},
   "outputs": [
    {
     "data": {
      "text/plain": [
       "count     31.000000\n",
       "mean      86.322581\n",
       "std      151.010460\n",
       "min        1.000000\n",
       "25%       10.000000\n",
       "50%       24.000000\n",
       "75%       87.000000\n",
       "max      751.000000\n",
       "Name: Ratings, dtype: float64"
      ]
     },
     "execution_count": 880,
     "metadata": {},
     "output_type": "execute_result"
    }
   ],
   "source": [
    "Ratings_count.describe(include='all')"
   ]
  },
  {
   "cell_type": "code",
   "execution_count": 881,
   "metadata": {},
   "outputs": [],
   "source": [
    "ratings_df = ratings_df[ratings_df.Ratings != 'None']"
   ]
  },
  {
   "cell_type": "code",
   "execution_count": 882,
   "metadata": {},
   "outputs": [
    {
     "data": {
      "text/plain": [
       "<matplotlib.axes._subplots.AxesSubplot at 0x2a39c41aa48>"
      ]
     },
     "execution_count": 882,
     "metadata": {},
     "output_type": "execute_result"
    },
    {
     "data": {
      "image/png": "[encoded data removed]",
      "text/plain": [
       "<Figure size 720x720 with 1 Axes>"
      ]
     },
     "metadata": {
      "needs_background": "light"
     },
     "output_type": "display_data"
    }
   ],
   "source": [
    "plt.rcParams['figure.figsize'] = [10, 10]\n",
    "ratings_df.Ratings.value_counts().sort_values().plot(kind = 'barh',edgecolor='black',\n",
    "                                                     linewidth='1', grid=True, x = 'Count', y = 'Ratings')"
   ]
  },
  {
   "cell_type": "code",
   "execution_count": 883,
   "metadata": {},
   "outputs": [
    {
     "data": {
      "text/plain": [
       "dtype('O')"
      ]
     },
     "execution_count": 883,
     "metadata": {},
     "output_type": "execute_result"
    }
   ],
   "source": [
    "ratings_df['Ratings'].dtypes"
   ]
  },
  {
   "cell_type": "code",
   "execution_count": 884,
   "metadata": {},
   "outputs": [
    {
     "data": {
      "text/plain": [
       "dtype('float64')"
      ]
     },
     "execution_count": 884,
     "metadata": {},
     "output_type": "execute_result"
    }
   ],
   "source": [
    "ratings_df['Ratings'] = ratings_df['Ratings'].astype(float)\n",
    "ratings_df['Ratings'].dtypes"
   ]
  },
  {
   "cell_type": "code",
   "execution_count": 885,
   "metadata": {},
   "outputs": [],
   "source": [
    "ratings_df['Mod'] = ratings_df.Ratings % 0.5"
   ]
  },
  {
   "cell_type": "code",
   "execution_count": 886,
   "metadata": {},
   "outputs": [
    {
     "data": {
      "text/plain": [
       "dtype('float64')"
      ]
     },
     "execution_count": 886,
     "metadata": {},
     "output_type": "execute_result"
    }
   ],
   "source": [
    "ratings_df.Mod.dtypes"
   ]
  },
  {
   "cell_type": "code",
   "execution_count": 887,
   "metadata": {},
   "outputs": [
    {
     "data": {
      "text/html": [
       "<div>\n",
       "<style scoped>\n",
       "    .dataframe tbody tr th:only-of-type {\n",
       "        vertical-align: middle;\n",
       "    }\n",
       "\n",
       "    .dataframe tbody tr th {\n",
       "        vertical-align: top;\n",
       "    }\n",
       "\n",
       "    .dataframe thead th {\n",
       "        text-align: right;\n",
       "    }\n",
       "</style>\n",
       "<table border=\"1\" class=\"dataframe\">\n",
       "  <thead>\n",
       "    <tr style=\"text-align: right;\">\n",
       "      <th></th>\n",
       "      <th>Ratings</th>\n",
       "      <th>Mod</th>\n",
       "    </tr>\n",
       "  </thead>\n",
       "  <tbody>\n",
       "    <tr>\n",
       "      <td>3</td>\n",
       "      <td>2.0</td>\n",
       "      <td>0.0</td>\n",
       "    </tr>\n",
       "    <tr>\n",
       "      <td>5</td>\n",
       "      <td>2.2</td>\n",
       "      <td>0.2</td>\n",
       "    </tr>\n",
       "    <tr>\n",
       "      <td>8</td>\n",
       "      <td>3.9</td>\n",
       "      <td>0.4</td>\n",
       "    </tr>\n",
       "    <tr>\n",
       "      <td>9</td>\n",
       "      <td>3.9</td>\n",
       "      <td>0.4</td>\n",
       "    </tr>\n",
       "    <tr>\n",
       "      <td>10</td>\n",
       "      <td>3.9</td>\n",
       "      <td>0.4</td>\n",
       "    </tr>\n",
       "  </tbody>\n",
       "</table>\n",
       "</div>"
      ],
      "text/plain": [
       "    Ratings  Mod\n",
       "3       2.0  0.0\n",
       "5       2.2  0.2\n",
       "8       3.9  0.4\n",
       "9       3.9  0.4\n",
       "10      3.9  0.4"
      ]
     },
     "execution_count": 887,
     "metadata": {},
     "output_type": "execute_result"
    }
   ],
   "source": [
    "ratings_df.head()"
   ]
  },
  {
   "cell_type": "code",
   "execution_count": 888,
   "metadata": {},
   "outputs": [
    {
     "data": {
      "text/plain": [
       "array([0. , 0.2, 0.4, 0.3, 0.1, 0.1, 0.4])"
      ]
     },
     "execution_count": 888,
     "metadata": {},
     "output_type": "execute_result"
    }
   ],
   "source": [
    "ratings_df.Mod.unique()"
   ]
  },
  {
   "cell_type": "code",
   "execution_count": 889,
   "metadata": {},
   "outputs": [],
   "source": [
    "ratings_df['Mod'] = np.where(ratings_df.Mod < 0.3, ratings_df.Mod * -1 , ratings_df.Mod)"
   ]
  },
  {
   "cell_type": "code",
   "execution_count": 890,
   "metadata": {},
   "outputs": [
    {
     "data": {
      "text/plain": [
       "array([-0. , -0.2,  0.4, -0.3, -0.1, -0.1,  0.4])"
      ]
     },
     "execution_count": 890,
     "metadata": {},
     "output_type": "execute_result"
    }
   ],
   "source": [
    "ratings_df.Mod.unique()"
   ]
  },
  {
   "cell_type": "code",
   "execution_count": 891,
   "metadata": {},
   "outputs": [],
   "source": [
    "ratings_df['Mod'] = np.where(ratings_df.Mod > 0.3, 0.1 , ratings_df.Mod)"
   ]
  },
  {
   "cell_type": "code",
   "execution_count": 892,
   "metadata": {},
   "outputs": [
    {
     "data": {
      "text/plain": [
       "array([-0. , -0.2,  0.1, -0.3, -0.1, -0.1])"
      ]
     },
     "execution_count": 892,
     "metadata": {},
     "output_type": "execute_result"
    }
   ],
   "source": [
    "ratings_df.Mod.unique()"
   ]
  },
  {
   "cell_type": "code",
   "execution_count": 893,
   "metadata": {},
   "outputs": [],
   "source": [
    "ratings_df['Mod'] = np.where(ratings_df.Mod < -0.25, 0.2 , ratings_df.Mod)"
   ]
  },
  {
   "cell_type": "code",
   "execution_count": 894,
   "metadata": {},
   "outputs": [
    {
     "data": {
      "text/plain": [
       "array([-0. , -0.2,  0.1,  0.2, -0.1, -0.1])"
      ]
     },
     "execution_count": 894,
     "metadata": {},
     "output_type": "execute_result"
    }
   ],
   "source": [
    "ratings_df.Mod.unique()"
   ]
  },
  {
   "cell_type": "code",
   "execution_count": 895,
   "metadata": {},
   "outputs": [
    {
     "data": {
      "text/html": [
       "<div>\n",
       "<style scoped>\n",
       "    .dataframe tbody tr th:only-of-type {\n",
       "        vertical-align: middle;\n",
       "    }\n",
       "\n",
       "    .dataframe tbody tr th {\n",
       "        vertical-align: top;\n",
       "    }\n",
       "\n",
       "    .dataframe thead th {\n",
       "        text-align: right;\n",
       "    }\n",
       "</style>\n",
       "<table border=\"1\" class=\"dataframe\">\n",
       "  <thead>\n",
       "    <tr style=\"text-align: right;\">\n",
       "      <th></th>\n",
       "      <th>Ratings</th>\n",
       "      <th>Mod</th>\n",
       "    </tr>\n",
       "  </thead>\n",
       "  <tbody>\n",
       "    <tr>\n",
       "      <td>3</td>\n",
       "      <td>2.0</td>\n",
       "      <td>-0.0</td>\n",
       "    </tr>\n",
       "    <tr>\n",
       "      <td>5</td>\n",
       "      <td>2.2</td>\n",
       "      <td>-0.2</td>\n",
       "    </tr>\n",
       "    <tr>\n",
       "      <td>8</td>\n",
       "      <td>3.9</td>\n",
       "      <td>0.1</td>\n",
       "    </tr>\n",
       "    <tr>\n",
       "      <td>9</td>\n",
       "      <td>3.9</td>\n",
       "      <td>0.1</td>\n",
       "    </tr>\n",
       "    <tr>\n",
       "      <td>10</td>\n",
       "      <td>3.9</td>\n",
       "      <td>0.1</td>\n",
       "    </tr>\n",
       "  </tbody>\n",
       "</table>\n",
       "</div>"
      ],
      "text/plain": [
       "    Ratings  Mod\n",
       "3       2.0 -0.0\n",
       "5       2.2 -0.2\n",
       "8       3.9  0.1\n",
       "9       3.9  0.1\n",
       "10      3.9  0.1"
      ]
     },
     "execution_count": 895,
     "metadata": {},
     "output_type": "execute_result"
    }
   ],
   "source": [
    "ratings_df.head()"
   ]
  },
  {
   "cell_type": "code",
   "execution_count": 896,
   "metadata": {},
   "outputs": [],
   "source": [
    "ratings_df['New'] = ratings_df['Ratings'] + ratings_df['Mod']"
   ]
  },
  {
   "cell_type": "code",
   "execution_count": 897,
   "metadata": {},
   "outputs": [
    {
     "data": {
      "text/html": [
       "<div>\n",
       "<style scoped>\n",
       "    .dataframe tbody tr th:only-of-type {\n",
       "        vertical-align: middle;\n",
       "    }\n",
       "\n",
       "    .dataframe tbody tr th {\n",
       "        vertical-align: top;\n",
       "    }\n",
       "\n",
       "    .dataframe thead th {\n",
       "        text-align: right;\n",
       "    }\n",
       "</style>\n",
       "<table border=\"1\" class=\"dataframe\">\n",
       "  <thead>\n",
       "    <tr style=\"text-align: right;\">\n",
       "      <th></th>\n",
       "      <th>Ratings</th>\n",
       "      <th>Mod</th>\n",
       "      <th>New</th>\n",
       "    </tr>\n",
       "  </thead>\n",
       "  <tbody>\n",
       "    <tr>\n",
       "      <td>3</td>\n",
       "      <td>2.0</td>\n",
       "      <td>-0.0</td>\n",
       "      <td>2.0</td>\n",
       "    </tr>\n",
       "    <tr>\n",
       "      <td>5</td>\n",
       "      <td>2.2</td>\n",
       "      <td>-0.2</td>\n",
       "      <td>2.0</td>\n",
       "    </tr>\n",
       "    <tr>\n",
       "      <td>8</td>\n",
       "      <td>3.9</td>\n",
       "      <td>0.1</td>\n",
       "      <td>4.0</td>\n",
       "    </tr>\n",
       "    <tr>\n",
       "      <td>9</td>\n",
       "      <td>3.9</td>\n",
       "      <td>0.1</td>\n",
       "      <td>4.0</td>\n",
       "    </tr>\n",
       "    <tr>\n",
       "      <td>10</td>\n",
       "      <td>3.9</td>\n",
       "      <td>0.1</td>\n",
       "      <td>4.0</td>\n",
       "    </tr>\n",
       "    <tr>\n",
       "      <td>...</td>\n",
       "      <td>...</td>\n",
       "      <td>...</td>\n",
       "      <td>...</td>\n",
       "    </tr>\n",
       "    <tr>\n",
       "      <td>2670</td>\n",
       "      <td>3.7</td>\n",
       "      <td>-0.2</td>\n",
       "      <td>3.5</td>\n",
       "    </tr>\n",
       "    <tr>\n",
       "      <td>2671</td>\n",
       "      <td>4.2</td>\n",
       "      <td>-0.2</td>\n",
       "      <td>4.0</td>\n",
       "    </tr>\n",
       "    <tr>\n",
       "      <td>2672</td>\n",
       "      <td>4.0</td>\n",
       "      <td>-0.0</td>\n",
       "      <td>4.0</td>\n",
       "    </tr>\n",
       "    <tr>\n",
       "      <td>2674</td>\n",
       "      <td>4.2</td>\n",
       "      <td>-0.2</td>\n",
       "      <td>4.0</td>\n",
       "    </tr>\n",
       "    <tr>\n",
       "      <td>2675</td>\n",
       "      <td>4.2</td>\n",
       "      <td>-0.2</td>\n",
       "      <td>4.0</td>\n",
       "    </tr>\n",
       "  </tbody>\n",
       "</table>\n",
       "<p>1925 rows × 3 columns</p>\n",
       "</div>"
      ],
      "text/plain": [
       "      Ratings  Mod  New\n",
       "3         2.0 -0.0  2.0\n",
       "5         2.2 -0.2  2.0\n",
       "8         3.9  0.1  4.0\n",
       "9         3.9  0.1  4.0\n",
       "10        3.9  0.1  4.0\n",
       "...       ...  ...  ...\n",
       "2670      3.7 -0.2  3.5\n",
       "2671      4.2 -0.2  4.0\n",
       "2672      4.0 -0.0  4.0\n",
       "2674      4.2 -0.2  4.0\n",
       "2675      4.2 -0.2  4.0\n",
       "\n",
       "[1925 rows x 3 columns]"
      ]
     },
     "execution_count": 897,
     "metadata": {},
     "output_type": "execute_result"
    }
   ],
   "source": [
    "ratings_df"
   ]
  },
  {
   "cell_type": "code",
   "execution_count": 898,
   "metadata": {},
   "outputs": [
    {
     "data": {
      "text/plain": [
       "<matplotlib.axes._subplots.AxesSubplot at 0x2a3d84ea0c8>"
      ]
     },
     "execution_count": 898,
     "metadata": {},
     "output_type": "execute_result"
    },
    {
     "data": {
      "image/png": "[encoded data removed]",
      "text/plain": [
       "<Figure size 720x360 with 1 Axes>"
      ]
     },
     "metadata": {
      "needs_background": "light"
     },
     "output_type": "display_data"
    }
   ],
   "source": [
    "plt.rcParams['figure.figsize'] = [10, 5]\n",
    "ratings_df.New.value_counts().sort_values().plot(kind = 'barh',edgecolor='black',\n",
    "                                                     linewidth='1', grid=True, x = 'Count', y = 'Ratings')"
   ]
  },
  {
   "cell_type": "code",
   "execution_count": 899,
   "metadata": {},
   "outputs": [
    {
     "data": {
      "text/plain": [
       "count            2676\n",
       "unique            423\n",
       "top       Seattle, WA\n",
       "freq              277\n",
       "Name: Location, dtype: object"
      ]
     },
     "execution_count": 899,
     "metadata": {},
     "output_type": "execute_result"
    }
   ],
   "source": [
    "data_scientist_trends.Location.describe(include='all')"
   ]
  },
  {
   "cell_type": "code",
   "execution_count": 900,
   "metadata": {},
   "outputs": [],
   "source": [
    "data_scientist_trends['Location'] = data_scientist_trends['Location'].str.split('|').str[0]\n",
    "data_scientist_trends['Location'] = data_scientist_trends['Location'].str.strip()"
   ]
  },
  {
   "cell_type": "code",
   "execution_count": 901,
   "metadata": {},
   "outputs": [
    {
     "data": {
      "text/plain": [
       "count            2676\n",
       "unique            338\n",
       "top       Seattle, WA\n",
       "freq              278\n",
       "Name: Location, dtype: object"
      ]
     },
     "execution_count": 901,
     "metadata": {},
     "output_type": "execute_result"
    }
   ],
   "source": [
    "data_scientist_trends.Location.describe()"
   ]
  },
  {
   "cell_type": "code",
   "execution_count": 902,
   "metadata": {},
   "outputs": [
    {
     "data": {
      "text/plain": [
       "0    Toronto, ON\n",
       "1    Toronto, ON\n",
       "2    Toronto, ON\n",
       "3    Toronto, ON\n",
       "4    Toronto, ON\n",
       "Name: Location, dtype: object"
      ]
     },
     "execution_count": 902,
     "metadata": {},
     "output_type": "execute_result"
    }
   ],
   "source": [
    "data_scientist_trends.Location.head()"
   ]
  },
  {
   "cell_type": "code",
   "execution_count": 903,
   "metadata": {},
   "outputs": [
    {
     "name": "stdout",
     "output_type": "stream",
     "text": [
      "Seattle, WA                      278\n",
      "New York, NY                     214\n",
      "San Francisco, CA                186\n",
      "Washington, DC                    97\n",
      "Toronto, ON                       91\n",
      "Montréal, QC                      72\n",
      "Austin, TX                        65\n",
      "Los Angeles, CA                   50\n",
      "San Francisco, CA 94103           43\n",
      "McLean, VA                        43\n",
      "Redmond, WA                       42\n",
      "Vancouver, BC                     39\n",
      "Arlington, VA                     31\n",
      "McLean, VA 22102                  30\n",
      "Herndon, VA                       28\n",
      "San Francisco, CA 94105           28\n",
      "Washington, DC 20006              27\n",
      "New York, NY 10011                23\n",
      "Gaithersburg, MD 20878            22\n",
      "Arlington, VA 22202               21\n",
      "Redwood City, CA                  21\n",
      "Springfield, VA                   21\n",
      "San Mateo, CA                     20\n",
      "New York, NY 10017                19\n",
      "Ottawa, ON                        19\n",
      "San Francisco, CA 94104           18\n",
      "Alexandria, VA                    18\n",
      "Seattle, WA 98101                 17\n",
      "Santa Monica, CA                  17\n",
      "San Francisco Bay Area, CA        16\n",
      "Laurel, MD 20708                  16\n",
      "Fort Meade, MD                    16\n",
      "South San Francisco, CA 94080     16\n",
      "Seattle, WA 98104                 15\n",
      "San Francisco, CA 94107           15\n",
      "Chantilly, VA                     15\n",
      "Chantilly, VA 20151               15\n",
      "Bellevue, WA                      14\n",
      "New York, NY 10010                14\n",
      "Reston, VA                        14\n",
      "Bethesda, MD                      14\n",
      "New York, NY 10018                14\n",
      "Seattle, WA 98109                 13\n",
      "Mississauga, ON                   13\n",
      "Culver City, CA                   12\n",
      "New York, NY 10016                12\n",
      "New York, NY 10001                11\n",
      "Seattle, WA 98121                 11\n",
      "San Francisco, CA 94111           11\n",
      "Name: Location, dtype: int64\n"
     ]
    }
   ],
   "source": [
    "Location_count = data_scientist_trends.Location.value_counts()\n",
    "print(Location_count[Location_count>10])"
   ]
  },
  {
   "cell_type": "code",
   "execution_count": 904,
   "metadata": {},
   "outputs": [],
   "source": [
    "data_scientist_trends['City'] = data_scientist_trends['Location'].str.split(',').str[0]\n",
    "data_scientist_trends['State'] = data_scientist_trends['Location'].str.split(',').str[1:]\n",
    "data_scientist_trends['State'] = [' '.join(map(str, l)) for l in data_scientist_trends['State']]\n",
    "data_scientist_trends['State'] = data_scientist_trends['State'].str.strip()\n",
    "data_scientist_trends['State'] = data_scientist_trends['State'].str.split(' ').str[0]"
   ]
  },
  {
   "cell_type": "code",
   "execution_count": 908,
   "metadata": {},
   "outputs": [
    {
     "data": {
      "text/plain": [
       "count     2676\n",
       "unique      12\n",
       "top         CA\n",
       "freq       670\n",
       "Name: State, dtype: object"
      ]
     },
     "execution_count": 908,
     "metadata": {},
     "output_type": "execute_result"
    }
   ],
   "source": [
    "data_scientist_trends['State'].describe()"
   ]
  },
  {
   "cell_type": "code",
   "execution_count": 909,
   "metadata": {},
   "outputs": [
    {
     "data": {
      "text/plain": [
       "count         2676\n",
       "unique         130\n",
       "top       New York\n",
       "freq           389\n",
       "Name: City, dtype: object"
      ]
     },
     "execution_count": 909,
     "metadata": {},
     "output_type": "execute_result"
    }
   ],
   "source": [
    "data_scientist_trends['City'].describe()"
   ]
  },
  {
   "cell_type": "code",
   "execution_count": 906,
   "metadata": {},
   "outputs": [
    {
     "name": "stdout",
     "output_type": "stream",
     "text": [
      "CA    670\n",
      "WA    437\n",
      "NY    417\n",
      "VA    393\n",
      "MD    184\n",
      "DC    173\n",
      "ON    133\n",
      "TX    111\n",
      "QC     83\n",
      "BC     41\n",
      "OR     19\n",
      "AB     15\n",
      "Name: State, dtype: int64\n"
     ]
    }
   ],
   "source": [
    "State_count = data_scientist_trends.State.value_counts()\n",
    "print(State_count[State_count>10])"
   ]
  },
  {
   "cell_type": "code",
   "execution_count": 913,
   "metadata": {},
   "outputs": [
    {
     "data": {
      "text/plain": [
       "<matplotlib.axes._subplots.AxesSubplot at 0x2a3d87fddc8>"
      ]
     },
     "execution_count": 913,
     "metadata": {},
     "output_type": "execute_result"
    },
    {
     "data": {
      "image/png": "[encoded data removed]",
      "text/plain": [
       "<Figure size 720x720 with 1 Axes>"
      ]
     },
     "metadata": {
      "needs_background": "light"
     },
     "output_type": "display_data"
    }
   ],
   "source": [
    "plt.rcParams['figure.figsize'] = [10, 10]\n",
    "data_scientist_trends.State.value_counts().sort_values().plot(kind = 'barh',edgecolor='black',\n",
    "                                                     linewidth='1', grid=True)"
   ]
  },
  {
   "cell_type": "code",
   "execution_count": null,
   "metadata": {},
   "outputs": [],
   "source": [
    "# create a new column with country"
   ]
  }
 ],
 "metadata": {
  "kernelspec": {
   "display_name": "Python 3",
   "language": "python",
   "name": "python3"
  },
  "language_info": {
   "codemirror_mode": {
    "name": "ipython",
    "version": 3
   },
   "file_extension": ".py",
   "mimetype": "text/x-python",
   "name": "python",
   "nbconvert_exporter": "python",
   "pygments_lexer": "ipython3",
   "version": "3.7.4"
  }
 },
 "nbformat": 4,
 "nbformat_minor": 2
}
